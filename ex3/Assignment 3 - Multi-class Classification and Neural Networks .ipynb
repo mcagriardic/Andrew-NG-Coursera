{
 "cells": [
  {
   "cell_type": "code",
   "execution_count": 1,
   "metadata": {},
   "outputs": [],
   "source": [
    "import numpy as np\n",
    "import matplotlib.pyplot as plt\n",
    "\n",
    "from scipy.io import loadmat\n",
    "from scipy.optimize import minimize\n",
    "\n",
    "from sklearn.linear_model import LogisticRegression\n",
    "%matplotlib inline"
   ]
  },
  {
   "cell_type": "code",
   "execution_count": 2,
   "metadata": {},
   "outputs": [],
   "source": [
    "data = loadmat('data/ex3data1.mat')\n",
    "\n",
    "y = data['y']\n",
    "X = np.c_[np.ones((data[\"X\"].shape[0], 1)), data['X']]        # generates 5000x401 array"
   ]
  },
  {
   "cell_type": "code",
   "execution_count": 3,
   "metadata": {
    "scrolled": true
   },
   "outputs": [
    {
     "data": {
      "image/png": "[encoded data removed]",
      "text/plain": [
       "<Figure size 1800x1800 with 1 Axes>"
      ]
     },
     "metadata": {
      "needs_background": "light"
     },
     "output_type": "display_data"
    }
   ],
   "source": [
    "numbers = np.random.choice(X.shape[0], 25)\n",
    "fig, ax = plt.subplots(1, figsize=(25,25))\n",
    "plt.imshow(X[numbers, 1:].reshape(-1,20).T)\n",
    "plt.axis('off');\n",
    "plt.show()"
   ]
  },
  {
   "cell_type": "markdown",
   "metadata": {},
   "source": [
    "# Important Points about scipy.optimize.minimize"
   ]
  },
  {
   "cell_type": "markdown",
   "metadata": {},
   "source": [
    "<p>Minimize is a bit of a weird function. It is extremely sensitive about the dimensions of its inputs. Please note that passing, say, (5000, 1) could throw an error which is the case in <code>reg_gradient_lr</code> function; if you remove the <code>.reshape(-1, 1)</code> part of <code>h = sigmoid(X @ theta.reshape(-1, 1))</code>, the functions throws an error! although with and without reshape, we get (5000, 1).<p/>\n",
    "<p>How can we make sure that minimize works as we want it to be? Well I have experimented quite alot. For example for assignment 2, I was passing the following gradient function to minimize and it never had a problem:<br><br>\n",
    "<code>def reg_gradient(thetas, LAMBDA, <b>*args</b>):\n",
    "    h = sigmoid(X_poly @ thetas.reshape(-1, 1))\n",
    "    regularisation = (LAMBDA / m) * thetas[1:]\n",
    "    regularisation_theta_0_added = np.insert(regularisation, 0, 0, axis=0).reshape(-1, 1)\n",
    "    grad = (1 / m) * X_poly.T @ (h - y) + regularisation_theta_0_added\n",
    "    return grad.flatten()</code><br><br>Please notice the bold text, <b>*args</b>; I passed this to minimize as usual and it worked completely fine! but when I passed this (exactly the same one):\n",
    "\n",
    "\n",
    "<code>def reg_gradient_lr(theta, reg, <b>*args</b>):\n",
    "    m = y.size\n",
    "    h = sigmoid(X @ theta.reshape(-1, 1))\n",
    "    grad = (1 / m) * X.T @ (h-y) + (reg / m) * np.r_[[[0]], theta[1:].reshape(-1,1)]\n",
    "    return(grad.flatten())</code><br><br>It started giving me 0 weights! I have removed the the args and directly passed X and y and it computed the expected output.</p>\n",
    "<p>And the worst thing is, when it throws an error, since minimize wraps your passed functions, it doesn't throw an informative error. In fact at some point, I browsed inside the function that minimize calling, found the line that causing the error and after spending some time I realised that it didn't like my gradient function. Reshaped bunch of stuff, did some experiment and finally made it work. But how can you understand what exactly minimize doesn't like? Well from my experience it is either: <ul>\n",
    "<li>the *args or</li>\n",
    "<li>shapes of the arrays</li>\n",
    "</ul>Make sure to reshape everything after a matrix multiplication even if the dimensions look correct! and pass X and y directly!</p>"
   ]
  },
  {
   "cell_type": "code",
   "execution_count": 4,
   "metadata": {},
   "outputs": [],
   "source": [
    "def sigmoid(z):\n",
    "    return(1 / (1 + np.exp(-z)))"
   ]
  },
  {
   "cell_type": "code",
   "execution_count": 5,
   "metadata": {},
   "outputs": [],
   "source": [
    "EPSILON = 1e-10\n",
    "\n",
    "def reg_cost_function_lr(theta, lambda_, X, y):\n",
    "    m = y.size\n",
    "    h = sigmoid(X @ theta)   # (5000, 401) matrix\n",
    "    \n",
    "    regularisation = (lambda_ / (2 * m)) * np.sum(np.square(theta[1:]))\n",
    "    \n",
    "    J = (-1 * (1 / m) * (np.log(h + EPSILON).T.dot(y)\n",
    "                         + np.log(1 - h + EPSILON).T.dot((1 - y)))\n",
    "                         + regularisation)\n",
    "    \n",
    "    return(J[0])"
   ]
  },
  {
   "cell_type": "code",
   "execution_count": 6,
   "metadata": {},
   "outputs": [],
   "source": [
    "def reg_gradient_lr(theta, lambda_, X, y):\n",
    "    m = y.size\n",
    "    h = sigmoid(X @ theta.reshape(-1, 1))\n",
    "      \n",
    "    grad = ((1 / m) * X.T @ (h-y) + (lambda_ / m) * np.r_[[[0]], theta[1:].reshape(-1,1)])\n",
    "        \n",
    "    return(grad.flatten())"
   ]
  },
  {
   "cell_type": "code",
   "execution_count": 7,
   "metadata": {},
   "outputs": [],
   "source": [
    "def one_vs_all(X, y, lambda_):\n",
    "    n = X.shape[1]\n",
    "    classes = np.unique(y)\n",
    "    no_of_labels = classes.shape[0]\n",
    "                                                 # X.shape = (5000, 401) y.shape = (5000, 1)\n",
    "    initial_thetas = np.zeros((n, 1))            # (401, 1)\n",
    "    all_thetas = np.zeros((no_of_labels, n))     # (10, 401)\n",
    "    \n",
    "    for class_ in classes:\n",
    "        res = minimize(reg_cost_function_lr,\n",
    "                       initial_thetas,\n",
    "                       args=(lambda_, X, np.int_(y == class_)),\n",
    "                       method=None,\n",
    "                       jac=reg_gradient_lr,\n",
    "                       options={'maxiter':50})\n",
    "        all_thetas[class_ - 1] = res.x\n",
    "    \n",
    "    return all_thetas"
   ]
  },
  {
   "cell_type": "code",
   "execution_count": 8,
   "metadata": {
    "scrolled": false
   },
   "outputs": [],
   "source": [
    "all_thetas = one_vs_all(X, y, 0.1)"
   ]
  },
  {
   "cell_type": "code",
   "execution_count": 9,
   "metadata": {},
   "outputs": [],
   "source": [
    "def predict(all_thetas, features):\n",
    "    probabilities = sigmoid(X @ all_thetas.T)\n",
    "    return(np.argmax(probabilities, axis=1) + 1)"
   ]
  },
  {
   "cell_type": "code",
   "execution_count": 10,
   "metadata": {},
   "outputs": [
    {
     "data": {
      "text/plain": [
       "array([10, 10, 10, ...,  9,  9,  7])"
      ]
     },
     "execution_count": 10,
     "metadata": {},
     "output_type": "execute_result"
    }
   ],
   "source": [
    "pred = predict(all_thetas, y)\n",
    "pred"
   ]
  },
  {
   "cell_type": "code",
   "execution_count": 17,
   "metadata": {},
   "outputs": [
    {
     "name": "stdout",
     "output_type": "stream",
     "text": [
      "Training set accuracy: 93.24 %\n"
     ]
    }
   ],
   "source": [
    "print('Training set accuracy: {} %'.format(np.mean(pred == y.ravel())*100))"
   ]
  },
  {
   "cell_type": "code",
   "execution_count": 11,
   "metadata": {},
   "outputs": [
    {
     "name": "stdout",
     "output_type": "stream",
     "text": [
      "103: predicted - 5 ** actual - 0\n",
      "142: predicted - 8 ** actual - 0\n",
      "265: predicted - 4 ** actual - 0\n",
      "286: predicted - 6 ** actual - 0\n",
      "521: predicted - 5 ** actual - 1\n",
      "531: predicted - 8 ** actual - 1\n",
      "561: predicted - 5 ** actual - 1\n",
      "569: predicted - 8 ** actual - 1\n",
      "650: predicted - 8 ** actual - 1\n",
      "653: predicted - 8 ** actual - 1\n",
      "659: predicted - 8 ** actual - 1\n",
      "675: predicted - 8 ** actual - 1\n",
      "765: predicted - 2 ** actual - 1\n",
      "818: predicted - 8 ** actual - 1\n",
      "844: predicted - 5 ** actual - 1\n",
      "884: predicted - 3 ** actual - 1\n",
      "952: predicted - 5 ** actual - 1\n",
      "1006: predicted - 6 ** actual - 2\n",
      "1015: predicted - 1 ** actual - 2\n",
      "1025: predicted - 5 ** actual - 2\n",
      "1026: predicted - 7 ** actual - 2\n",
      "1041: predicted - 3 ** actual - 2\n",
      "1045: predicted - 1 ** actual - 2\n",
      "1057: predicted - 5 ** actual - 2\n",
      "1062: predicted - 8 ** actual - 2\n",
      "1081: predicted - 4 ** actual - 2\n",
      "1087: predicted - 9 ** actual - 2\n",
      "1090: predicted - 3 ** actual - 2\n",
      "1097: predicted - 8 ** actual - 2\n",
      "1103: predicted - 7 ** actual - 2\n",
      "1112: predicted - 8 ** actual - 2\n",
      "1125: predicted - 1 ** actual - 2\n",
      "1130: predicted - 9 ** actual - 2\n",
      "1145: predicted - 4 ** actual - 2\n",
      "1153: predicted - 4 ** actual - 2\n",
      "1155: predicted - 4 ** actual - 2\n",
      "1163: predicted - 8 ** actual - 2\n",
      "1169: predicted - 4 ** actual - 2\n",
      "1185: predicted - 7 ** actual - 2\n",
      "1187: predicted - 4 ** actual - 2\n",
      "1189: predicted - 8 ** actual - 2\n",
      "1207: predicted - 8 ** actual - 2\n",
      "1213: predicted - 0 ** actual - 2\n",
      "1231: predicted - 8 ** actual - 2\n",
      "1267: predicted - 7 ** actual - 2\n",
      "1271: predicted - 3 ** actual - 2\n",
      "1292: predicted - 4 ** actual - 2\n",
      "1311: predicted - 8 ** actual - 2\n",
      "1362: predicted - 8 ** actual - 2\n",
      "1363: predicted - 5 ** actual - 2\n",
      "1368: predicted - 0 ** actual - 2\n",
      "1383: predicted - 8 ** actual - 2\n",
      "1394: predicted - 4 ** actual - 2\n",
      "1399: predicted - 8 ** actual - 2\n",
      "1408: predicted - 6 ** actual - 2\n",
      "1410: predicted - 8 ** actual - 2\n",
      "1412: predicted - 4 ** actual - 2\n",
      "1413: predicted - 4 ** actual - 2\n",
      "1421: predicted - 8 ** actual - 2\n",
      "1423: predicted - 8 ** actual - 2\n",
      "1440: predicted - 1 ** actual - 2\n",
      "1453: predicted - 6 ** actual - 2\n",
      "1476: predicted - 7 ** actual - 2\n",
      "1479: predicted - 4 ** actual - 2\n",
      "1484: predicted - 5 ** actual - 2\n",
      "1488: predicted - 7 ** actual - 2\n",
      "1494: predicted - 0 ** actual - 2\n",
      "1498: predicted - 3 ** actual - 2\n",
      "1524: predicted - 5 ** actual - 3\n",
      "1550: predicted - 7 ** actual - 3\n",
      "1556: predicted - 5 ** actual - 3\n",
      "1563: predicted - 2 ** actual - 3\n",
      "1564: predicted - 2 ** actual - 3\n",
      "1570: predicted - 5 ** actual - 3\n",
      "1588: predicted - 6 ** actual - 3\n",
      "1599: predicted - 2 ** actual - 3\n",
      "1602: predicted - 5 ** actual - 3\n",
      "1607: predicted - 5 ** actual - 3\n",
      "1611: predicted - 8 ** actual - 3\n",
      "1617: predicted - 9 ** actual - 3\n",
      "1618: predicted - 5 ** actual - 3\n",
      "1620: predicted - 2 ** actual - 3\n",
      "1626: predicted - 2 ** actual - 3\n",
      "1628: predicted - 2 ** actual - 3\n",
      "1629: predicted - 2 ** actual - 3\n",
      "1630: predicted - 5 ** actual - 3\n",
      "1700: predicted - 5 ** actual - 3\n",
      "1701: predicted - 7 ** actual - 3\n",
      "1707: predicted - 1 ** actual - 3\n",
      "1725: predicted - 1 ** actual - 3\n",
      "1732: predicted - 2 ** actual - 3\n",
      "1757: predicted - 5 ** actual - 3\n",
      "1760: predicted - 5 ** actual - 3\n",
      "1763: predicted - 2 ** actual - 3\n",
      "1764: predicted - 7 ** actual - 3\n",
      "1766: predicted - 5 ** actual - 3\n",
      "1776: predicted - 5 ** actual - 3\n",
      "1791: predicted - 8 ** actual - 3\n",
      "1798: predicted - 5 ** actual - 3\n",
      "1801: predicted - 9 ** actual - 3\n",
      "1804: predicted - 5 ** actual - 3\n",
      "1876: predicted - 2 ** actual - 3\n",
      "1879: predicted - 2 ** actual - 3\n",
      "1898: predicted - 2 ** actual - 3\n",
      "1905: predicted - 5 ** actual - 3\n",
      "1923: predicted - 9 ** actual - 3\n",
      "1936: predicted - 5 ** actual - 3\n",
      "1945: predicted - 8 ** actual - 3\n",
      "1958: predicted - 5 ** actual - 3\n",
      "1959: predicted - 1 ** actual - 3\n",
      "1963: predicted - 5 ** actual - 3\n",
      "1970: predicted - 7 ** actual - 3\n",
      "1972: predicted - 8 ** actual - 3\n",
      "1976: predicted - 5 ** actual - 3\n",
      "1979: predicted - 7 ** actual - 3\n",
      "1981: predicted - 2 ** actual - 3\n",
      "1999: predicted - 5 ** actual - 3\n",
      "2078: predicted - 9 ** actual - 4\n",
      "2087: predicted - 6 ** actual - 4\n",
      "2093: predicted - 8 ** actual - 4\n",
      "2104: predicted - 9 ** actual - 4\n",
      "2110: predicted - 2 ** actual - 4\n",
      "2112: predicted - 1 ** actual - 4\n",
      "2118: predicted - 9 ** actual - 4\n",
      "2166: predicted - 9 ** actual - 4\n",
      "2171: predicted - 9 ** actual - 4\n",
      "2187: predicted - 9 ** actual - 4\n",
      "2194: predicted - 8 ** actual - 4\n",
      "2195: predicted - 2 ** actual - 4\n",
      "2201: predicted - 9 ** actual - 4\n",
      "2217: predicted - 2 ** actual - 4\n",
      "2238: predicted - 9 ** actual - 4\n",
      "2240: predicted - 6 ** actual - 4\n",
      "2270: predicted - 9 ** actual - 4\n",
      "2277: predicted - 8 ** actual - 4\n",
      "2286: predicted - 9 ** actual - 4\n",
      "2304: predicted - 6 ** actual - 4\n",
      "2314: predicted - 9 ** actual - 4\n",
      "2334: predicted - 6 ** actual - 4\n",
      "2352: predicted - 2 ** actual - 4\n",
      "2361: predicted - 6 ** actual - 4\n",
      "2384: predicted - 9 ** actual - 4\n",
      "2393: predicted - 9 ** actual - 4\n",
      "2414: predicted - 9 ** actual - 4\n",
      "2424: predicted - 9 ** actual - 4\n",
      "2452: predicted - 8 ** actual - 4\n",
      "2467: predicted - 6 ** actual - 4\n",
      "2498: predicted - 9 ** actual - 4\n",
      "2505: predicted - 9 ** actual - 5\n",
      "2506: predicted - 3 ** actual - 5\n",
      "2516: predicted - 8 ** actual - 5\n",
      "2520: predicted - 6 ** actual - 5\n",
      "2533: predicted - 9 ** actual - 5\n",
      "2549: predicted - 8 ** actual - 5\n",
      "2556: predicted - 2 ** actual - 5\n",
      "2564: predicted - 3 ** actual - 5\n",
      "2570: predicted - 4 ** actual - 5\n",
      "2574: predicted - 3 ** actual - 5\n",
      "2578: predicted - 8 ** actual - 5\n",
      "2580: predicted - 4 ** actual - 5\n",
      "2583: predicted - 8 ** actual - 5\n",
      "2593: predicted - 3 ** actual - 5\n",
      "2598: predicted - 4 ** actual - 5\n",
      "2599: predicted - 8 ** actual - 5\n",
      "2601: predicted - 6 ** actual - 5\n",
      "2606: predicted - 3 ** actual - 5\n",
      "2607: predicted - 8 ** actual - 5\n",
      "2610: predicted - 6 ** actual - 5\n",
      "2616: predicted - 8 ** actual - 5\n",
      "2618: predicted - 3 ** actual - 5\n",
      "2620: predicted - 9 ** actual - 5\n",
      "2654: predicted - 8 ** actual - 5\n",
      "2680: predicted - 9 ** actual - 5\n",
      "2697: predicted - 6 ** actual - 5\n",
      "2698: predicted - 6 ** actual - 5\n",
      "2704: predicted - 3 ** actual - 5\n",
      "2718: predicted - 3 ** actual - 5\n",
      "2739: predicted - 2 ** actual - 5\n",
      "2752: predicted - 3 ** actual - 5\n",
      "2788: predicted - 0 ** actual - 5\n",
      "2790: predicted - 3 ** actual - 5\n",
      "2796: predicted - 1 ** actual - 5\n",
      "2840: predicted - 8 ** actual - 5\n",
      "2850: predicted - 3 ** actual - 5\n",
      "2857: predicted - 9 ** actual - 5\n",
      "2906: predicted - 3 ** actual - 5\n",
      "2907: predicted - 0 ** actual - 5\n",
      "2908: predicted - 6 ** actual - 5\n",
      "2920: predicted - 0 ** actual - 5\n",
      "2943: predicted - 4 ** actual - 5\n",
      "2947: predicted - 8 ** actual - 5\n",
      "2952: predicted - 4 ** actual - 5\n",
      "2958: predicted - 9 ** actual - 5\n",
      "2965: predicted - 9 ** actual - 5\n",
      "2977: predicted - 8 ** actual - 5\n",
      "2984: predicted - 3 ** actual - 5\n",
      "2992: predicted - 8 ** actual - 5\n",
      "2995: predicted - 3 ** actual - 5\n",
      "3043: predicted - 0 ** actual - 6\n",
      "3048: predicted - 4 ** actual - 6\n",
      "3060: predicted - 9 ** actual - 6\n",
      "3078: predicted - 8 ** actual - 6\n",
      "3081: predicted - 1 ** actual - 6\n",
      "3174: predicted - 5 ** actual - 6\n",
      "3204: predicted - 1 ** actual - 6\n",
      "3236: predicted - 5 ** actual - 6\n",
      "3328: predicted - 8 ** actual - 6\n",
      "3341: predicted - 5 ** actual - 6\n",
      "3351: predicted - 5 ** actual - 6\n",
      "3382: predicted - 0 ** actual - 6\n",
      "3400: predicted - 5 ** actual - 6\n",
      "3436: predicted - 7 ** actual - 6\n",
      "3480: predicted - 5 ** actual - 6\n",
      "3485: predicted - 2 ** actual - 6\n",
      "3515: predicted - 2 ** actual - 7\n",
      "3521: predicted - 9 ** actual - 7\n",
      "3537: predicted - 1 ** actual - 7\n",
      "3563: predicted - 9 ** actual - 7\n",
      "3595: predicted - 2 ** actual - 7\n",
      "3616: predicted - 4 ** actual - 7\n",
      "3619: predicted - 4 ** actual - 7\n",
      "3627: predicted - 4 ** actual - 7\n",
      "3629: predicted - 9 ** actual - 7\n",
      "3633: predicted - 9 ** actual - 7\n",
      "3634: predicted - 0 ** actual - 7\n",
      "3660: predicted - 9 ** actual - 7\n",
      "3664: predicted - 5 ** actual - 7\n",
      "3668: predicted - 9 ** actual - 7\n",
      "3687: predicted - 9 ** actual - 7\n",
      "3692: predicted - 9 ** actual - 7\n",
      "3701: predicted - 1 ** actual - 7\n",
      "3722: predicted - 9 ** actual - 7\n",
      "3725: predicted - 0 ** actual - 7\n",
      "3732: predicted - 2 ** actual - 7\n",
      "3767: predicted - 9 ** actual - 7\n",
      "3795: predicted - 2 ** actual - 7\n",
      "3823: predicted - 9 ** actual - 7\n",
      "3830: predicted - 8 ** actual - 7\n",
      "3838: predicted - 9 ** actual - 7\n",
      "3853: predicted - 9 ** actual - 7\n",
      "3877: predicted - 9 ** actual - 7\n",
      "3895: predicted - 8 ** actual - 7\n",
      "3908: predicted - 6 ** actual - 7\n",
      "3909: predicted - 9 ** actual - 7\n",
      "3937: predicted - 9 ** actual - 7\n",
      "3955: predicted - 9 ** actual - 7\n",
      "3972: predicted - 9 ** actual - 7\n",
      "4012: predicted - 1 ** actual - 8\n",
      "4032: predicted - 2 ** actual - 8\n",
      "4041: predicted - 5 ** actual - 8\n",
      "4045: predicted - 5 ** actual - 8\n",
      "4051: predicted - 6 ** actual - 8\n",
      "4057: predicted - 1 ** actual - 8\n",
      "4069: predicted - 2 ** actual - 8\n",
      "4076: predicted - 4 ** actual - 8\n",
      "4100: predicted - 1 ** actual - 8\n",
      "4110: predicted - 7 ** actual - 8\n",
      "4125: predicted - 6 ** actual - 8\n",
      "4140: predicted - 3 ** actual - 8\n",
      "4168: predicted - 9 ** actual - 8\n",
      "4177: predicted - 1 ** actual - 8\n",
      "4183: predicted - 1 ** actual - 8\n",
      "4197: predicted - 9 ** actual - 8\n",
      "4202: predicted - 6 ** actual - 8\n",
      "4231: predicted - 0 ** actual - 8\n",
      "4237: predicted - 5 ** actual - 8\n",
      "4248: predicted - 9 ** actual - 8\n",
      "4250: predicted - 3 ** actual - 8\n",
      "4252: predicted - 9 ** actual - 8\n",
      "4254: predicted - 5 ** actual - 8\n",
      "4256: predicted - 5 ** actual - 8\n",
      "4265: predicted - 4 ** actual - 8\n",
      "4276: predicted - 5 ** actual - 8\n",
      "4294: predicted - 2 ** actual - 8\n",
      "4306: predicted - 1 ** actual - 8\n",
      "4307: predicted - 1 ** actual - 8\n",
      "4319: predicted - 3 ** actual - 8\n",
      "4325: predicted - 5 ** actual - 8\n",
      "4343: predicted - 3 ** actual - 8\n",
      "4362: predicted - 5 ** actual - 8\n",
      "4367: predicted - 6 ** actual - 8\n",
      "4379: predicted - 5 ** actual - 8\n",
      "4384: predicted - 2 ** actual - 8\n",
      "4393: predicted - 6 ** actual - 8\n",
      "4395: predicted - 6 ** actual - 8\n",
      "4415: predicted - 6 ** actual - 8\n",
      "4422: predicted - 3 ** actual - 8\n",
      "4428: predicted - 5 ** actual - 8\n",
      "4442: predicted - 9 ** actual - 8\n",
      "4455: predicted - 2 ** actual - 8\n",
      "4460: predicted - 3 ** actual - 8\n",
      "4471: predicted - 5 ** actual - 8\n",
      "4477: predicted - 3 ** actual - 8\n",
      "4503: predicted - 7 ** actual - 9\n",
      "4506: predicted - 5 ** actual - 9\n",
      "4509: predicted - 0 ** actual - 9\n",
      "4519: predicted - 7 ** actual - 9\n",
      "4529: predicted - 5 ** actual - 9\n",
      "4531: predicted - 7 ** actual - 9\n",
      "4537: predicted - 3 ** actual - 9\n",
      "4553: predicted - 4 ** actual - 9\n",
      "4568: predicted - 7 ** actual - 9\n",
      "4581: predicted - 4 ** actual - 9\n",
      "4582: predicted - 2 ** actual - 9\n",
      "4590: predicted - 7 ** actual - 9\n",
      "4593: predicted - 0 ** actual - 9\n",
      "4612: predicted - 7 ** actual - 9\n",
      "4627: predicted - 8 ** actual - 9\n",
      "4636: predicted - 3 ** actual - 9\n",
      "4639: predicted - 3 ** actual - 9\n",
      "4655: predicted - 4 ** actual - 9\n",
      "4656: predicted - 7 ** actual - 9\n",
      "4672: predicted - 7 ** actual - 9\n",
      "4708: predicted - 7 ** actual - 9\n",
      "4736: predicted - 5 ** actual - 9\n",
      "4752: predicted - 7 ** actual - 9\n",
      "4769: predicted - 7 ** actual - 9\n",
      "4774: predicted - 2 ** actual - 9\n",
      "4781: predicted - 2 ** actual - 9\n",
      "4783: predicted - 7 ** actual - 9\n",
      "4793: predicted - 4 ** actual - 9\n",
      "4799: predicted - 5 ** actual - 9\n",
      "4801: predicted - 7 ** actual - 9\n",
      "4810: predicted - 3 ** actual - 9\n",
      "4833: predicted - 3 ** actual - 9\n",
      "4844: predicted - 1 ** actual - 9\n",
      "4853: predicted - 7 ** actual - 9\n",
      "4860: predicted - 7 ** actual - 9\n",
      "4863: predicted - 7 ** actual - 9\n",
      "4865: predicted - 8 ** actual - 9\n",
      "4902: predicted - 4 ** actual - 9\n",
      "4906: predicted - 7 ** actual - 9\n",
      "4930: predicted - 4 ** actual - 9\n",
      "4936: predicted - 0 ** actual - 9\n",
      "4938: predicted - 4 ** actual - 9\n",
      "4944: predicted - 0 ** actual - 9\n",
      "4990: predicted - 3 ** actual - 9\n",
      "4999: predicted - 7 ** actual - 9\n"
     ]
    }
   ],
   "source": [
    "for index, (p, a) in enumerate(zip(pred, y)):\n",
    "    if p != a:\n",
    "        if a == 10:\n",
    "            a = [0]\n",
    "        elif p == 10:\n",
    "            p = 0\n",
    "        print(\"{}: predicted - {} ** actual - {}\".format(index, p, a[0]))"
   ]
  },
  {
   "cell_type": "code",
   "execution_count": 12,
   "metadata": {},
   "outputs": [],
   "source": [
    "def plot_number(number):\n",
    "    fig, ax = plt.subplots(1, figsize=(2,2))\n",
    "    plt.imshow(X[number, 1:].reshape(-1,20).T)\n",
    "    plt.axis('off');"
   ]
  },
  {
   "cell_type": "code",
   "execution_count": 13,
   "metadata": {
    "scrolled": false
   },
   "outputs": [
    {
     "data": {
      "image/png": "[encoded data removed]",
      "text/plain": [
       "<Figure size 144x144 with 1 Axes>"
      ]
     },
     "metadata": {
      "needs_background": "light"
     },
     "output_type": "display_data"
    }
   ],
   "source": [
    "plot_number(3382)"
   ]
  },
  {
   "cell_type": "markdown",
   "metadata": {},
   "source": [
    "# Multiclass Logistic Regression with Scikit-learn"
   ]
  },
  {
   "cell_type": "code",
   "execution_count": 14,
   "metadata": {},
   "outputs": [
    {
     "name": "stderr",
     "output_type": "stream",
     "text": [
      "/home/cagri/anaconda3/envs/my_env/lib/python3.7/site-packages/sklearn/linear_model/logistic.py:469: FutureWarning: Default multi_class will be changed to 'auto' in 0.22. Specify the multi_class option to silence this warning.\n",
      "  \"this warning.\", FutureWarning)\n"
     ]
    },
    {
     "data": {
      "text/plain": [
       "LogisticRegression(C=10, class_weight=None, dual=False, fit_intercept=True,\n",
       "                   intercept_scaling=1, l1_ratio=None, max_iter=100,\n",
       "                   multi_class='warn', n_jobs=None, penalty='l2',\n",
       "                   random_state=None, solver='liblinear', tol=0.0001, verbose=0,\n",
       "                   warm_start=False)"
      ]
     },
     "execution_count": 14,
     "metadata": {},
     "output_type": "execute_result"
    }
   ],
   "source": [
    "clf = LogisticRegression(C=10, penalty='l2', solver='liblinear')\n",
    "# Scikit-learn fits intercept automatically, so we exclude first column with 'ones' from X when fitting.\n",
    "clf.fit(X[:,1:],y.ravel())"
   ]
  },
  {
   "cell_type": "code",
   "execution_count": 16,
   "metadata": {},
   "outputs": [
    {
     "name": "stdout",
     "output_type": "stream",
     "text": [
      "Training set accuracy: 96.5 %\n"
     ]
    }
   ],
   "source": [
    "pred2 = clf.predict(X[:,1:])\n",
    "print('Training set accuracy: {} %'.format(np.mean(pred2 == y.ravel())*100))"
   ]
  },
  {
   "cell_type": "markdown",
   "metadata": {},
   "source": [
    "# Neural Networks"
   ]
  },
  {
   "cell_type": "code",
   "execution_count": 18,
   "metadata": {},
   "outputs": [
    {
     "data": {
      "text/plain": [
       "dict_keys(['__header__', '__version__', '__globals__', 'Theta1', 'Theta2'])"
      ]
     },
     "execution_count": 18,
     "metadata": {},
     "output_type": "execute_result"
    }
   ],
   "source": [
    "weights = loadmat('data/ex3weights.mat')\n",
    "weights.keys()"
   ]
  },
  {
   "cell_type": "code",
   "execution_count": 19,
   "metadata": {},
   "outputs": [],
   "source": [
    "theta_1 = weights[\"Theta1\"]\n",
    "theta_2 = weights[\"Theta2\"]"
   ]
  },
  {
   "cell_type": "code",
   "execution_count": 20,
   "metadata": {
    "scrolled": true
   },
   "outputs": [],
   "source": [
    "def neural_network():\n",
    "    pass"
   ]
  },
  {
   "cell_type": "code",
   "execution_count": 24,
   "metadata": {},
   "outputs": [
    {
     "data": {
      "text/plain": [
       "(25, 401)"
      ]
     },
     "execution_count": 24,
     "metadata": {},
     "output_type": "execute_result"
    }
   ],
   "source": [
    "theta_1.shape"
   ]
  },
  {
   "cell_type": "code",
   "execution_count": 25,
   "metadata": {},
   "outputs": [
    {
     "data": {
      "text/plain": [
       "(10, 26)"
      ]
     },
     "execution_count": 25,
     "metadata": {},
     "output_type": "execute_result"
    }
   ],
   "source": [
    "theta_2.shape"
   ]
  },
  {
   "cell_type": "code",
   "execution_count": 26,
   "metadata": {},
   "outputs": [
    {
     "data": {
      "text/plain": [
       "(5000, 401)"
      ]
     },
     "execution_count": 26,
     "metadata": {},
     "output_type": "execute_result"
    }
   ],
   "source": [
    "X.shape"
   ]
  },
  {
   "cell_type": "code",
   "execution_count": 27,
   "metadata": {},
   "outputs": [
    {
     "data": {
      "text/plain": [
       "array([[ -2.93684669,  -2.45058587,   4.95510333, ...,   3.56635593,\n",
       "          2.81388641,  -2.1195223 ],\n",
       "       [ -4.81302157,  -2.92257775,   2.6445065 , ...,   2.10497303,\n",
       "          4.69948787,  -2.76096862],\n",
       "       [ -4.24056958,  -3.68698052,   5.99656398, ...,   1.54599347,\n",
       "          3.08971226,  -2.32990819],\n",
       "       ...,\n",
       "       [ -0.86267303,   1.00939507,  -1.67526051, ...,   1.8185898 ,\n",
       "         -3.18203449,  -1.72539781],\n",
       "       [  1.74408423,  -0.58216518,  -1.49164167, ...,   4.17481481,\n",
       "         -0.96739536,  -3.08906563],\n",
       "       [  3.55683614, -12.11330792,   5.01096205, ...,   7.17585008,\n",
       "          2.15484114,  -2.9424052 ]])"
      ]
     },
     "execution_count": 27,
     "metadata": {},
     "output_type": "execute_result"
    }
   ],
   "source": [
    "X @ theta_1.T"
   ]
  },
  {
   "cell_type": "code",
   "execution_count": 50,
   "metadata": {},
   "outputs": [],
   "source": [
    "z2 = (theta_1 @ X.T)"
   ]
  },
  {
   "cell_type": "code",
   "execution_count": 86,
   "metadata": {
    "scrolled": true
   },
   "outputs": [],
   "source": [
    "a2 = np.c_[np.ones((X.shape[0], 1)), sigmoid(z2).T]"
   ]
  },
  {
   "cell_type": "code",
   "execution_count": 89,
   "metadata": {},
   "outputs": [],
   "source": [
    "z3 = theta_2 @ a2.T"
   ]
  },
  {
   "cell_type": "code",
   "execution_count": 90,
   "metadata": {},
   "outputs": [],
   "source": [
    "g = sigmoid(z3)"
   ]
  },
  {
   "cell_type": "code",
   "execution_count": 92,
   "metadata": {},
   "outputs": [
    {
     "data": {
      "text/plain": [
       "(10, 5000)"
      ]
     },
     "execution_count": 92,
     "metadata": {},
     "output_type": "execute_result"
    }
   ],
   "source": [
    "g.shape"
   ]
  },
  {
   "cell_type": "code",
   "execution_count": 101,
   "metadata": {},
   "outputs": [
    {
     "data": {
      "text/plain": [
       "9"
      ]
     },
     "execution_count": 101,
     "metadata": {},
     "output_type": "execute_result"
    }
   ],
   "source": [
    "np.argmax(g.T[0])"
   ]
  },
  {
   "cell_type": "code",
   "execution_count": null,
   "metadata": {},
   "outputs": [],
   "source": []
  }
 ],
 "metadata": {
  "kernelspec": {
   "display_name": "Python 3",
   "language": "python",
   "name": "python3"
  },
  "language_info": {
   "codemirror_mode": {
    "name": "ipython",
    "version": 3
   },
   "file_extension": ".py",
   "mimetype": "text/x-python",
   "name": "python",
   "nbconvert_exporter": "python",
   "pygments_lexer": "ipython3",
   "version": "3.7.5"
  }
 },
 "nbformat": 4,
 "nbformat_minor": 2
}

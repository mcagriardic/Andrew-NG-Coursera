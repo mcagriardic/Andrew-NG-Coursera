{
 "cells": [
  {
   "cell_type": "code",
   "execution_count": 1,
   "metadata": {},
   "outputs": [
    {
     "name": "stdout",
     "output_type": "stream",
     "text": [
      "Pixiedust database opened successfully\n"
     ]
    },
    {
     "data": {
      "text/html": [
       "\n",
       "        <div style=\"margin:10px\">\n",
       "            <a href=\"https://github.com/ibm-watson-data-lab/pixiedust\" target=\"_new\">\n",
       "                <img src=\"https://github.com/ibm-watson-data-lab/pixiedust/raw/master/docs/_static/pd_icon32.png\" style=\"float:left;margin-right:10px\"/>\n",
       "            </a>\n",
       "            <span>Pixiedust version 1.1.14</span>\n",
       "        </div>\n",
       "        "
      ],
      "text/plain": [
       "<IPython.core.display.HTML object>"
      ]
     },
     "metadata": {},
     "output_type": "display_data"
    },
    {
     "name": "stdout",
     "output_type": "stream",
     "text": [
      "Libraries are loaded succesfully\n"
     ]
    }
   ],
   "source": [
    "import numpy as np\n",
    "import matplotlib.pyplot as plt\n",
    "from IPython.display import Image\n",
    "import pixiedust\n",
    "\n",
    "%matplotlib inline\n",
    "\n",
    "print(\"Libraries are loaded succesfully\")"
   ]
  },
  {
   "cell_type": "code",
   "execution_count": 2,
   "metadata": {},
   "outputs": [],
   "source": [
    "path_text_file = r\"C:\\Users\\musta\\Google Drive\\A_Uni of Southampton Lessons\\Self Study\\Andrew NG Coursera\\CourseraML-master\\ex1\\data\\ex1data2.txt\""
   ]
  },
  {
   "cell_type": "markdown",
   "metadata": {},
   "source": [
    "# 1. Load the data file"
   ]
  },
  {
   "cell_type": "code",
   "execution_count": 3,
   "metadata": {},
   "outputs": [],
   "source": [
    "import csv\n",
    "\n",
    "with open(path_text_file) as inf:\n",
    "    reader = csv.reader(inf, delimiter=\",\")\n",
    "    size = list(list(zip(*reader))[0])\n",
    "\n",
    "with open(path_text_file) as inf:\n",
    "    reader = csv.reader(inf, delimiter=\",\")\n",
    "    number_bedrooms = list(list(zip(*reader))[1])\n",
    "    \n",
    "with open(path_text_file) as inf:\n",
    "    reader = csv.reader(inf, delimiter=\",\")\n",
    "    price = list(list(zip(*reader))[2])"
   ]
  },
  {
   "cell_type": "markdown",
   "metadata": {},
   "source": [
    "# 2. Convert the cell types to float and transform them into matrices (initially they were in string format)"
   ]
  },
  {
   "cell_type": "code",
   "execution_count": 4,
   "metadata": {},
   "outputs": [],
   "source": [
    "X1 = np.array(size).astype(np.float)\n",
    "X2 = np.array(number_bedrooms).astype(np.float)\n",
    "Y = np.array(price).astype(np.float)"
   ]
  },
  {
   "cell_type": "markdown",
   "metadata": {},
   "source": [
    "# 3. Function to normalise the data"
   ]
  },
  {
   "cell_type": "code",
   "execution_count": 5,
   "metadata": {},
   "outputs": [],
   "source": [
    "def normalizer(X):\n",
    "    return (X - np.mean(X))/np.std(X)\n",
    "\n",
    "X1_norm = X1.copy()\n",
    "X2_norm = X2.copy()\n",
    "Y_norm = Y.copy()\n",
    "\n",
    "X1_norm = normalizer(X1_norm)\n",
    "X2_norm = normalizer(X2_norm)\n",
    "Y_norm = normalizer(Y_norm)"
   ]
  },
  {
   "cell_type": "markdown",
   "metadata": {},
   "source": [
    "# 4. Visualise the independent variables against the dependent variable"
   ]
  },
  {
   "cell_type": "code",
   "execution_count": 6,
   "metadata": {},
   "outputs": [
    {
     "data": {
      "image/png": "[encoded data removed]",
      "text/plain": [
       "<Figure size 720x432 with 1 Axes>"
      ]
     },
     "metadata": {},
     "output_type": "display_data"
    },
    {
     "data": {
      "image/png": "[encoded data removed]",
      "text/plain": [
       "<Figure size 720x432 with 1 Axes>"
      ]
     },
     "metadata": {},
     "output_type": "display_data"
    }
   ],
   "source": [
    "list_X = [X1,X2]\n",
    "list_X_name = [\"Size of the House\",\"Number of Bedrooms\"]\n",
    "j=0\n",
    "\n",
    "for i in list_X:\n",
    "    plt.figure(figsize=(10,6))\n",
    "    plt.scatter(i, Y, c=\"r\")\n",
    "\n",
    "    plt.title(list_X_name[j] + \" vs Price\")\n",
    "    plt.xlabel(list_X_name[j])\n",
    "    plt.ylabel(\"Price of The House\");\n",
    "    j += 1"
   ]
  },
  {
   "cell_type": "markdown",
   "metadata": {},
   "source": [
    "# 5. Add theta_0 coefficients to the X matrix which is `1` and then merge the independent variables & the constant into same matrix "
   ]
  },
  {
   "cell_type": "code",
   "execution_count": 7,
   "metadata": {},
   "outputs": [],
   "source": [
    "theta_1_c = np.full((X1.shape[0]), 1)\n",
    "X1_norm = np.concatenate((theta_1_c.reshape(-1,1), X1_norm.reshape(-1,1)), axis=1)\n",
    "X_norm = np.concatenate((X1_norm, X2_norm.reshape(-1,1)), axis=1)"
   ]
  },
  {
   "cell_type": "code",
   "execution_count": 8,
   "metadata": {},
   "outputs": [],
   "source": [
    "iterations = 1500\n",
    "alpha = 0.01\n",
    "m = X_norm.shape[0]"
   ]
  },
  {
   "cell_type": "markdown",
   "metadata": {},
   "source": [
    "#  6. Define the Cost Function"
   ]
  },
  {
   "cell_type": "code",
   "execution_count": 9,
   "metadata": {},
   "outputs": [
    {
     "data": {
      "text/plain": [
       "0.49999999999999994"
      ]
     },
     "execution_count": 9,
     "metadata": {},
     "output_type": "execute_result"
    }
   ],
   "source": [
    "def cost_function(X,Y,thetas = np.zeros(X_norm.shape[1])):\n",
    "\n",
    "    h_theta_x =np.dot(X, thetas)\n",
    "\n",
    "    return np.sum(((h_theta_x - Y)**2)/(m*2))\n",
    "\n",
    "cost_function(X_norm,Y_norm)"
   ]
  },
  {
   "cell_type": "markdown",
   "metadata": {},
   "source": [
    "# 7. Define the Gradiend Descent function"
   ]
  },
  {
   "cell_type": "code",
   "execution_count": 10,
   "metadata": {},
   "outputs": [],
   "source": [
    "def gradient_descent(X,Y,theta = np.zeros(X_norm.shape[1])):\n",
    "    \n",
    "    theta_list = []\n",
    "    cost_function_values = []\n",
    "\n",
    "    for i in range(iterations):\n",
    "        h_theta_x =np.dot(X, theta)\n",
    "        error = h_theta_x - Y\n",
    "        \n",
    "        cost_function_values.append(np.sum(((h_theta_x - Y)**2)/(m*2)))\n",
    "        \n",
    "        for j in range(theta.size):\n",
    "            theta[j] = theta[j] - (alpha/m)*np.dot(error,X.transpose()[j]) # watch out for the transpose here.\n",
    "            \n",
    "        theta_list.append(list(theta)) #If you do not cast the theta values to a list, theta_list returns the wrong list.\n",
    "        \n",
    "    return theta_list, cost_function_values\n",
    "\n",
    "theta_list, cost_function_values = gradient_descent(X_norm,Y_norm)"
   ]
  },
  {
   "cell_type": "markdown",
   "metadata": {},
   "source": [
    "# 8. Multiply the X values with the calculated theta coefficients the calculate the  y_hat_norm"
   ]
  },
  {
   "cell_type": "code",
   "execution_count": 11,
   "metadata": {},
   "outputs": [],
   "source": [
    "y_hat_norm = theta_list[-1]*X_norm\n",
    "#y_hat_norm = np.sum(y_hat_norm, axis=1)"
   ]
  },
  {
   "cell_type": "markdown",
   "metadata": {},
   "source": [
    "# 10. Plot the Cost Function against the Number of Iterations"
   ]
  },
  {
   "cell_type": "code",
   "execution_count": 12,
   "metadata": {},
   "outputs": [
    {
     "data": {
      "text/plain": [
       "Text(0,0.5,'Cost function')"
      ]
     },
     "execution_count": 12,
     "metadata": {},
     "output_type": "execute_result"
    },
    {
     "data": {
      "image/png": "[encoded data removed]",
      "text/plain": [
       "<Figure size 720x432 with 1 Axes>"
      ]
     },
     "metadata": {},
     "output_type": "display_data"
    }
   ],
   "source": [
    "cost_function_values_a = np.array(cost_function_values)\n",
    "iterations_a = np.array(range(1,1501))\n",
    "\n",
    "plt.figure(figsize=(10,6))\n",
    "\n",
    "plt.scatter(iterations_a, cost_function_values_a, c = \"b\")\n",
    "plt.grid(True)\n",
    "plt.title(\"Convergence of Cost Function\")\n",
    "plt.xlabel(\"Iteration number\")\n",
    "plt.ylabel(\"Cost function\")"
   ]
  },
  {
   "cell_type": "markdown",
   "metadata": {},
   "source": [
    "# 11. Function that calculates the price of an unseen house"
   ]
  },
  {
   "cell_type": "code",
   "execution_count": 13,
   "metadata": {},
   "outputs": [],
   "source": [
    "def calculate_new_entry():\n",
    "    \n",
    "    size_h = float(input(\"What is the size of the house? (in square feets): \"))\n",
    "    n_bedrooms = int(input(\"How many bedrooms are there in this house?: \"))\n",
    "    \n",
    "    X1_test = (size_h-np.mean(X1))/np.std(X1)\n",
    "    X2_test = (n_bedrooms-np.mean(X2))/np.std(X2)\n",
    "    X0 = 1\n",
    "\n",
    "    list_1 = [X0,X1_test,X2_test]\n",
    "    X_test = np.asarray(list_1)\n",
    "\n",
    "    a = np.sum(X_test*theta_list[-1])\n",
    "    price = a * np.std(Y)+np.mean(Y)\n",
    "    return print(\"\\nThe price of the house that has {} bedrooms and is {} square feet is:$%8.2f\".format(n_bedrooms,size_h) %price)"
   ]
  },
  {
   "cell_type": "code",
   "execution_count": 14,
   "metadata": {},
   "outputs": [
    {
     "name": "stdout",
     "output_type": "stream",
     "text": [
      "What is the size of the house? (in square feets): 1650\n",
      "How many bedrooms are there in this house?: 3\n",
      "\n",
      "The price of the house that has 3 bedrooms and is 1650.0 square feet is:$293098.56\n"
     ]
    }
   ],
   "source": [
    "calculate_new_entry()"
   ]
  },
  {
   "cell_type": "markdown",
   "metadata": {},
   "source": [
    "# 12. Normal Equation Solution"
   ]
  },
  {
   "cell_type": "code",
   "execution_count": 15,
   "metadata": {},
   "outputs": [],
   "source": [
    "X1 = np.array(size).astype(np.float)\n",
    "X2 = np.array(number_bedrooms).astype(np.float)\n",
    "theta_1_c = np.full((X1.shape[0]), 1)\n",
    "Y = np.array(price).astype(np.float)\n",
    "\n",
    "X1 = np.concatenate((theta_1_c.reshape(-1,1), X1.reshape(-1,1)), axis=1)\n",
    "X = np.concatenate((X1, X2.reshape(-1,1)), axis=1)"
   ]
  },
  {
   "cell_type": "code",
   "execution_count": 16,
   "metadata": {},
   "outputs": [],
   "source": [
    "from numpy.linalg import inv\n",
    "\n",
    "def normEqtn(X,y,new_entry):\n",
    "    theta_c = np.dot(np.dot(inv(np.dot(X.T,X)),X.T),y)\n",
    "    return print(\"The price of the house is:$%8.2f\" %np.sum(theta_c * new_entry))"
   ]
  },
  {
   "cell_type": "code",
   "execution_count": 17,
   "metadata": {},
   "outputs": [
    {
     "name": "stdout",
     "output_type": "stream",
     "text": [
      "The price of the house is:$293081.46\n"
     ]
    }
   ],
   "source": [
    "ytest = [1,1650.,3]\n",
    "normEqtn(X,Y,ytest)"
   ]
  }
 ],
 "metadata": {
  "kernelspec": {
   "display_name": "Python 3",
   "language": "python",
   "name": "python3"
  },
  "language_info": {
   "codemirror_mode": {
    "name": "ipython",
    "version": 3
   },
   "file_extension": ".py",
   "mimetype": "text/x-python",
   "name": "python",
   "nbconvert_exporter": "python",
   "pygments_lexer": "ipython3",
   "version": "3.7.3"
  }
 },
 "nbformat": 4,
 "nbformat_minor": 2
}

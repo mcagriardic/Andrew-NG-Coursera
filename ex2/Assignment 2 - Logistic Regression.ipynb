{
 "cells": [
  {
   "cell_type": "code",
   "execution_count": 173,
   "metadata": {},
   "outputs": [],
   "source": [
    "import numpy as np\n",
    "import matplotlib.pyplot as plt\n",
    "%matplotlib inline"
   ]
  },
  {
   "cell_type": "code",
   "execution_count": 174,
   "metadata": {},
   "outputs": [],
   "source": [
    "ex2data1 = np.loadtxt(\"data/ex2data1.txt\", delimiter=\",\")\n",
    "#adding the constant column\n",
    "\n",
    "exam_1_score = ex2data1[:, 0]\n",
    "exam_2_score = ex2data1[:, 1]\n",
    "X = ex2data1[:, :2]\n",
    "y = ex2data1[:, -1]"
   ]
  },
  {
   "cell_type": "code",
   "execution_count": 175,
   "metadata": {},
   "outputs": [],
   "source": [
    "# fig = plt.figure(figsize=(10,8))\n",
    "# ax = fig.add_subplot(111)\n",
    "# ax.scatter(exam_1_score, exam_2_score, c=ex2data1[:, -1], s=100)\n",
    "# plt.xlabel(\"Exam 1 Score\")\n",
    "# plt.ylabel(\"Exam 2 Score\")\n",
    "# plt.title(\"Exam Score 1 vs 2 - Coloured by Admitted-Not Admitted\");"
   ]
  },
  {
   "cell_type": "code",
   "execution_count": 176,
   "metadata": {},
   "outputs": [],
   "source": [
    "class LogisticRegression:\n",
    "    \n",
    "\n",
    "    def __init__(self,\n",
    "                 X,\n",
    "                 y,\n",
    "                 alfa=0.001,\n",
    "                 num_iter=100000,\n",
    "                 fit_intercept=True,\n",
    "                 weights_to_initialise=0,\n",
    "                 verbose=True):\n",
    "\n",
    "        self.X = X\n",
    "        self.y = y.reshape(len(X), 1)\n",
    "\n",
    "        self._fit_intercept = fit_intercept\n",
    "        self._alfa = alfa\n",
    "        self._num_iter = num_iter\n",
    "        self._m = X.shape[0]\n",
    "        self._n = (X.shape[1] + 1) if fit_intercept else len(X.shape[1])\n",
    "        \n",
    "        self.thetas = None\n",
    "        self._temp_thetas = None\n",
    "        self._verbose = verbose\n",
    "        \n",
    "        self._add_constant()\n",
    "        self._initalise_θ(weights_to_initialise)\n",
    "  \n",
    "\n",
    "    def _add_constant(self):\n",
    "        if self._fit_intercept:\n",
    "            constants = np.ones((self._m, 1))\n",
    "            self.X = np.concatenate((constants, self.X), axis = 1)\n",
    "\n",
    "\n",
    "    def _initalise_θ(self, weight_to_initialise):\n",
    "        self.thetas = np.zeros(\n",
    "            self._n\n",
    "        ) + weight_to_initialise\n",
    "        self._temp_thetas = self.thetas\n",
    "\n",
    "\n",
    "    def _sigmoid(self, z):\n",
    "        return (1 / (1 + np.exp(-z)))\n",
    "\n",
    "\n",
    "    def _h(self):\n",
    "        z = (self.X @ self.thetas.reshape(-1, 1))\n",
    "        return self._sigmoid(z)\n",
    "\n",
    "\n",
    "    def _calculate_cost(self):\n",
    "        epsilon = 1e-5 # to silence the \"RuntimeWarning: divide by zero encountered in log\" errors\n",
    "        h = self._h()\n",
    "        return np.mean(-1 * (\n",
    "            (self.y) * np.log(h + epsilon)\n",
    "            + (1 - self.y) * np.log(1 - h + epsilon)\n",
    "        ))\n",
    "\n",
    "\n",
    "    def _gradient(self):\n",
    "        h = self._h()\n",
    "        return ((1 / self._m) * self.X.T @ (h - self.y)).flatten()\n",
    "\n",
    "\n",
    "    def fit(self):\n",
    "        for i in range(self._num_iter):\n",
    "            self.thetas -= self._alfa * self._gradient()\n",
    "            if (self._verbose) and (i % 50000 == 0):\n",
    "                print(f\"COST: {self._calculate_cost()}\")\n",
    "                print(self.thetas)\n",
    "\n",
    "\n",
    "    def predict_prob(self):\n",
    "        return self._sigmoid(log.X @ log.thetas)\n",
    "\n",
    "\n",
    "    def predict_prob_single_instance(self, index):\n",
    "        prob_matrix = self._sigmoid(log.X @ log.thetas)\n",
    "        \n",
    "        exam_scores = f\"Exam Score 1: %.3f\\nExam Score 2: %.3f\" % (self.X[index, 1], self.X[index, 2])\n",
    "        probability = \"Probability of Being Admitted: %.2f%%\" % (prob_matrix[index] * 100)\n",
    "        print(exam_scores); print(probability)\n",
    "\n",
    "\n",
    "    def predict(self):\n",
    "        probabilities = self.predict_prob()\n",
    "        probabilities[probabilities > 0.5] = 1\n",
    "        probabilities[probabilities <= 0.5] = 0\n",
    "        return probabilities"
   ]
  },
  {
   "cell_type": "code",
   "execution_count": 177,
   "metadata": {},
   "outputs": [],
   "source": [
    "#COST: 0.20348330288326974\n",
    "#WEIGHTS: -25.16133356   0.20623171   0.2014716\n",
    "log = LogisticRegression(X,\n",
    "                         y,\n",
    "                         alfa=0.001,\n",
    "                         num_iter=10**6,\n",
    "                         weights_to_initialise=np.array([-25.16133356, 0.20623171, 0.2014716]))"
   ]
  },
  {
   "cell_type": "code",
   "execution_count": 178,
   "metadata": {},
   "outputs": [
    {
     "data": {
      "text/plain": [
       "0.20348330288370892"
      ]
     },
     "execution_count": 178,
     "metadata": {},
     "output_type": "execute_result"
    }
   ],
   "source": [
    "log._calculate_cost()"
   ]
  },
  {
   "cell_type": "code",
   "execution_count": 179,
   "metadata": {},
   "outputs": [],
   "source": [
    "probabilities = log.predict()"
   ]
  },
  {
   "cell_type": "code",
   "execution_count": null,
   "metadata": {},
   "outputs": [],
   "source": [
    "log.fit()"
   ]
  }
 ],
 "metadata": {
  "kernelspec": {
   "display_name": "Python 3",
   "language": "python",
   "name": "python3"
  },
  "language_info": {
   "codemirror_mode": {
    "name": "ipython",
    "version": 3
   },
   "file_extension": ".py",
   "mimetype": "text/x-python",
   "name": "python",
   "nbconvert_exporter": "python",
   "pygments_lexer": "ipython3",
   "version": "3.7.3"
  }
 },
 "nbformat": 4,
 "nbformat_minor": 2
}

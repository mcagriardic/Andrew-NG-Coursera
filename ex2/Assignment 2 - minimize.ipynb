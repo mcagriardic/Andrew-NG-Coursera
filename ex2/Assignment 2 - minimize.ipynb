{
 "cells": [
  {
   "cell_type": "code",
   "execution_count": 1,
   "metadata": {},
   "outputs": [],
   "source": [
    "from scipy import optimize"
   ]
  },
  {
   "cell_type": "code",
   "execution_count": null,
   "metadata": {},
   "outputs": [],
   "source": [
    "thetas = np.zeros(3)\n",
    "m = y.size\n",
    "\n",
    "def sigmoid(z):\n",
    "    return(1 / (1 + np.exp(-z)))\n",
    "\n",
    "def calculate_cost(thetas, x, y):\n",
    "    h = sigmoid(x.dot(thetas.reshape(-1, 1)))\n",
    "    J =  (sum((y)*-1*np.log(h)+(1-y)*-1*np.log(1-h)) / m)\n",
    "    \n",
    "    if np.isnan(J[0]):\n",
    "        return(np.inf)\n",
    "    return(J[0])\n",
    "\n",
    "def gradient(thetas, x, y):\n",
    "    h = sigmoid(x.dot(thetas.reshape(-1, 1)))\n",
    "    grad = (1/m)*x.T.dot(h-y)\n",
    "    return(grad.flatten())"
   ]
  },
  {
   "cell_type": "code",
   "execution_count": null,
   "metadata": {},
   "outputs": [],
   "source": [
    "minimize(\n",
    "    fun=calculate_cost,\n",
    "    x0=thetas,\n",
    "    args=(x,y),\n",
    "    method=None,\n",
    "    jac=gradient,\n",
    "    options={'maxiter':400}\n",
    ")"
   ]
  },
  {
   "cell_type": "code",
   "execution_count": null,
   "metadata": {},
   "outputs": [],
   "source": []
  }
 ],
 "metadata": {
  "kernelspec": {
   "display_name": "Python 3",
   "language": "python",
   "name": "python3"
  },
  "language_info": {
   "codemirror_mode": {
    "name": "ipython",
    "version": 3
   },
   "file_extension": ".py",
   "mimetype": "text/x-python",
   "name": "python",
   "nbconvert_exporter": "python",
   "pygments_lexer": "ipython3",
   "version": "3.7.3"
  }
 },
 "nbformat": 4,
 "nbformat_minor": 2
}

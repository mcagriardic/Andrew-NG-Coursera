{
 "cells": [
  {
   "cell_type": "code",
   "execution_count": 64,
   "metadata": {},
   "outputs": [],
   "source": [
    "import numpy as np\n",
    "import itertools"
   ]
  },
  {
   "cell_type": "code",
   "execution_count": 65,
   "metadata": {},
   "outputs": [],
   "source": [
    "i1 = 0.05\n",
    "i2 = 0.10\n",
    "\n",
    "b1 = 0.35\n",
    "\n",
    "w1 = 0.15\n",
    "w2 = 0.20\n",
    "w3 = 0.25\n",
    "w4 = 0.30\n",
    "\n",
    "o1 = 0.01\n",
    "o2 = 0.99\n",
    "\n",
    "b2 = 0.60\n",
    "\n",
    "w5 = 0.4\n",
    "w6 = 0.45\n",
    "w7 = 0.5\n",
    "w8 = 0.55"
   ]
  },
  {
   "cell_type": "code",
   "execution_count": 66,
   "metadata": {},
   "outputs": [],
   "source": [
    "def sigmoid(z):\n",
    "    return 1 / (1 + np.exp(-z))\n",
    "\n",
    "def sigmoid_prime(z):\n",
    "    return sigmoid(z) * (1 - sigmoid(z))"
   ]
  },
  {
   "cell_type": "code",
   "execution_count": 67,
   "metadata": {},
   "outputs": [],
   "source": [
    "def calculate_weight_set_dimensions(dimensions):\n",
    "\n",
    "    a, b = itertools.tee(dimensions[::-1])\n",
    "    next(b, None)\n",
    "    weight_set_dimensions = list(zip(a, b))[::-1]\n",
    "    \n",
    "    return weight_set_dimensions"
   ]
  },
  {
   "cell_type": "code",
   "execution_count": 68,
   "metadata": {
    "scrolled": true
   },
   "outputs": [
    {
     "data": {
      "text/plain": [
       "[(2, 2), (2, 2)]"
      ]
     },
     "execution_count": 68,
     "metadata": {},
     "output_type": "execute_result"
    }
   ],
   "source": [
    "dimensions = [2,2,2]\n",
    "\n",
    "calculate_weight_set_dimensions(dimensions)"
   ]
  },
  {
   "cell_type": "code",
   "execution_count": 69,
   "metadata": {},
   "outputs": [],
   "source": [
    "def initialise_weights(dimensions):\n",
    "    \n",
    "    # For single hidden layer neural network there will be 2 sets of weights;\n",
    "    # 1- one set to hidden layer\n",
    "    # 2- one set from hidden layer\n",
    "    # number of weight sets = no_of_hidden_layers + 1\n",
    "    \n",
    "    weight_dims = calculate_weight_set_dimensions(dimensions)\n",
    "    no_of_weight_sets = len(weight_dims)\n",
    "    \n",
    "    # W_set holds weight sets such as w1, w2, w3 etc.\n",
    "    W = np.empty_like(range(no_of_weight_sets), dtype=object)\n",
    "    B = np.empty_like(range(no_of_weight_sets), dtype=object)\n",
    "    for index, (row, column) in enumerate(weight_dims):\n",
    "        W[index] = np.random.rand(row, column)\n",
    "        B[index] = np.random.rand()\n",
    "    return W, B"
   ]
  },
  {
   "cell_type": "code",
   "execution_count": 70,
   "metadata": {},
   "outputs": [],
   "source": [
    "def forwardpass(X, W, B):\n",
    "    weight_dims = calculate_weight_set_dimensions(dimensions)\n",
    "    no_of_weight_sets = len(weight_dims)\n",
    "\n",
    "    Z = np.empty_like(range(no_of_weight_sets + 1), dtype=object)\n",
    "    A = np.empty_like(range(no_of_weight_sets + 1), dtype=object)\n",
    "    A[0] = X\n",
    "    Z[0] = None\n",
    "    B[0] = 0.35\n",
    "    B[1] = 0.6\n",
    "    for index in range(no_of_weight_sets):\n",
    "        Z[index + 1] = W[index] @ A[index] + B[index]\n",
    "        A[index + 1] = sigmoid(Z[index + 1])\n",
    "    return A, Z"
   ]
  },
  {
   "cell_type": "code",
   "execution_count": 71,
   "metadata": {},
   "outputs": [],
   "source": [
    "def calculate_error(y, y_hat):\n",
    "    return 0.5 * np.square(y - y_hat)"
   ]
  },
  {
   "cell_type": "code",
   "execution_count": 82,
   "metadata": {},
   "outputs": [],
   "source": [
    "def backpropagation(A, Z, Y, W):\n",
    "    weight_dims = calculate_weight_set_dimensions(dimensions)\n",
    "    no_of_weight_sets = len(weight_dims)\n",
    "\n",
    "    delta_final = (A[-1] - Y) * (sigmoid_prime(Z[-1]))\n",
    "    \n",
    "    gradient = np.empty_like(range(no_of_weight_sets), dtype=object)\n",
    "    # delta = dLZ\n",
    "    delta = np.empty_like(range(no_of_weight_sets), dtype=object)\n",
    "    delta[-1] = delta_final\n",
    "    \n",
    "    # here Z[index+1] is passed instead of Z[index]\n",
    "    # this is because Z[0] is none. so Z[index+1] is effectively\n",
    "    # Z[index]\n",
    "    for index in reversed(range(no_of_weight_sets - 1)): # 1 is substracted as we have already calculated delta_final above\n",
    "        delta[index] = W[index+1].T @ delta[index+1] * sigmoid_prime(Z[index + 1])\n",
    "    \n",
    "    # calculate the gradient\n",
    "    for index in range(no_of_weight_sets):\n",
    "        gradient[index] = delta[index] @ A[index].T\n",
    "    \n",
    "    alfa = 0.5\n",
    "    for index, _ in enumerate(W):\n",
    "        W[index] = W[index] - alfa * gradient[index]\n",
    "    \n",
    "    return delta, gradient, W"
   ]
  },
  {
   "cell_type": "code",
   "execution_count": 83,
   "metadata": {},
   "outputs": [],
   "source": [
    "X = np.array([0.05, 0.10]).reshape((dimensions[0], 1))\n",
    "Y = np.array([0.01, 0.99]).reshape((dimensions[-1], 1))\n",
    "\n",
    "W, B = initialise_weights(dimensions)\n",
    "\n",
    "initial_weights = W[0]\n",
    "initial_weights[0][0] = 0.15\n",
    "initial_weights[0][1] = 0.2\n",
    "initial_weights[1][0] = 0.25\n",
    "initial_weights[1][1] = 0.30\n",
    "B[0] = 0.35\n",
    "\n",
    "second_set_of_weights = W[1]\n",
    "second_set_of_weights[0][0] = 0.4\n",
    "second_set_of_weights[0][1] = 0.45\n",
    "second_set_of_weights[1][0] = 0.5\n",
    "second_set_of_weights[1][1] = 0.55\n",
    "B[1] = 0.6\n",
    "\n",
    "A, Z = forwardpass(X, W, B)\n",
    "J = calculate_error(Y, A[-1])"
   ]
  },
  {
   "cell_type": "code",
   "execution_count": 84,
   "metadata": {},
   "outputs": [],
   "source": [
    "delta, gradient, W = backpropagation(A, Z, Y, W)"
   ]
  },
  {
   "cell_type": "code",
   "execution_count": 85,
   "metadata": {},
   "outputs": [
    {
     "data": {
      "text/plain": [
       "array([[0.00043857, 0.00087714],\n",
       "       [0.00049771, 0.00099543]])"
      ]
     },
     "execution_count": 85,
     "metadata": {},
     "output_type": "execute_result"
    }
   ],
   "source": [
    "gradient[0]"
   ]
  },
  {
   "cell_type": "code",
   "execution_count": 86,
   "metadata": {},
   "outputs": [
    {
     "data": {
      "text/plain": [
       "array([[ 0.08216704,  0.08266763],\n",
       "       [-0.02260254, -0.02274024]])"
      ]
     },
     "execution_count": 86,
     "metadata": {},
     "output_type": "execute_result"
    }
   ],
   "source": [
    "gradient[1]"
   ]
  },
  {
   "cell_type": "code",
   "execution_count": 87,
   "metadata": {},
   "outputs": [
    {
     "data": {
      "text/plain": [
       "array([[0.14978072, 0.19956143],\n",
       "       [0.24975114, 0.29950229]])"
      ]
     },
     "execution_count": 87,
     "metadata": {},
     "output_type": "execute_result"
    }
   ],
   "source": [
    "W[0]"
   ]
  },
  {
   "cell_type": "code",
   "execution_count": 88,
   "metadata": {},
   "outputs": [
    {
     "data": {
      "text/plain": [
       "array([[0.14978072, 0.19956143],\n",
       "       [0.24975114, 0.29950229]])"
      ]
     },
     "execution_count": 88,
     "metadata": {},
     "output_type": "execute_result"
    }
   ],
   "source": [
    "W[0]"
   ]
  },
  {
   "cell_type": "code",
   "execution_count": 89,
   "metadata": {},
   "outputs": [
    {
     "data": {
      "text/plain": [
       "array([[0.35891648, 0.40866619],\n",
       "       [0.51130127, 0.56137012]])"
      ]
     },
     "execution_count": 89,
     "metadata": {},
     "output_type": "execute_result"
    }
   ],
   "source": [
    "W[1]"
   ]
  },
  {
   "cell_type": "code",
   "execution_count": null,
   "metadata": {},
   "outputs": [],
   "source": []
  },
  {
   "cell_type": "code",
   "execution_count": null,
   "metadata": {},
   "outputs": [],
   "source": []
  },
  {
   "cell_type": "code",
   "execution_count": null,
   "metadata": {
    "scrolled": true
   },
   "outputs": [],
   "source": [
    "J"
   ]
  },
  {
   "cell_type": "code",
   "execution_count": null,
   "metadata": {},
   "outputs": [],
   "source": [
    "dLZ_final = (A[-1] - Y) * (sigmoid_prime(Z[-1]))"
   ]
  },
  {
   "cell_type": "code",
   "execution_count": null,
   "metadata": {},
   "outputs": [],
   "source": [
    "dLZ_final"
   ]
  },
  {
   "cell_type": "code",
   "execution_count": null,
   "metadata": {},
   "outputs": [],
   "source": [
    "A[1]"
   ]
  },
  {
   "cell_type": "code",
   "execution_count": null,
   "metadata": {},
   "outputs": [],
   "source": [
    "weight_set = dLZ_final @ A[1].T\n",
    "weight_set"
   ]
  },
  {
   "cell_type": "code",
   "execution_count": null,
   "metadata": {},
   "outputs": [],
   "source": [
    "no_of_weight_sets = 2"
   ]
  },
  {
   "cell_type": "code",
   "execution_count": null,
   "metadata": {},
   "outputs": [],
   "source": [
    "dLZ = np.empty_like(range(no_of_weight_sets), dtype=object)\n",
    "dLZ[-1] = dLZ_final"
   ]
  },
  {
   "cell_type": "code",
   "execution_count": null,
   "metadata": {},
   "outputs": [],
   "source": [
    "dLZ[1]"
   ]
  },
  {
   "cell_type": "code",
   "execution_count": null,
   "metadata": {},
   "outputs": [],
   "source": [
    "for index in reversed(range(no_of_weight_sets - 1)):\n",
    "    print(index)\n",
    "    dLZ[index] = W[index+1].T @ dLZ[index+1] * sigmoid_prime(Z[index + 1])"
   ]
  },
  {
   "cell_type": "code",
   "execution_count": null,
   "metadata": {},
   "outputs": [],
   "source": [
    "dLZ[0] = W[1].T @ dLZ[1] * sigmoid_prime(Z[1])"
   ]
  },
  {
   "cell_type": "code",
   "execution_count": null,
   "metadata": {},
   "outputs": [],
   "source": [
    "dLZ[0] @ X.T"
   ]
  },
  {
   "cell_type": "code",
   "execution_count": null,
   "metadata": {},
   "outputs": [],
   "source": [
    "for element in dLZ[0] @ X.T:\n",
    "    print(element)"
   ]
  },
  {
   "cell_type": "code",
   "execution_count": null,
   "metadata": {},
   "outputs": [],
   "source": [
    "X"
   ]
  },
  {
   "cell_type": "code",
   "execution_count": null,
   "metadata": {},
   "outputs": [],
   "source": []
  },
  {
   "cell_type": "code",
   "execution_count": null,
   "metadata": {},
   "outputs": [],
   "source": []
  },
  {
   "cell_type": "code",
   "execution_count": null,
   "metadata": {},
   "outputs": [],
   "source": []
  },
  {
   "cell_type": "code",
   "execution_count": null,
   "metadata": {},
   "outputs": [],
   "source": []
  },
  {
   "cell_type": "code",
   "execution_count": null,
   "metadata": {},
   "outputs": [],
   "source": []
  },
  {
   "cell_type": "code",
   "execution_count": null,
   "metadata": {},
   "outputs": [],
   "source": []
  },
  {
   "cell_type": "code",
   "execution_count": null,
   "metadata": {},
   "outputs": [],
   "source": []
  },
  {
   "cell_type": "code",
   "execution_count": null,
   "metadata": {},
   "outputs": [],
   "source": []
  }
 ],
 "metadata": {
  "kernelspec": {
   "display_name": "Python 3",
   "language": "python",
   "name": "python3"
  },
  "language_info": {
   "codemirror_mode": {
    "name": "ipython",
    "version": 3
   },
   "file_extension": ".py",
   "mimetype": "text/x-python",
   "name": "python",
   "nbconvert_exporter": "python",
   "pygments_lexer": "ipython3",
   "version": "3.7.5"
  }
 },
 "nbformat": 4,
 "nbformat_minor": 2
}

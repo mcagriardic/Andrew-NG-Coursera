{
 "cells": [
  {
   "cell_type": "code",
   "execution_count": 41,
   "metadata": {},
   "outputs": [],
   "source": [
    "import numpy as np\n",
    "import itertools"
   ]
  },
  {
   "cell_type": "code",
   "execution_count": 42,
   "metadata": {},
   "outputs": [],
   "source": [
    "i1 = 0.05\n",
    "i2 = 0.10\n",
    "\n",
    "b1 = 0.35\n",
    "\n",
    "w1 = 0.15\n",
    "w2 = 0.20\n",
    "w3 = 0.25\n",
    "w4 = 0.30\n",
    "\n",
    "o1 = 0.01\n",
    "o2 = 0.99\n",
    "\n",
    "b2 = 0.60\n",
    "\n",
    "w5 = 0.4\n",
    "w6 = 0.45\n",
    "w7 = 0.5\n",
    "w8 = 0.55"
   ]
  },
  {
   "cell_type": "code",
   "execution_count": 43,
   "metadata": {},
   "outputs": [],
   "source": [
    "def sigmoid(z):\n",
    "    \n",
    "    return 1 / (1 + np.exp(-z))"
   ]
  },
  {
   "cell_type": "code",
   "execution_count": 44,
   "metadata": {},
   "outputs": [],
   "source": [
    "def calculate_weight_set_dimensions(dimensions):\n",
    "\n",
    "    a, b = itertools.tee(dimensions[::-1])\n",
    "    next(b, None)\n",
    "    weight_set_dimensions = list(zip(a, b))[::-1]\n",
    "    \n",
    "    return weight_set_dimensions"
   ]
  },
  {
   "cell_type": "code",
   "execution_count": 45,
   "metadata": {
    "scrolled": true
   },
   "outputs": [
    {
     "data": {
      "text/plain": [
       "[(2, 2), (2, 2)]"
      ]
     },
     "execution_count": 45,
     "metadata": {},
     "output_type": "execute_result"
    }
   ],
   "source": [
    "dimensions = [2,2,2]\n",
    "\n",
    "calculate_weight_set_dimensions(dimensions)"
   ]
  },
  {
   "cell_type": "code",
   "execution_count": 46,
   "metadata": {},
   "outputs": [],
   "source": [
    "def initialise_weights(dimensions):\n",
    "    \n",
    "    # For single hidden layer neural network there will be 2 sets of weights;\n",
    "    # 1- one set to hidden layer\n",
    "    # 2- one set from hidden layer\n",
    "    # number of weight sets = no_of_hidden_layers + 1\n",
    "    \n",
    "    weight_dims = calculate_weight_set_dimensions(dimensions)\n",
    "    no_of_weight_sets = len(weight_dims)\n",
    "    \n",
    "    # W_set holds weight sets such as w1, w2, w3 etc.\n",
    "    W = np.empty_like(range(no_of_weight_sets), dtype=object)\n",
    "    B = np.empty_like(range(no_of_weight_sets), dtype=object)\n",
    "    for index, (row, column) in enumerate(weight_dims):\n",
    "        W[index] = np.random.rand(row, column)\n",
    "        B[index] = np.random.rand()\n",
    "    return W, B"
   ]
  },
  {
   "cell_type": "code",
   "execution_count": 47,
   "metadata": {},
   "outputs": [],
   "source": [
    "def forwardpass(input_vals, W, B):\n",
    "    \n",
    "    weight_dims = calculate_weight_set_dimensions(dimensions)\n",
    "    no_of_weight_sets = len(weight_dims)\n",
    "    \n",
    "    Z = np.empty_like(range(no_of_weight_sets + 1), dtype=object)\n",
    "    A = np.empty_like(range(no_of_weight_sets + 1), dtype=object)\n",
    "    A[0] = input_vals\n",
    "    Z[0] = None\n",
    "    B[0] = 0.35\n",
    "    B[1] = 0.6\n",
    "    for index in range(no_of_weight_sets):\n",
    "        Z[index + 1] = W[index] @ A[index] + B[index]\n",
    "        A[index + 1] = sigmoid(Z[index + 1])\n",
    "    return A, Z"
   ]
  },
  {
   "cell_type": "code",
   "execution_count": 48,
   "metadata": {},
   "outputs": [],
   "source": [
    "def calculate_error(y, y_hat):\n",
    "    return 0.5 * np.square(y - y_hat)"
   ]
  },
  {
   "cell_type": "code",
   "execution_count": 50,
   "metadata": {},
   "outputs": [],
   "source": [
    "input_vals = np.array([0.05, 0.10]).reshape((dimensions[0], 1))\n",
    "output_vals = np.array([0.01, 0.99]).reshape((dimensions[-1], 1))\n",
    "\n",
    "W, B = initialise_weights(dimensions)\n",
    "\n",
    "initial_weights = W[0]\n",
    "initial_weights[0][0] = 0.15\n",
    "initial_weights[0][1] = 0.2\n",
    "initial_weights[1][0] = 0.25\n",
    "initial_weights[1][1] = 0.30\n",
    "B[0] = 0.35\n",
    "\n",
    "second_set_of_weights = W[1]\n",
    "second_set_of_weights[0][0] = 0.4\n",
    "second_set_of_weights[0][1] = 0.45\n",
    "second_set_of_weights[1][0] = 0.5\n",
    "second_set_of_weights[1][1] = 0.55\n",
    "B[1] = 0.6\n",
    "\n",
    "A, Z = forwardpass(input_vals, W, B)\n",
    "E = calculate_error(output_vals, A[-1])"
   ]
  },
  {
   "cell_type": "code",
   "execution_count": 51,
   "metadata": {},
   "outputs": [
    {
     "data": {
      "text/plain": [
       "array([[0.27481108],\n",
       "       [0.02356003]])"
      ]
     },
     "execution_count": 51,
     "metadata": {},
     "output_type": "execute_result"
    }
   ],
   "source": [
    "E"
   ]
  },
  {
   "cell_type": "code",
   "execution_count": null,
   "metadata": {},
   "outputs": [],
   "source": []
  },
  {
   "cell_type": "code",
   "execution_count": null,
   "metadata": {},
   "outputs": [],
   "source": []
  },
  {
   "cell_type": "code",
   "execution_count": null,
   "metadata": {},
   "outputs": [],
   "source": []
  },
  {
   "cell_type": "code",
   "execution_count": null,
   "metadata": {},
   "outputs": [],
   "source": []
  },
  {
   "cell_type": "code",
   "execution_count": null,
   "metadata": {},
   "outputs": [],
   "source": []
  },
  {
   "cell_type": "code",
   "execution_count": null,
   "metadata": {},
   "outputs": [],
   "source": []
  },
  {
   "cell_type": "code",
   "execution_count": null,
   "metadata": {},
   "outputs": [],
   "source": []
  },
  {
   "cell_type": "code",
   "execution_count": null,
   "metadata": {},
   "outputs": [],
   "source": []
  },
  {
   "cell_type": "code",
   "execution_count": null,
   "metadata": {},
   "outputs": [],
   "source": []
  },
  {
   "cell_type": "code",
   "execution_count": null,
   "metadata": {},
   "outputs": [],
   "source": []
  },
  {
   "cell_type": "code",
   "execution_count": null,
   "metadata": {},
   "outputs": [],
   "source": []
  },
  {
   "cell_type": "code",
   "execution_count": null,
   "metadata": {},
   "outputs": [],
   "source": []
  },
  {
   "cell_type": "code",
   "execution_count": null,
   "metadata": {},
   "outputs": [],
   "source": []
  },
  {
   "cell_type": "code",
   "execution_count": null,
   "metadata": {},
   "outputs": [],
   "source": []
  },
  {
   "cell_type": "code",
   "execution_count": null,
   "metadata": {},
   "outputs": [],
   "source": []
  }
 ],
 "metadata": {
  "kernelspec": {
   "display_name": "Python 3",
   "language": "python",
   "name": "python3"
  },
  "language_info": {
   "codemirror_mode": {
    "name": "ipython",
    "version": 3
   },
   "file_extension": ".py",
   "mimetype": "text/x-python",
   "name": "python",
   "nbconvert_exporter": "python",
   "pygments_lexer": "ipython3",
   "version": "3.7.5"
  }
 },
 "nbformat": 4,
 "nbformat_minor": 2
}

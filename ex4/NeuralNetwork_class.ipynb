{
 "cells": [
  {
   "cell_type": "code",
   "execution_count": 23,
   "metadata": {
    "collapsed": false
   },
   "outputs": [],
   "source": [
    "import numpy as np\n",
    "import matplotlib.pyplot as plt\n",
    "from sklearn import preprocessing\n",
    "import itertools\n",
    "import sys\n",
    "\n",
    "sys.path.append(\"..\")\n",
    "\n",
    "from utility_functions import (calculate_model_performance,\n",
    "                               plot_ROC,\n",
    "                               one_hot_encode,\n",
    "                               split_data_as,\n",
    "                               grid_search,\n",
    "                               shuffled,\n",
    "                               timeit)\n",
    "\n",
    "EPSILON = 10e-08\n",
    "\n",
    "\n",
    "def get_shapes(any_):\n",
    "    for array in any_:\n",
    "        try:\n",
    "            print(array.shape)\n",
    "        except:\n",
    "            print(\"NONE\")\n",
    "    print(\"\\n\")\n",
    "\n",
    "\n",
    "# ============= ACTIVATION FUNCTIONS ===============#\n",
    "\n",
    "def sigmoid(Z, prime=False):\n",
    "    # np.\n",
    "    if prime:\n",
    "        return sigmoid(Z) * (1 - sigmoid(Z))\n",
    "    return 1 / (1 + np.exp(-Z))\n",
    "\n",
    "\n",
    "def linear(Z, prime=False):\n",
    "    if prime:\n",
    "        return np.ones_like(Z)\n",
    "    return Z\n",
    "\n",
    "\n",
    "def relu(Z, alpha=0.01, prime=False):\n",
    "    if prime:\n",
    "        Z_relu = np.ones_like(Z, dtype=np.float64)\n",
    "        Z_relu[Z < 0] = alpha\n",
    "        return Z_relu\n",
    "    return np.where(Z < 0, alpha * Z, Z)\n",
    "\n",
    "\n",
    "def tanh(Z, prime=False):\n",
    "    # np.tanh() could be used directly to speed this up\n",
    "    if prime:\n",
    "        return 1 - np.power(tanh(Z), 2)\n",
    "    return (2 / (1 + np.exp(-2 * Z))) - 1\n",
    "\n",
    "\n",
    "def elu(Z, prime=False):\n",
    "    # https://mlfromscratch.com/activation-functions-explained/#/\n",
    "    alpha = 0.2\n",
    "    if prime:\n",
    "        return np.where(Z < 0, alpha * (np.exp(Z)), 1)\n",
    "    return np.where(Z < 0, alpha * (np.exp(Z) - 1), Z)\n",
    "\n",
    "\n",
    "def softmax(Z, prime=False):\n",
    "    # https://deepnotes.io/softmax-crossentropy\n",
    "    # max(Z) term is added to stabilise the function.\n",
    "    exps = np.exp(Z - np.max(Z))\n",
    "    return exps / np.sum(exps, axis=0)\n",
    "\n",
    "\n",
    "# References\n",
    "# https://mc.ai/multilayered-neural-network-from-scratch-using-python/\n",
    "# https://mattmazur.com/2015/03/17/a-step-by-step-backpropagation-example/\n",
    "# https://www.coursera.org/learn/machine-learning/home/week/5\n",
    "# https://www.coursera.org/specializations/deep-learning\n",
    "# https://github.com/mnielsen/neural-networks-and-deep-learning/blob/master/src/network.py\n",
    "# https://github.com/JWarmenhoven/Coursera-Machine-Learning\n",
    "\n",
    "class NeuralNetwork:\n",
    "\n",
    "    def __init__(\n",
    "            self,\n",
    "            input_layer: tuple,\n",
    "            hidden_layer: list,  # list of tuples\n",
    "            output_layer: int,\n",
    "            batch_size=16,\n",
    "            alpha=1,\n",
    "            optimizer=\"SGD\",\n",
    "            penalty=\"l2\",\n",
    "            lambd=\"0.1\",\n",
    "            dropout = False,\n",
    "            keep_prob = 0.9,\n",
    "            epoch=500,\n",
    "            random_state=42,\n",
    "            verbose=True,\n",
    "            metrics=\"accuracy\"\n",
    "    ):\n",
    "        self.input_layer = input_layer\n",
    "        self.hidden_layer = hidden_layer\n",
    "        self.output_layer = output_layer\n",
    "        self.mini_batch_size = batch_size\n",
    "        self.alpha = alpha\n",
    "        self.optimizer = optimizer\n",
    "        self.penalty = penalty\n",
    "        self.lambd = lambd\n",
    "        self.dropout = dropout,\n",
    "        self.keep_prob = keep_prob,\n",
    "        self.epoch = epoch\n",
    "        self.seed = random_state\n",
    "        self.verbose = verbose\n",
    "        self.metrics = metrics\n",
    "        self.layers = len(self.weight_set_dimensions) + 1\n",
    "        self.EPSILON = 10e-10\n",
    "\n",
    "\n",
    "    def __str__(self):\n",
    "        parameters = (\n",
    "            \"Input layer: {0}\\n\"\n",
    "            \"Hidden layer: {1}\\n\"\n",
    "            \"Output layer: {2}\\n\"\n",
    "            \"Batch size: {3}\\n\"\n",
    "            \"Learning rate: {4}\\n\"\n",
    "            \"Epoch: {5}\\n\"\n",
    "            \"Seed: {6}\\n\"\n",
    "            \"Verbose: {7}\\n\"\n",
    "            \"Metric: {8}\"\n",
    "        ).format(\n",
    "            self.input_layer,\n",
    "            \" - \".join(map(str, self.hidden_layer)),\n",
    "            self.output_layer,\n",
    "            self.mini_batch_size,\n",
    "            self.alpha,\n",
    "            self.epoch,\n",
    "            self.seed,\n",
    "            self.verbose,\n",
    "            self.metrics\n",
    "        )\n",
    "        return parameters\n",
    "\n",
    "    def get_A(self, X):\n",
    "        A, _ = self.forwardpass(X)\n",
    "        return A\n",
    "\n",
    "    def get_Z(self, X):\n",
    "        _, Z = self.forwardpass(X)\n",
    "        return Z\n",
    "    \n",
    "    # ============== LOSS FUNCTIONS ===============#\n",
    "\n",
    "    # https://deepnotes.io/softmax-crossentropy\n",
    "\n",
    "    def calculate_error(self, Y, Y_hat):\n",
    "        # Y and Y_hat should be in the form of (no_of_classes, no_of_training_examples)\n",
    "        cost = -np.sum(Y * np.log(Y_hat + EPSILON)) / self.m\n",
    "        penalise_by = 0\n",
    "        if self.penalty == \"l1\":\n",
    "            for layer in range(1, self.layers):\n",
    "                penalise_by += np.sum(np.abs(self.W[layer])) * self.lambd / (2 * self.m)\n",
    "            return cost + penalise_by\n",
    "        elif self.penalty == \"l2\":\n",
    "            for layer in range(1, self.layers):\n",
    "                penalise_by += np.sum(np.square(self.W[layer])) * self.lambd / (2 * self.m)\n",
    "            return cost + penalise_by\n",
    "        else:\n",
    "            return cost\n",
    "\n",
    "\n",
    "    def display_information(self, X, Y, epoch_no):\n",
    "        model_performance_metrics = calculate_model_performance(\n",
    "            np.argmax(Y, axis=0),\n",
    "            self.predict(X)\n",
    "        )\n",
    "        print(\"%s: %.10f - epoch %s    iteration %s - loss %.20f\" % (\n",
    "            self.metrics,\n",
    "            model_performance_metrics[self.metrics],\n",
    "            epoch_no,\n",
    "            self.no_of_iterations,\n",
    "            self.calculate_error(Y,\n",
    "                            self.get_A(X)[-1])\n",
    "        )\n",
    "              )\n",
    "\n",
    "    def get_dimensions_and_activations(self):\n",
    "        self.dimensions = []\n",
    "        self.activation_functions = []\n",
    "\n",
    "        self.dimensions.append(self.input_layer[0])\n",
    "        self.activation_functions.append(self.input_layer[1])\n",
    "\n",
    "        for dim, act_func in self.hidden_layer:\n",
    "            self.dimensions.append(dim)\n",
    "            self.activation_functions.append(act_func)\n",
    "\n",
    "        self.dimensions.append(self.output_layer)\n",
    "\n",
    "    @property\n",
    "    def weight_set_dimensions(self):\n",
    "        self.get_dimensions_and_activations()\n",
    "        a, b = itertools.tee(self.dimensions[::-1])\n",
    "        next(b, None)\n",
    "        weight_set_dimensions = list(zip(a, b))[::-1]\n",
    "        return weight_set_dimensions\n",
    "\n",
    "    def initialise_weights(self, layer=None):\n",
    "        self.W = np.empty_like(range(self.layers), dtype=object)\n",
    "        self.B = np.empty_like(range(self.layers), dtype=object)\n",
    "        for layer, (y, x) in zip(range(1, self.layers), self.weight_set_dimensions):\n",
    "            np.random.seed(self.seed)\n",
    "            self.W[layer] = np.random.rand(y, x) / np.sqrt(self.dimensions[layer - 1])\n",
    "            self.B[layer] = np.random.rand(y, 1)\n",
    "\n",
    "    def forwardpass(self, X):\n",
    "        Z = np.empty_like(range(self.layers), dtype=object)\n",
    "        A = np.empty_like(range(self.layers), dtype=object)\n",
    "        A[0] = X\n",
    "\n",
    "        for layer in range(1, self.layers):\n",
    "            # activation_function starts from 0 whereas layer starts from 1\n",
    "            active_function = self.activation_functions[layer - 1]\n",
    "            arg_to_pass_to_eval = \"(Z[layer])\"\n",
    "\n",
    "            Z[layer] = self.W[layer] @ A[layer - 1] + self.B[layer]\n",
    "            A[layer] = eval(active_function + arg_to_pass_to_eval)\n",
    "            \n",
    "            if self.dropout is True:\n",
    "                print(\"here\")\n",
    "                D = np.random.randn(A[layer].shape[0], A[layer].shape[1])\n",
    "                D = (D < self.keep_prob)\n",
    "                A[layer] = np.multiply(A[layer], D) / self.keep_prob\n",
    "        return A, Z\n",
    "\n",
    "    def backpropagation(self, Y, A, Z):\n",
    "        self.delta = np.empty_like(range(self.layers), dtype=object)\n",
    "\n",
    "        self.gradient_W = np.empty_like(range(self.layers), dtype=object)\n",
    "        self.gradient_B = np.empty_like(range(self.layers), dtype=object)\n",
    "\n",
    "        self.delta[-1] = A[-1] - Y\n",
    "\n",
    "        # We substract 1 here as delta_final is calculated seperately above\n",
    "        for layer in reversed(range(1, self.layers - 1)):\n",
    "            # 1 is substracted from layer as activation_functions start indexing from 0\n",
    "            active_function = self.activation_functions[layer - 1]\n",
    "            arg_to_pass_to_eval = \"(Z[layer], prime=True)\"\n",
    "\n",
    "            self.delta[layer] = (\n",
    "                    self.W[layer + 1].T @ self.delta[layer + 1] *\n",
    "                    eval(active_function + arg_to_pass_to_eval)\n",
    "            )\n",
    "\n",
    "        for layer in range(1, self.layers):\n",
    "            self.gradient_W[layer] = (self.delta[layer] @ A[layer - 1].T) / self.m\n",
    "            self.gradient_B[layer] = np.sum(self.delta[layer], axis=1, keepdims=True) / self.m\n",
    "            \n",
    "            if self.penalty == \"l1\":\n",
    "                # https://towardsdatascience.com/only-numpy-implementing-different-combination-of-l1-norm-l2-norm-l1-regularization-and-14b01a9773b\n",
    "                self.gradient_W[layer] += np.where(self.W[layer] < 0, -1, 1) * (self.lambd / self.m)\n",
    "            elif self.penalty == \"l2\":\n",
    "                self.gradient_W[layer] += self.W[layer] * (self.lambd / self.m)\n",
    "            \n",
    "        self.update_weights()\n",
    "\n",
    "\n",
    "    def update_weights(self):\n",
    "        if self.optimizer == \"SGD\":\n",
    "            for layer in range(1, self.layers):\n",
    "                self.W[layer] -= self.alpha * self.gradient_W[layer]\n",
    "                self.B[layer] -= self.alpha * self.gradient_B[layer]\n",
    "\n",
    "        elif self.optimizer[\"method\"] == \"SGDM\":\n",
    "            for layer in range(1, self.layers):\n",
    "                beta = self.optimizer[\"beta\"]\n",
    "                self.v_dw[layer] = beta * self.v_dw[layer] + (1 - beta) * self.gradient_W[layer]\n",
    "                self.v_db[layer] = beta * self.v_db[layer] + (1 - beta) * self.gradient_B[layer]\n",
    "\n",
    "                self.W[layer] -= self.alpha * self.v_dw[layer]\n",
    "                self.B[layer] -= self.alpha * self.v_db[layer]\n",
    "\n",
    "        elif self.optimizer[\"method\"] == \"RMSP\":\n",
    "            for layer in range(1, self.layers):\n",
    "                beta = self.optimizer[\"beta\"]\n",
    "                self.s_dw[layer] = beta * self.s_dw[layer] + (1 - beta) * np.square(self.gradient_W[layer])\n",
    "                self.s_db[layer] = beta * self.s_db[layer] + (1 - beta) * np.square(self.gradient_B[layer])\n",
    "\n",
    "                w_rms_grad = self.gradient_W[layer] / (np.sqrt(self.s_dw[layer]) + self.EPSILON)\n",
    "                b_rms_grad = self.gradient_B[layer] / (np.sqrt(self.s_db[layer]) + self.EPSILON)\n",
    "\n",
    "                self.W[layer] -= self.alpha * w_rms_grad\n",
    "                self.B[layer] -= self.alpha * b_rms_grad\n",
    "\n",
    "        elif self.optimizer[\"method\"] == \"ADAM\":\n",
    "            # EWA: Exponential weighted average\n",
    "            # ToDo: Check if bias correction is necessary. The EWA will be inaccurate initially,\n",
    "            # but it shouldn't take many iterations to compute correct EWA.\n",
    "            for layer in range(1, self.layers):\n",
    "                beta1 = self.optimizer[\"beta1\"]\n",
    "                beta2 = self.optimizer[\"beta2\"]\n",
    "                self.v_dw[layer] = beta1 * self.v_dw[layer] + (1 - beta1) * self.gradient_W[layer]\n",
    "                self.v_db[layer] = beta1 * self.v_db[layer] + (1 - beta1) * self.gradient_B[layer]\n",
    "\n",
    "                self.s_dw[layer] = beta2 * self.s_dw[layer] + (1 - beta2) * np.square(self.gradient_W[layer])\n",
    "                self.s_db[layer] = beta2 * self.s_db[layer] + (1 - beta2) * np.square(self.gradient_B[layer])\n",
    "\n",
    "                v_dw_corrected = self.v_dw[layer] / (1 - beta1 ** self.no_of_iterations)\n",
    "                s_dw_corrected = self.s_dw[layer] / (1 - beta2 ** self.no_of_iterations)\n",
    "\n",
    "                v_db_corrected = self.v_db[layer] / (1 - beta1 ** self.no_of_iterations)\n",
    "                s_db_corrected = self.s_db[layer] / (1 - beta2 ** self.no_of_iterations)\n",
    "\n",
    "                self.W[layer] -= self.alpha * (v_dw_corrected / (np.sqrt(s_dw_corrected) + self.EPSILON))\n",
    "                self.B[layer] -= self.alpha * (v_db_corrected / (np.sqrt(s_db_corrected) + self.EPSILON))\n",
    "\n",
    "\n",
    "    def initialise_cache(self):\n",
    "        self.v_dw = np.empty_like(range(self.layers), dtype=object)\n",
    "        self.v_db = np.empty_like(range(self.layers), dtype=object)\n",
    "    \n",
    "        self.s_dw = np.empty_like(range(self.layers), dtype=object)\n",
    "        self.s_db = np.empty_like(range(self.layers), dtype=object)\n",
    "\n",
    "        for layer, (y, x) in zip(range(1, self.layers), self.weight_set_dimensions):\n",
    "            self.v_dw[layer] = np.zeros((y, x))\n",
    "            self.v_db[layer] = np.zeros((y, 1))\n",
    "            \n",
    "            self.s_dw[layer] = np.zeros((y, x))\n",
    "            self.s_db[layer] = np.zeros((y, 1))\n",
    "\n",
    "\n",
    "    @timeit\n",
    "    def fit(self, X, Y):\n",
    "        self.m = X.shape[1] # where (no_of_features, no_of_training_examples)\n",
    "        self.initialise_weights()\n",
    "        self.initialise_cache()\n",
    "\n",
    "        # By default the method is SGD(Stochastic Gradient Descent) if one wishes to use\n",
    "        # the whole batch, simply pass the number of traning examples available as the\n",
    "        # batch size when instantiating the class\n",
    "        self.no_of_iterations = 0\n",
    "        shuffled = np.arange(self.m)\n",
    "        if self.verbose:\n",
    "            print(\"Initialising weights...\")\n",
    "            print(\"Starting the training...\")\n",
    "            print(\"Initial cost: %.10f\\n\" % self.calculate_error(Y, self.get_A(X)[-1]))\n",
    "        for epoch_no in range(1, self.epoch + 1):\n",
    "            np.random.shuffle(shuffled)\n",
    "            X_shuffled = X[:, shuffled]\n",
    "            Y_shuffled = Y[:, shuffled]\n",
    "            for i in range(0, self.m, self.mini_batch_size):\n",
    "                self.no_of_iterations += 1\n",
    "                X_mini_batch = X_shuffled[:, i: i + self.mini_batch_size]\n",
    "                Y_mini_batch = Y_shuffled[:, i: i + self.mini_batch_size]\n",
    "\n",
    "                A, Z = self.forwardpass(X_mini_batch)\n",
    "                self.backpropagation(Y_mini_batch, A, Z)\n",
    "                if self.no_of_iterations % 100 == 0 and self.verbose:\n",
    "                    self.display_information(X, Y, epoch_no)\n",
    "\n",
    "    def predict(\n",
    "            self,\n",
    "            X: np.ndarray,\n",
    "            return_prob_matrix=False\n",
    "    ):\n",
    "        \"\"\"Predict the output given the training data.\n",
    "\n",
    "            Returns the predicted values in two forms:\n",
    "\n",
    "            1.either by picking up the highest value along the columns for every row,\n",
    "                i.e. \"np.argmax(self.A[-1].T, axis=1)\"\n",
    "            2.or by returning a matrix that is in the shape of Y.T where each column\n",
    "                represents the probability of the instance belonging to that class.\n",
    "                Please note that every column in Y.T represents a class. To be able to\n",
    "                return the probability matrix, the final activation function must be\n",
    "                softmax!\n",
    "                i.e. \"array([0.9650488423, 0.0354737543, 0.0005225966])\"\n",
    "\n",
    "        Args:\n",
    "            X (numpy.ndarray): Training set in the shape of\n",
    "                (no_of_features, no_of_training examples).\n",
    "            return_prob_matrix (bool, optional): Returns the probability matrix if True.\n",
    "                Defaults to False.\n",
    "\n",
    "        Returns:\n",
    "            numpy.ndarray:\n",
    "\n",
    "            if return_prob_matrix is False, the output is in the shape of\n",
    "                (no_of_training_examples, 1)\n",
    "            if return_prob_matrix is True, the output is in the shape of\n",
    "                (no_of_training_examples, no_of_features)\n",
    "        \"\"\"\n",
    "        A, Z = self.forwardpass(X)\n",
    "        if return_prob_matrix:\n",
    "            np.set_printoptions(precision=10, suppress=True)\n",
    "            return A[-1].T\n",
    "        return np.argmax(A[-1].T, axis=1)"
   ]
  },
  {
   "cell_type": "markdown",
   "metadata": {},
   "source": [
    "# Testing with benchmark datasets\n",
    "\n",
    "## 1.Iris Dataset"
   ]
  },
  {
   "cell_type": "code",
   "execution_count": 24,
   "metadata": {
    "collapsed": false
   },
   "outputs": [],
   "source": [
    "from sklearn.datasets import load_iris\n",
    "data = load_iris()\n",
    "\n",
    "x = data.data[:,[0,2]]\n",
    "y = data.target\n",
    "\n",
    "X = x.T\n",
    "Y = one_hot_encode(y).T"
   ]
  },
  {
   "cell_type": "code",
   "execution_count": 25,
   "metadata": {
    "collapsed": false
   },
   "outputs": [
    {
     "name": "stdout",
     "output_type": "stream",
     "text": [
      "(2, 150)\n",
      "(3, 150)\n"
     ]
    }
   ],
   "source": [
    "print(X.shape)\n",
    "print(Y.shape)"
   ]
  },
  {
   "cell_type": "code",
   "execution_count": 26,
   "metadata": {
    "collapsed": false,
    "scrolled": true
   },
   "outputs": [
    {
     "name": "stdout",
     "output_type": "stream",
     "text": [
      "Initialising weights...\n",
      "Starting the training...\n",
      "Initial cost: 2.1722547973\n",
      "\n",
      "accuracy: 75.3333333328 - epoch 34    iteration 100 - loss 0.52207993300976174300\n",
      "accuracy: 93.9999999994 - epoch 67    iteration 200 - loss 0.23762698771784168672\n",
      "accuracy: 95.9999999994 - epoch 100    iteration 300 - loss 0.13258480561607385861\n",
      "accuracy: 95.9999999994 - epoch 134    iteration 400 - loss 0.11424061213710878793\n",
      "accuracy: 95.9999999994 - epoch 167    iteration 500 - loss 0.11451978669556735213\n",
      "accuracy: 95.9999999994 - epoch 200    iteration 600 - loss 0.10058079201569422589\n",
      "accuracy: 95.9999999994 - epoch 234    iteration 700 - loss 0.10516579997153779891\n",
      "accuracy: 95.9999999994 - epoch 267    iteration 800 - loss 0.09457311123667304364\n",
      "accuracy: 95.9999999994 - epoch 300    iteration 900 - loss 0.09244557838540501393\n",
      "accuracy: 95.9999999994 - epoch 334    iteration 1000 - loss 0.09129316663983459701\n",
      "accuracy: 96.6666666660 - epoch 367    iteration 1100 - loss 0.08790719854846917869\n",
      "accuracy: 95.3333333327 - epoch 400    iteration 1200 - loss 0.10335897528990094230\n",
      "accuracy: 96.6666666660 - epoch 434    iteration 1300 - loss 0.10007886490798169332\n",
      "accuracy: 96.6666666660 - epoch 467    iteration 1400 - loss 0.08497867208590581534\n",
      "accuracy: 96.6666666660 - epoch 500    iteration 1500 - loss 0.09103832437568681879\n",
      "accuracy: 97.3333333327 - epoch 534    iteration 1600 - loss 0.08411021425498003967\n",
      "accuracy: 96.6666666660 - epoch 567    iteration 1700 - loss 0.08690835892474636781\n",
      "accuracy: 95.9999999994 - epoch 600    iteration 1800 - loss 0.08293924700501584257\n",
      "accuracy: 97.3333333327 - epoch 634    iteration 1900 - loss 0.09614495608675674432\n",
      "accuracy: 96.6666666660 - epoch 667    iteration 2000 - loss 0.08799495232186582694\n",
      "accuracy: 97.3333333327 - epoch 700    iteration 2100 - loss 0.08237244653596144384\n",
      "accuracy: 95.9999999994 - epoch 734    iteration 2200 - loss 0.08266381892732506398\n",
      "accuracy: 95.9999999994 - epoch 767    iteration 2300 - loss 0.08219430820658775450\n",
      "accuracy: 97.3333333327 - epoch 800    iteration 2400 - loss 0.08082362209204863035\n",
      "accuracy: 95.9999999994 - epoch 834    iteration 2500 - loss 0.08068402249157935469\n",
      "accuracy: 97.3333333327 - epoch 867    iteration 2600 - loss 0.08082206690032935070\n",
      "accuracy: 96.6666666660 - epoch 900    iteration 2700 - loss 0.08407382178300801256\n",
      "accuracy: 95.3333333327 - epoch 934    iteration 2800 - loss 0.09866442502537997594\n",
      "accuracy: 95.9999999994 - epoch 967    iteration 2900 - loss 0.08755695985777833812\n",
      "accuracy: 97.3333333327 - epoch 1000    iteration 3000 - loss 0.08056234591559376101\n",
      "accuracy: 96.6666666660 - epoch 1034    iteration 3100 - loss 0.08171682191662918426\n",
      "accuracy: 95.9999999994 - epoch 1067    iteration 3200 - loss 0.08122337362572509822\n",
      "accuracy: 95.9999999994 - epoch 1100    iteration 3300 - loss 0.08599367545876174246\n",
      "accuracy: 97.3333333327 - epoch 1134    iteration 3400 - loss 0.07986673224248209968\n",
      "accuracy: 97.3333333327 - epoch 1167    iteration 3500 - loss 0.08022509325274841674\n",
      "accuracy: 96.6666666660 - epoch 1200    iteration 3600 - loss 0.08144458280334869460\n",
      "accuracy: 96.6666666660 - epoch 1234    iteration 3700 - loss 0.08104181196251465658\n",
      "accuracy: 95.9999999994 - epoch 1267    iteration 3800 - loss 0.08442166566933596850\n",
      "accuracy: 95.9999999994 - epoch 1300    iteration 3900 - loss 0.08108415655718359538\n",
      "accuracy: 96.6666666660 - epoch 1334    iteration 4000 - loss 0.07990476912832376877\n",
      "accuracy: 96.6666666660 - epoch 1367    iteration 4100 - loss 0.08015871277371461323\n",
      "accuracy: 95.9999999994 - epoch 1400    iteration 4200 - loss 0.08636279616136043058\n",
      "accuracy: 95.9999999994 - epoch 1434    iteration 4300 - loss 0.08066243827052689552\n",
      "accuracy: 97.3333333327 - epoch 1467    iteration 4400 - loss 0.07980826084627860861\n",
      "accuracy: 96.6666666660 - epoch 1500    iteration 4500 - loss 0.07988103382709148270\n",
      "accuracy: 97.3333333327 - epoch 1534    iteration 4600 - loss 0.07988635285682263443\n",
      "accuracy: 95.9999999994 - epoch 1567    iteration 4700 - loss 0.08063953292467315737\n",
      "accuracy: 96.6666666660 - epoch 1600    iteration 4800 - loss 0.08025759994191944413\n",
      "accuracy: 96.6666666660 - epoch 1634    iteration 4900 - loss 0.08158328350204567536\n",
      "accuracy: 95.9999999994 - epoch 1667    iteration 5000 - loss 0.08424983718042666769\n",
      "accuracy: 96.6666666660 - epoch 1700    iteration 5100 - loss 0.08032005776819092779\n",
      "accuracy: 96.6666666660 - epoch 1734    iteration 5200 - loss 0.08332642289603496566\n",
      "accuracy: 96.6666666660 - epoch 1767    iteration 5300 - loss 0.08216350130994509726\n",
      "accuracy: 96.6666666660 - epoch 1800    iteration 5400 - loss 0.07962143680371776278\n",
      "accuracy: 96.6666666660 - epoch 1834    iteration 5500 - loss 0.08059879250969283204\n",
      "accuracy: 96.6666666660 - epoch 1867    iteration 5600 - loss 0.08084747352521638730\n",
      "accuracy: 97.3333333327 - epoch 1900    iteration 5700 - loss 0.07987228405011875809\n",
      "accuracy: 95.3333333327 - epoch 1934    iteration 5800 - loss 0.09508503245831827211\n",
      "accuracy: 97.3333333327 - epoch 1967    iteration 5900 - loss 0.07960975953326579480\n",
      "accuracy: 95.9999999994 - epoch 2000    iteration 6000 - loss 0.08624122668617092979\n",
      "accuracy: 97.3333333327 - epoch 2034    iteration 6100 - loss 0.07983032855560753815\n",
      "accuracy: 95.9999999994 - epoch 2067    iteration 6200 - loss 0.08114696867199278074\n",
      "accuracy: 96.6666666660 - epoch 2100    iteration 6300 - loss 0.07962237646112053924\n",
      "accuracy: 96.6666666660 - epoch 2134    iteration 6400 - loss 0.08008142199117304627\n",
      "accuracy: 97.3333333327 - epoch 2167    iteration 6500 - loss 0.07979125396903737066\n",
      "accuracy: 96.6666666660 - epoch 2200    iteration 6600 - loss 0.08260944133921555022\n",
      "accuracy: 96.6666666660 - epoch 2234    iteration 6700 - loss 0.07967835175368614964\n",
      "accuracy: 96.6666666660 - epoch 2267    iteration 6800 - loss 0.08189714861603965279\n",
      "accuracy: 96.6666666660 - epoch 2300    iteration 6900 - loss 0.08117063822647641036\n",
      "accuracy: 96.6666666660 - epoch 2334    iteration 7000 - loss 0.07970817864499121774\n",
      "accuracy: 97.3333333327 - epoch 2367    iteration 7100 - loss 0.07962459883565654872\n",
      "accuracy: 96.6666666660 - epoch 2400    iteration 7200 - loss 0.08319543150298697176\n",
      "accuracy: 96.6666666660 - epoch 2434    iteration 7300 - loss 0.07964136815545765080\n",
      "accuracy: 96.6666666660 - epoch 2467    iteration 7400 - loss 0.07999487378559209938\n",
      "accuracy: 96.6666666660 - epoch 2500    iteration 7500 - loss 0.07964299674385381944\n",
      "accuracy: 97.3333333327 - epoch 2534    iteration 7600 - loss 0.07961264921075342227\n",
      "accuracy: 96.6666666660 - epoch 2567    iteration 7700 - loss 0.08038793375607412861\n",
      "accuracy: 96.6666666660 - epoch 2600    iteration 7800 - loss 0.07988186697118541957\n",
      "accuracy: 95.9999999994 - epoch 2634    iteration 7900 - loss 0.08106204951204844245\n",
      "accuracy: 95.9999999994 - epoch 2667    iteration 8000 - loss 0.08420332411247280491\n",
      "accuracy: 96.6666666660 - epoch 2700    iteration 8100 - loss 0.07995574998658624977\n",
      "accuracy: 95.9999999994 - epoch 2734    iteration 8200 - loss 0.08048515973770391241\n",
      "accuracy: 96.6666666660 - epoch 2767    iteration 8300 - loss 0.08686337384816660012\n",
      "accuracy: 95.3333333327 - epoch 2800    iteration 8400 - loss 0.09068468007862816316\n",
      "accuracy: 95.9999999994 - epoch 2834    iteration 8500 - loss 0.08867021963851484667\n",
      "accuracy: 95.9999999994 - epoch 2867    iteration 8600 - loss 0.08052302715050665971\n",
      "accuracy: 96.6666666660 - epoch 2900    iteration 8700 - loss 0.08117855853353107831\n",
      "accuracy: 97.3333333327 - epoch 2934    iteration 8800 - loss 0.07964958921724288321\n",
      "accuracy: 95.9999999994 - epoch 2967    iteration 8900 - loss 0.08048688054911125322\n",
      "accuracy: 95.9999999994 - epoch 3000    iteration 9000 - loss 0.08043277279894422982\n",
      "accuracy: 96.6666666660 - epoch 3034    iteration 9100 - loss 0.08522315337779605426\n",
      "accuracy: 96.6666666660 - epoch 3067    iteration 9200 - loss 0.08187704501209314145\n",
      "accuracy: 96.6666666660 - epoch 3100    iteration 9300 - loss 0.07980336983258944084\n",
      "accuracy: 95.9999999994 - epoch 3134    iteration 9400 - loss 0.08869859132227547738\n",
      "accuracy: 97.3333333327 - epoch 3167    iteration 9500 - loss 0.07963716573162687995\n",
      "accuracy: 95.9999999994 - epoch 3200    iteration 9600 - loss 0.08652993541484363393\n",
      "accuracy: 96.6666666660 - epoch 3234    iteration 9700 - loss 0.07967196155507891286\n",
      "accuracy: 96.6666666660 - epoch 3267    iteration 9800 - loss 0.08185072138691364130\n",
      "accuracy: 97.3333333327 - epoch 3300    iteration 9900 - loss 0.07961434083164076192\n",
      "accuracy: 96.6666666660 - epoch 3334    iteration 10000 - loss 0.08017498919365489973\n",
      "accuracy: 96.6666666660 - epoch 3367    iteration 10100 - loss 0.08194693147008678957\n",
      "accuracy: 96.6666666660 - epoch 3400    iteration 10200 - loss 0.08052374923643185189\n",
      "accuracy: 96.6666666660 - epoch 3434    iteration 10300 - loss 0.07967768372352429518\n",
      "accuracy: 96.6666666660 - epoch 3467    iteration 10400 - loss 0.08190517148370267397\n",
      "accuracy: 96.6666666660 - epoch 3500    iteration 10500 - loss 0.08082822557319596646\n",
      "accuracy: 96.6666666660 - epoch 3534    iteration 10600 - loss 0.07959091886531015347\n",
      "accuracy: 95.9999999994 - epoch 3567    iteration 10700 - loss 0.08113278404526788612\n",
      "accuracy: 97.3333333327 - epoch 3600    iteration 10800 - loss 0.08010329968972741688\n",
      "accuracy: 97.3333333327 - epoch 3634    iteration 10900 - loss 0.08008033785776894065\n",
      "accuracy: 96.6666666660 - epoch 3667    iteration 11000 - loss 0.08008515905115758116\n",
      "accuracy: 97.3333333327 - epoch 3700    iteration 11100 - loss 0.08887596939204905899\n",
      "accuracy: 97.3333333327 - epoch 3734    iteration 11200 - loss 0.07974912926148788883\n",
      "accuracy: 95.9999999994 - epoch 3767    iteration 11300 - loss 0.08077584768859980002\n",
      "accuracy: 96.6666666660 - epoch 3800    iteration 11400 - loss 0.08077282802085104796\n",
      "accuracy: 95.9999999994 - epoch 3834    iteration 11500 - loss 0.08369220826787948653\n",
      "accuracy: 96.6666666660 - epoch 3867    iteration 11600 - loss 0.08142368136124984723\n",
      "accuracy: 96.6666666660 - epoch 3900    iteration 11700 - loss 0.07980720241263873638\n",
      "accuracy: 95.9999999994 - epoch 3934    iteration 11800 - loss 0.08083278951644348731\n",
      "accuracy: 96.6666666660 - epoch 3967    iteration 11900 - loss 0.08199442109405491452\n",
      "accuracy: 95.9999999994 - epoch 4000    iteration 12000 - loss 0.08054043308869733575\n",
      "func:'fit' -- took: 6.2295 sec\n"
     ]
    }
   ],
   "source": [
    "model = NeuralNetwork(\n",
    "    input_layer=(2, 'relu'),\n",
    "    hidden_layer=[(4,'relu'),(4,'softmax')],\n",
    "    output_layer=3,\n",
    "    batch_size=64,\n",
    "    optimizer={\"method\": \"ADAM\", \"beta1\": 0.9, \"beta2\": 0.999},\n",
    "    penalty=\"l2\",\n",
    "    lambd=0.0001,\n",
    "    epoch=4000,\n",
    "    alpha=0.01\n",
    ")\n",
    "\n",
    "model.fit(X,Y)"
   ]
  },
  {
   "cell_type": "code",
   "execution_count": null,
   "metadata": {
    "collapsed": false
   },
   "outputs": [],
   "source": [
    "calculate_model_performance(np.argmax(Y, axis=0),\n",
    "                           model.predict(X))"
   ]
  },
  {
   "cell_type": "code",
   "execution_count": null,
   "metadata": {
    "collapsed": false,
    "scrolled": true
   },
   "outputs": [],
   "source": [
    "results_dict_all_models, results_average_dict, models = grid_search(\n",
    "    x,\n",
    "    y,\n",
    "    clf=NeuralNetwork,\n",
    "    lst_metrics=[\"F1\", \"accuracy\"],\n",
    "    sort_by = \"accuracy\",\n",
    "    n_folds=5,\n",
    "    dict_param_grid={\n",
    "        'batch_size': [8, 16, 32],\n",
    "        'input_layer': [(2, 'relu')],\n",
    "        'hidden_layer': [\n",
    "            [(4,'relu'), (4,'softmax')],\n",
    "            [(4,'sigmoid'),(4,'softmax')]\n",
    "        ],\n",
    "        'optimizer': [\n",
    "            {\n",
    "                \"method\": \"RMSP\",\n",
    "                \"beta\": 0.9\n",
    "            }\n",
    "        ],\n",
    "        'output_layer': [3],\n",
    "        'alpha': [0.001],\n",
    "        'verbose': [False],\n",
    "        'epoch': [1000]\n",
    "    }\n",
    ")"
   ]
  },
  {
   "cell_type": "code",
   "execution_count": 10,
   "metadata": {
    "collapsed": false,
    "scrolled": false
   },
   "outputs": [
    {
     "name": "stderr",
     "output_type": "stream",
     "text": [
      "C:\\Anaconda3\\lib\\site-packages\\numpy\\ma\\core.py:6461: MaskedArrayFutureWarning: In the future the default for ma.maximum.reduce will be axis=0, not the current None, to match np.maximum.reduce. Explicitly pass 0 or None to silence this warning.\n",
      "  return self.reduce(a)\n",
      "C:\\Anaconda3\\lib\\site-packages\\numpy\\ma\\core.py:6461: MaskedArrayFutureWarning: In the future the default for ma.minimum.reduce will be axis=0, not the current None, to match np.minimum.reduce. Explicitly pass 0 or None to silence this warning.\n",
      "  return self.reduce(a)\n"
     ]
    },
    {
     "data": {
      "text/plain": [
       "<matplotlib.text.Text at 0x177fa6f0>"
      ]
     },
     "execution_count": 10,
     "metadata": {},
     "output_type": "execute_result"
    },
    {
     "data": {
      "image/png": "[encoded data removed]",
      "text/plain": [
       "<matplotlib.figure.Figure at 0x135f0550>"
      ]
     },
     "metadata": {},
     "output_type": "display_data"
    }
   ],
   "source": [
    "%matplotlib inline\n",
    "import matplotlib.pyplot as plt\n",
    "dt = data.data[:,[0,2]]\n",
    "x_min, x_max = dt[:, 0].min() - 1, dt[:, 0].max() + 1\n",
    "y_min, y_max = dt[:, 1].min() - 1, dt[:, 1].max() + 1\n",
    "xx, yy = np.meshgrid(np.arange(x_min, x_max, 0.1),\n",
    "                     np.arange(y_min, y_max, 0.1))\n",
    "\n",
    "# here \"model\" is your model's prediction (classification) function\n",
    "Z = model.predict(np.c_[xx.ravel(), yy.ravel()].T) \n",
    "\n",
    "# Put the result into a color plot\n",
    "Z = Z.reshape(xx.shape)\n",
    "plt.figure(figsize=(12,8))\n",
    "plt.contourf(xx, yy, Z,alpha=0.4)\n",
    "#plt.axis('off')\n",
    "\n",
    "plt.scatter(dt[:, 0], dt[:, 1], c=y,s=20, edgecolor='k')\n",
    "plt.xlabel('sepal length')\n",
    "plt.ylabel('petal length')"
   ]
  },
  {
   "cell_type": "markdown",
   "metadata": {},
   "source": [
    "## 2.Make Moons dataset"
   ]
  },
  {
   "cell_type": "code",
   "execution_count": null,
   "metadata": {
    "collapsed": false
   },
   "outputs": [],
   "source": [
    "from sklearn.datasets import make_moons\n",
    "\n",
    "x,y =make_moons(n_samples=1500, noise=.05)\n",
    "X = x.T\n",
    "Y = one_hot_encode(y).T\n",
    "\n",
    "print(X.shape)\n",
    "print(Y.shape)"
   ]
  },
  {
   "cell_type": "code",
   "execution_count": null,
   "metadata": {
    "collapsed": false,
    "scrolled": true
   },
   "outputs": [],
   "source": [
    "model = NeuralNetwork(\n",
    "    input_layer=(X.shape[0], 'relu'),\n",
    "    hidden_layer=[(10,'relu'), (4,'softmax')],\n",
    "    output_layer=Y.shape[0],\n",
    "    batch_size=16,\n",
    "    optimizer=\n",
    "    {\n",
    "        \"method\": \"ADAM\",\n",
    "        \"beta1\": 0.9,\n",
    "        \"beta2\": 0.999\n",
    "    },\n",
    "    penalty = \"l2\",\n",
    "    lambd=0.001,\n",
    "    epoch=100,\n",
    "    alpha=0.1\n",
    ")\n",
    "\n",
    "model.fit(X,Y)"
   ]
  },
  {
   "cell_type": "code",
   "execution_count": null,
   "metadata": {
    "collapsed": false,
    "scrolled": false
   },
   "outputs": [],
   "source": [
    "### Decision Boundaries\n",
    "%matplotlib inline\n",
    "import matplotlib.pyplot as plt\n",
    "dt = x\n",
    "x_min, x_max = dt[:, 0].min() - 0.5, dt[:, 0].max() + 0.5\n",
    "y_min, y_max = dt[:, 1].min() - 0.5, dt[:, 1].max() + 0.5\n",
    "xx, yy = np.meshgrid(np.arange(x_min, x_max, 0.1),\n",
    "                     np.arange(y_min, y_max, 0.1))\n",
    "\n",
    "# here \"model\" is your model's prediction (classification) function\n",
    "Z = model.predict(np.c_[xx.ravel(), yy.ravel()].T) \n",
    "\n",
    "# Put the result into a color plot\n",
    "Z = Z.reshape(xx.shape)\n",
    "plt.figure(figsize=(12,8))\n",
    "plt.contourf(xx, yy, Z,alpha=0.4)\n",
    "#plt.axis('off')\n",
    "plt.scatter(dt[:, 0], dt[:, 1], c=y, s=20, edgecolor='k')\n",
    "plt.title('Decision Boundaries')"
   ]
  },
  {
   "cell_type": "markdown",
   "metadata": {},
   "source": [
    "## 3.Andrew NG Assignment 2 Dataset"
   ]
  },
  {
   "cell_type": "code",
   "execution_count": null,
   "metadata": {
    "collapsed": true,
    "scrolled": true
   },
   "outputs": [],
   "source": [
    "ex2data2 = np.loadtxt(\"../ex2/data/ex2data2.txt\", delimiter=\",\")\n",
    "\n",
    "x = ex2data2[:, :-1]\n",
    "y = ex2data2[:, -1]\n",
    "\n",
    "X = x.T\n",
    "Y = one_hot_encode(y).T"
   ]
  },
  {
   "cell_type": "code",
   "execution_count": null,
   "metadata": {
    "collapsed": false
   },
   "outputs": [],
   "source": [
    "print(X.shape)\n",
    "print(Y.shape)"
   ]
  },
  {
   "cell_type": "code",
   "execution_count": null,
   "metadata": {
    "collapsed": false,
    "scrolled": true
   },
   "outputs": [],
   "source": [
    "model = NeuralNetwork(\n",
    "    input_layer=(X.shape[0], 'relu'),\n",
    "    hidden_layer=[(10,'relu'), (4,'softmax')],\n",
    "    output_layer=Y.shape[0],\n",
    "    batch_size=8,\n",
    "    optimizer={\"method\": \"ADAM\", \"beta1\": 0.9, \"beta2\": 0.999},\n",
    "    penalty = \"l2\",\n",
    "    lambd=0.05,\n",
    "    epoch=1500,\n",
    "    alpha=0.001\n",
    ")\n",
    "\n",
    "model.fit(X,Y)"
   ]
  },
  {
   "cell_type": "code",
   "execution_count": null,
   "metadata": {
    "collapsed": false,
    "scrolled": true
   },
   "outputs": [],
   "source": [
    "results_dict_all_models, results_average_dict, models = grid_search_stratified(\n",
    "    x,\n",
    "    y,\n",
    "    clf=NeuralNetwork,\n",
    "    metrics=[\"F1\", \"accuracy\"],\n",
    "    sort_by = \"accuracy\",\n",
    "    n_fold=6,\n",
    "    param_grid_dict={\n",
    "        'batch_size': [16, 32],\n",
    "        'input_layer': [(2, 'relu')],\n",
    "        'hidden_layer': [\n",
    "            [(4,'relu'), (4,'relu'), (4,'softmax')],\n",
    "            [(4,'sigmoid'),(4,'softmax')]\n",
    "        ],\n",
    "        'output_layer': [2],\n",
    "        'alpha': [2, 4],\n",
    "        'verbose': [False],\n",
    "        'epoch': [5000]\n",
    "    }\n",
    ")"
   ]
  },
  {
   "cell_type": "code",
   "execution_count": null,
   "metadata": {
    "collapsed": true,
    "scrolled": true
   },
   "outputs": [],
   "source": [
    "results_average_dict"
   ]
  },
  {
   "cell_type": "code",
   "execution_count": null,
   "metadata": {
    "collapsed": true
   },
   "outputs": [],
   "source": [
    "print(models[\"model_5\"])"
   ]
  },
  {
   "cell_type": "code",
   "execution_count": null,
   "metadata": {
    "collapsed": false
   },
   "outputs": [],
   "source": [
    "### Decision Boundaries\n",
    "%matplotlib inline\n",
    "import matplotlib.pyplot as plt\n",
    "X = ex2data2\n",
    "\n",
    "x1_min, x1_max = X[:, 0].min() - 0.3, X[:, 0].max() + 0.3,\n",
    "x2_min, x2_max = X[:, 1].min() - 0.3, X[:, 1].max() + 0.3,\n",
    "xx1, xx2 = np.meshgrid(np.linspace(x1_min, x1_max), np.linspace(x2_min, x2_max))\n",
    "\n",
    "# here \"model\" is your model's prediction (classification) function\n",
    "Z = model.predict(np.c_[xx1.ravel(), xx2.ravel()].T) \n",
    "\n",
    "negatives = ex2data2[ex2data2[:, -1] == 0]\n",
    "positives = ex2data2[ex2data2[:, -1] == 1]\n",
    "\n",
    "# Put the result into a color plot\n",
    "Z = Z.reshape(xx1.shape)\n",
    "plt.figure(figsize=(12,8))\n",
    "plt.contourf(xx1, xx2, Z,alpha=0.4)\n",
    "#plt.axis('off')\n",
    "plt.scatter(negatives[:, 0], negatives[:, 1],s=50, color='k')\n",
    "plt.scatter(positives[:, 0], positives[:, 1],s=50, color='r')\n",
    "plt.title('Decision Boundaries')\n",
    "\n",
    "plt.contour(xx1, xx2, Z, [0.5], linewidths=2, colors=\"g\")"
   ]
  },
  {
   "cell_type": "markdown",
   "metadata": {
    "collapsed": true
   },
   "source": [
    "# MNIST dataset"
   ]
  },
  {
   "cell_type": "code",
   "execution_count": null,
   "metadata": {
    "collapsed": false
   },
   "outputs": [],
   "source": [
    "from scipy.io import loadmat\n",
    "data = loadmat('../ex3/data/ex3data1.mat')\n",
    "data.keys()"
   ]
  },
  {
   "cell_type": "code",
   "execution_count": null,
   "metadata": {
    "collapsed": true
   },
   "outputs": [],
   "source": [
    "x = data[\"X\"]\n",
    "y = data[\"y\"]\n",
    "y[y==10] = 0"
   ]
  },
  {
   "cell_type": "code",
   "execution_count": null,
   "metadata": {
    "collapsed": false
   },
   "outputs": [],
   "source": [
    "dataset_test, dataset_train = split_data_as(x, y, train=0.9, test=0.1)\n",
    "X_train = dataset_train[:, :-1].T\n",
    "Y_train = one_hot_encode(dataset_train[:, -1]).T\n",
    "\n",
    "X_test = dataset_test[:, :-1].T\n",
    "Y_test = one_hot_encode(dataset_test[:, -1]).T"
   ]
  },
  {
   "cell_type": "code",
   "execution_count": null,
   "metadata": {
    "collapsed": true
   },
   "outputs": [],
   "source": [
    "# X = x.T\n",
    "# Y = one_hot_encode(y).T"
   ]
  },
  {
   "cell_type": "code",
   "execution_count": null,
   "metadata": {
    "collapsed": false
   },
   "outputs": [],
   "source": [
    "print(X.shape)\n",
    "print(Y.shape)"
   ]
  },
  {
   "cell_type": "code",
   "execution_count": null,
   "metadata": {
    "collapsed": false
   },
   "outputs": [],
   "source": [
    "import matplotlib.pyplot as plt\n",
    "\n",
    "fig, ax = plt.subplots(figsize=(20,20))\n",
    "\n",
    "sample = np.random.choice(data[\"X\"].shape[0], 20)\n",
    "ax.imshow(data[\"X\"][sample,1:].reshape(-1,20).T)\n",
    "ax.axis('off');"
   ]
  },
  {
   "cell_type": "code",
   "execution_count": null,
   "metadata": {
    "collapsed": false,
    "scrolled": true
   },
   "outputs": [],
   "source": [
    "# http://rodrigob.github.io/are_we_there_yet/build/classification_datasets_results.html#4d4e495354\n",
    "\n",
    "model = NeuralNetwork(\n",
    "    input_layer=(X_train.shape[0], 'relu'),\n",
    "    hidden_layer=[(200,'relu'),(100,'relu'),(4,'softmax')],\n",
    "    output_layer=Y_train.shape[0],\n",
    "    batch_size=64,\n",
    "    optimizer={\"method\": \"ADAM\", \"beta1\": 0.9, \"beta2\": 0.999},\n",
    "    penalty = \"l2\",\n",
    "    lambd=0.1,\n",
    "    epoch=500,\n",
    "    alpha=0.001\n",
    ")\n",
    "\n",
    "model.fit(X_train, Y_train)"
   ]
  },
  {
   "cell_type": "code",
   "execution_count": null,
   "metadata": {
    "collapsed": false
   },
   "outputs": [],
   "source": [
    "calculate_model_performance(np.argmax(Y_test, axis=0), model.predict(X_test))"
   ]
  },
  {
   "cell_type": "code",
   "execution_count": null,
   "metadata": {
    "collapsed": false,
    "scrolled": true
   },
   "outputs": [],
   "source": [
    "model = NeuralNetwork(\n",
    "    (X.shape[0], 'relu'),\n",
    "    [(200, 'relu'), (100, 'relu'), (50, 'relu'), (10,'softmax')],\n",
    "    Y.shape[0],\n",
    "    batch_size=50,\n",
    "    optimizer={\n",
    "        \"method\": \"RMSP\",\n",
    "        \"beta\": 0.9\n",
    "                },\n",
    "    epoch=100,\n",
    "    alpha=0.001\n",
    ")\n",
    "\n",
    "model.fit(X_test,Y_test)"
   ]
  },
  {
   "cell_type": "code",
   "execution_count": null,
   "metadata": {
    "collapsed": false,
    "scrolled": true
   },
   "outputs": [],
   "source": [
    "model = NeuralNetwork(\n",
    "    (X.shape[0], 'relu'),\n",
    "    [(25,'relu'), (4,'softmax')],\n",
    "    Y.shape[0],\n",
    "    batch_size=50,\n",
    "    optimizer={\n",
    "        \"method\": \"SGDM\",\n",
    "        \"beta\": 0.9\n",
    "                },\n",
    "    epoch=1000,\n",
    "    alpha=6)\n",
    "\n",
    "model.fit(X,Y)"
   ]
  },
  {
   "cell_type": "code",
   "execution_count": null,
   "metadata": {
    "collapsed": false,
    "scrolled": true
   },
   "outputs": [],
   "source": [
    "results_dict_all_models, results_average_dict, models = grid_search(\n",
    "    x,\n",
    "    y,\n",
    "    clf=NeuralNetwork,\n",
    "    lst_metrics=[\"F1\", \"accuracy\"],\n",
    "    sort_by = \"F1\",\n",
    "    n_folds=10,\n",
    "    dict_param_grid={\n",
    "        'batch_size': [64, 128, 256],\n",
    "        'input_layer': [(x.shape[1], 'relu')],\n",
    "        'hidden_layer': [\n",
    "            [(50, 'relu'), (25, 'relu'), (10,'softmax')],\n",
    "            [(200, 'relu'), (100, 'relu'), (50, 'relu'), (10,'softmax')]\n",
    "        ],\n",
    "        'optimizer':[\n",
    "            {\n",
    "                \"method\": \"ADAM\",\n",
    "                \"beta1\": 0.9,\n",
    "                \"beta2\": 0.999\n",
    "            }\n",
    "        ],\n",
    "        'output_layer': [10],\n",
    "        'alpha': [0.0001, 0.001],\n",
    "        'verbose': [False],\n",
    "        'epoch': [250]\n",
    "    }\n",
    ")"
   ]
  },
  {
   "cell_type": "code",
   "execution_count": null,
   "metadata": {
    "collapsed": false,
    "scrolled": true
   },
   "outputs": [],
   "source": [
    "results_average_dict"
   ]
  },
  {
   "cell_type": "code",
   "execution_count": null,
   "metadata": {
    "collapsed": false
   },
   "outputs": [],
   "source": [
    "print(models[\"model_1\"])"
   ]
  },
  {
   "cell_type": "code",
   "execution_count": null,
   "metadata": {
    "collapsed": true,
    "scrolled": false
   },
   "outputs": [],
   "source": [
    "def display_miss_clasifications(model, digits_to_display):\n",
    "    count = 0\n",
    "    for index, (act, predicted) in enumerate(zip(np.argmax(Y,axis=0), model.predict(X))):\n",
    "        if act != predicted:\n",
    "            fig, ax = plt.subplots(figsize = (2,2))\n",
    "            ax.set_title(\"%s: act %s --- predicted %s\" %(index, act, predicted))\n",
    "            ax.imshow(X[:, index].reshape(-1,20).T)\n",
    "            ax.axis('off');\n",
    "            count += 1\n",
    "        if count == digits_to_display:\n",
    "            break"
   ]
  },
  {
   "cell_type": "code",
   "execution_count": null,
   "metadata": {
    "collapsed": false
   },
   "outputs": [],
   "source": [
    "display_miss_clasifications(model, 50)"
   ]
  },
  {
   "cell_type": "code",
   "execution_count": null,
   "metadata": {
    "collapsed": true
   },
   "outputs": [],
   "source": []
  }
 ],
 "metadata": {
  "kernelspec": {
   "display_name": "Python 3",
   "language": "python",
   "name": "python3"
  },
  "language_info": {
   "codemirror_mode": {
    "name": "ipython",
    "version": 3
   },
   "file_extension": ".py",
   "mimetype": "text/x-python",
   "name": "python",
   "nbconvert_exporter": "python",
   "pygments_lexer": "ipython3",
   "version": "3.5.1"
  }
 },
 "nbformat": 4,
 "nbformat_minor": 2
}

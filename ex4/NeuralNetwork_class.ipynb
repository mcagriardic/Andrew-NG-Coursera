{
 "cells": [
  {
   "cell_type": "code",
   "execution_count": 69,
   "metadata": {},
   "outputs": [],
   "source": [
    "import numpy as np\n",
    "import matplotlib.pyplot as plt\n",
    "from sklearn import preprocessing\n",
    "import itertools\n",
    "import sys\n",
    "\n",
    "sys.path.append(\"..\")\n",
    "\n",
    "from utility_functions import (calculate_model_performance,\n",
    "                               plot_ROC,\n",
    "                               one_hot_encode,\n",
    "                               split_data_as,\n",
    "                               grid_search,\n",
    "                               shuffled,\n",
    "                               timeit)\n",
    "\n",
    "EPSILON = 10e-08\n",
    "\n",
    "\n",
    "def get_shapes(any_):\n",
    "    for array in any_:\n",
    "        try:\n",
    "            print(array.shape)\n",
    "        except:\n",
    "            print(\"NONE\")\n",
    "    print(\"\\n\")\n",
    "\n",
    "\n",
    "# ============= ACTIVATION FUNCTIONS ===============#\n",
    "\n",
    "def sigmoid(Z, prime=False):\n",
    "    # np.\n",
    "    if prime:\n",
    "        return sigmoid(Z) * (1 - sigmoid(Z))\n",
    "    return 1 / (1 + np.exp(-Z))\n",
    "\n",
    "\n",
    "def linear(Z, prime=False):\n",
    "    if prime:\n",
    "        return np.ones_like(Z)\n",
    "    return Z\n",
    "\n",
    "\n",
    "def relu(Z, alpha=0.01, prime=False):\n",
    "    if prime:\n",
    "        Z_relu = np.ones_like(Z, dtype=np.float64)\n",
    "        Z_relu[Z < 0] = alpha\n",
    "        return Z_relu\n",
    "    return np.where(Z < 0, alpha * Z, Z)\n",
    "\n",
    "\n",
    "def tanh(Z, prime=False):\n",
    "    # np.tanh() could be used directly to speed this up\n",
    "    if prime:\n",
    "        return 1 - np.power(tanh(Z), 2)\n",
    "    return (2 / (1 + np.exp(-2 * Z))) - 1\n",
    "\n",
    "\n",
    "def elu(Z, prime=False):\n",
    "    # https://mlfromscratch.com/activation-functions-explained/#/\n",
    "    alpha = 0.2\n",
    "    if prime:\n",
    "        return np.where(Z < 0, alpha * (np.exp(Z)), 1)\n",
    "    return np.where(Z < 0, alpha * (np.exp(Z) - 1), Z)\n",
    "\n",
    "\n",
    "def softmax(Z, prime=False):\n",
    "    # https://deepnotes.io/softmax-crossentropy\n",
    "    # max(Z) term is added to stabilise the function.\n",
    "    exps = np.exp(Z - np.max(Z))\n",
    "    return exps / np.sum(exps, axis=0)\n",
    "\n",
    "\n",
    "# ============== LOSS FUNCTIONS ===============#\n",
    "\n",
    "# https://deepnotes.io/softmax-crossentropy\n",
    "\n",
    "def calculate_error(Y, Y_hat):\n",
    "    # Y and Y_hat should be in the form of (no_of_classes, no_of_training_examples)\n",
    "    m = Y.shape[1]\n",
    "    return -np.sum(Y * np.log(Y_hat + EPSILON)) / m\n",
    "\n",
    "\n",
    "# References\n",
    "# https://mc.ai/multilayered-neural-network-from-scratch-using-python/\n",
    "# https://mattmazur.com/2015/03/17/a-step-by-step-backpropagation-example/\n",
    "# https://www.coursera.org/learn/machine-learning/home/week/5\n",
    "# https://www.coursera.org/specializations/deep-learning\n",
    "# https://github.com/mnielsen/neural-networks-and-deep-learning/blob/master/src/network.py\n",
    "# https://github.com/JWarmenhoven/Coursera-Machine-Learning\n",
    "\n",
    "class NeuralNetwork:\n",
    "\n",
    "    def __init__(\n",
    "            self,\n",
    "            input_layer: tuple,\n",
    "            hidden_layer: list,  # list of tuples\n",
    "            output_layer: int,\n",
    "            batch_size=16,\n",
    "            alpha=1,\n",
    "            optimizer=\"SGD\",\n",
    "            epoch=500,\n",
    "            random_state=42,\n",
    "            verbose=True,\n",
    "            metrics=\"accuracy\"\n",
    "    ):\n",
    "        self.input_layer = input_layer\n",
    "        self.hidden_layer = hidden_layer\n",
    "        self.output_layer = output_layer\n",
    "        self.mini_batch_size = batch_size\n",
    "        self.alpha = alpha\n",
    "        self.optimizer = optimizer\n",
    "        self.epoch = epoch\n",
    "        self.seed = random_state\n",
    "        self.verbose = verbose\n",
    "        self.metrics = metrics\n",
    "\n",
    "        self.layers = len(self.weight_set_dimensions) + 1\n",
    "        self.EPSILON = 10e-10\n",
    "\n",
    "\n",
    "    def __str__(self):\n",
    "        parameters = (\n",
    "            \"Input layer: {0}\\n\"\n",
    "            \"Hidden layer: {1}\\n\"\n",
    "            \"Output layer: {2}\\n\"\n",
    "            \"Batch size: {3}\\n\"\n",
    "            \"Learning rate: {4}\\n\"\n",
    "            \"Epoch: {5}\\n\"\n",
    "            \"Seed: {6}\\n\"\n",
    "            \"Verbose: {7}\\n\"\n",
    "            \"Metric: {8}\"\n",
    "        ).format(\n",
    "            self.input_layer,\n",
    "            \" - \".join(map(str, self.hidden_layer)),\n",
    "            self.output_layer,\n",
    "            self.mini_batch_size,\n",
    "            self.alpha,\n",
    "            self.epoch,\n",
    "            self.seed,\n",
    "            self.verbose,\n",
    "            self.metrics\n",
    "        )\n",
    "        return parameters\n",
    "\n",
    "    def get_A(self, X):\n",
    "        A, _ = self.forwardpass(X)\n",
    "        return A\n",
    "\n",
    "    def get_Z(self, X):\n",
    "        _, Z = self.forwardpass(X)\n",
    "        return Z\n",
    "\n",
    "    def display_information(self, X, Y, epoch_no):\n",
    "        model_performance_metrics = calculate_model_performance(\n",
    "            np.argmax(Y, axis=0),\n",
    "            self.predict(X)\n",
    "        )\n",
    "        print(\"%s: %.10f - epoch %s    iteration %s - loss %.20f\" % (\n",
    "            self.metrics,\n",
    "            model_performance_metrics[self.metrics],\n",
    "            epoch_no,\n",
    "            self.no_of_iterations,\n",
    "            calculate_error(Y,\n",
    "                            self.get_A(X)[-1])\n",
    "        )\n",
    "              )\n",
    "\n",
    "    def get_dimensions_and_activations(self):\n",
    "        self.dimensions = []\n",
    "        self.activation_functions = []\n",
    "\n",
    "        self.dimensions.append(self.input_layer[0])\n",
    "        self.activation_functions.append(self.input_layer[1])\n",
    "\n",
    "        for dim, act_func in self.hidden_layer:\n",
    "            self.dimensions.append(dim)\n",
    "            self.activation_functions.append(act_func)\n",
    "\n",
    "        self.dimensions.append(self.output_layer)\n",
    "\n",
    "    @property\n",
    "    def weight_set_dimensions(self):\n",
    "        self.get_dimensions_and_activations()\n",
    "        a, b = itertools.tee(self.dimensions[::-1])\n",
    "        next(b, None)\n",
    "        weight_set_dimensions = list(zip(a, b))[::-1]\n",
    "        return weight_set_dimensions\n",
    "\n",
    "    def initialise_weights(self, layer=None):\n",
    "        self.W = np.empty_like(range(self.layers), dtype=object)\n",
    "        self.B = np.empty_like(range(self.layers), dtype=object)\n",
    "        for layer, (y, x) in zip(range(1, self.layers), self.weight_set_dimensions):\n",
    "            np.random.seed(self.seed)\n",
    "            self.W[layer] = np.random.rand(y, x) / np.sqrt(self.dimensions[layer - 1])\n",
    "            self.B[layer] = np.random.rand(y, 1)\n",
    "\n",
    "    def forwardpass(self, X):\n",
    "        Z = np.empty_like(range(self.layers), dtype=object)\n",
    "        A = np.empty_like(range(self.layers), dtype=object)\n",
    "        A[0] = X\n",
    "        for layer in range(1, self.layers):\n",
    "            # activation_function starts from 0 whereas layer starts from 1\n",
    "            active_function = self.activation_functions[layer - 1]\n",
    "            arg_to_pass_to_eval = \"(Z[layer])\"\n",
    "\n",
    "            Z[layer] = self.W[layer] @ A[layer - 1] + self.B[layer]\n",
    "            A[layer] = eval(active_function + arg_to_pass_to_eval)\n",
    "        return A, Z\n",
    "\n",
    "    def backpropagation(self, Y, A, Z):\n",
    "        self.delta = np.empty_like(range(self.layers), dtype=object)\n",
    "\n",
    "        self.gradient_W = np.empty_like(range(self.layers), dtype=object)\n",
    "        self.gradient_B = np.empty_like(range(self.layers), dtype=object)\n",
    "\n",
    "        self.delta[-1] = A[-1] - Y\n",
    "\n",
    "        # We substract 1 here as delta_final is calculated seperately above\n",
    "        for layer in reversed(range(1, self.layers - 1)):\n",
    "            # 1 is substracted from layer as activation_functions start indexing from 0\n",
    "            active_function = self.activation_functions[layer - 1]\n",
    "            arg_to_pass_to_eval = \"(Z[layer], prime=True)\"\n",
    "\n",
    "            self.delta[layer] = (\n",
    "                    self.W[layer + 1].T @ self.delta[layer + 1] *\n",
    "                    eval(active_function + arg_to_pass_to_eval)\n",
    "            )\n",
    "\n",
    "            # calculate the gradient\n",
    "\n",
    "        for layer in range(1, self.layers):\n",
    "            self.gradient_W[layer] = (self.delta[layer] @ A[layer - 1].T) / self.m\n",
    "            self.gradient_B[layer] = np.sum(self.delta[layer], axis=1, keepdims=True) / self.m\n",
    "            \n",
    "        self.update_weights()\n",
    "        \n",
    "    def calculate_v_dw(self):\n",
    "        self.v_dw[layer] = beta * self.v_dw[layer] + (1 - beta) * self.gradient_W[layer]\n",
    "        \n",
    "\n",
    "\n",
    "    def update_weights(self):\n",
    "        if self.optimizer == \"SGD\":\n",
    "            for layer in range(1, self.layers):\n",
    "                self.W[layer] -= self.alpha * self.gradient_W[layer]\n",
    "                self.B[layer] -= self.alpha * self.gradient_B[layer]\n",
    "\n",
    "        elif self.optimizer[\"method\"] == \"SGDM\":\n",
    "            for layer in range(1, self.layers):\n",
    "                beta = self.optimizer[\"beta\"]\n",
    "                self.v_dw[layer] = beta * self.v_dw[layer] + (1 - beta) * self.gradient_W[layer]\n",
    "                self.v_db[layer] = beta * self.v_db[layer] + (1 - beta) * self.gradient_B[layer]\n",
    "\n",
    "                self.W[layer] -= self.alpha * self.v_dw[layer]\n",
    "                self.B[layer] -= self.alpha * self.v_db[layer]\n",
    "                \n",
    "        elif self.optimizer[\"method\"] == \"RMSP\":\n",
    "            for layer in range(1, self.layers):\n",
    "                beta = self.optimizer[\"beta\"]\n",
    "                self.s_dw[layer] = beta * self.s_dw[layer] + (1 - beta) * np.square(self.gradient_W[layer])\n",
    "                self.s_db[layer] = beta * self.s_db[layer] + (1 - beta) * np.square(self.gradient_B[layer])\n",
    "                \n",
    "                w_rms_grad = self.gradient_W[layer] / (np.sqrt(self.s_dw[layer]) + self.EPSILON)\n",
    "                b_rms_grad = self.gradient_B[layer] / (np.sqrt(self.s_db[layer]) + self.EPSILON)\n",
    "                \n",
    "                self.W[layer] -= self.alpha * w_rms_grad\n",
    "                self.B[layer] -= self.alpha * b_rms_grad\n",
    "                \n",
    "        elif self.optimizer[\"method\"] == \"ADAM\":\n",
    "            # EWA: Exponential weighted average\n",
    "            # ToDo: Check if bias correction is necessary. The EWA will be inaccurate initially,\n",
    "            # but it shouldn't take many iterations to compute correct EWA.\n",
    "            for layer in range(1, self.layers):\n",
    "                beta1 = self.optimizer[\"beta1\"]\n",
    "                beta2 = self.optimizer[\"beta2\"]\n",
    "                self.v_dw[layer] = beta1 * self.v_dw[layer] + (1 - beta1) * self.gradient_W[layer]\n",
    "                self.v_db[layer] = beta1 * self.v_db[layer] + (1 - beta1) * self.gradient_B[layer]\n",
    "                \n",
    "                self.s_dw[layer] = beta2 * self.s_dw[layer] + (1 - beta2) * np.square(self.gradient_W[layer])\n",
    "                self.s_db[layer] = beta2 * self.s_db[layer] + (1 - beta2) * np.square(self.gradient_B[layer])\n",
    "                \n",
    "                v_dw_corrected = self.v_dw[layer] / (1 - beta1 ** self.no_of_iterations)\n",
    "                s_dw_corrected = self.s_dw[layer] / (1 - beta2 ** self.no_of_iterations)\n",
    "                \n",
    "                v_db_corrected = self.v_db[layer] / (1 - beta1 ** self.no_of_iterations)\n",
    "                s_db_corrected = self.s_db[layer] / (1 - beta2 ** self.no_of_iterations)\n",
    "                \n",
    "                self.W[layer] -= self.alpha * (v_dw_corrected / (np.sqrt(s_dw_corrected) + self.EPSILON))\n",
    "                self.B[layer] -= self.alpha * (v_db_corrected / (np.sqrt(s_db_corrected) + self.EPSILON))\n",
    "\n",
    "\n",
    "    def initialise_cache(self):\n",
    "        self.v_dw = np.empty_like(range(self.layers), dtype=object)\n",
    "        self.v_db = np.empty_like(range(self.layers), dtype=object)\n",
    "    \n",
    "        self.s_dw = np.empty_like(range(self.layers), dtype=object)\n",
    "        self.s_db = np.empty_like(range(self.layers), dtype=object)\n",
    "\n",
    "        for layer, (y, x) in zip(range(1, self.layers), self.weight_set_dimensions):\n",
    "            self.v_dw[layer] = np.zeros((y, x))\n",
    "            self.v_db[layer] = np.zeros((y, 1))\n",
    "            \n",
    "            self.s_dw[layer] = np.zeros((y, x))\n",
    "            self.s_db[layer] = np.zeros((y, 1))\n",
    "\n",
    "    @timeit\n",
    "    def fit(self, X, Y):\n",
    "        self.m = X.shape[1] # where (no_of_features, no_of_training_examples)\n",
    "        self.initialise_weights()\n",
    "        self.initialise_cache()\n",
    "\n",
    "        # By default the method is SGD(Stochastic Gradient Descent) if one wishes to use\n",
    "        # the whole batch, simply pass the number of traning examples available as the\n",
    "        # batch size when instantiating the class\n",
    "        self.no_of_iterations = 0\n",
    "        shuffled = np.arange(self.m)\n",
    "        if self.verbose:\n",
    "            print(\"Initialising weights...\")\n",
    "            print(\"Starting the training...\")\n",
    "            print(\"Initial cost: %.10f\\n\" % calculate_error(Y, self.get_A(X)[-1]))\n",
    "        for epoch_no in range(1, self.epoch + 1):\n",
    "            np.random.shuffle(shuffled)\n",
    "            X_shuffled = X[:, shuffled]\n",
    "            Y_shuffled = Y[:, shuffled]\n",
    "            for i in range(0, self.m, self.mini_batch_size):\n",
    "                self.no_of_iterations += 1\n",
    "                X_mini_batch = X_shuffled[:, i: i + self.mini_batch_size]\n",
    "                Y_mini_batch = Y_shuffled[:, i: i + self.mini_batch_size]\n",
    "\n",
    "                A, Z = self.forwardpass(X_mini_batch)\n",
    "                self.backpropagation(Y_mini_batch, A, Z)\n",
    "                if self.no_of_iterations % 100 == 0 and self.verbose:\n",
    "                    self.display_information(X, Y, epoch_no)\n",
    "\n",
    "    def predict(\n",
    "            self,\n",
    "            X: np.ndarray,\n",
    "            return_prob_matrix=False\n",
    "    ):\n",
    "        \"\"\"Predict the output given the training data.\n",
    "\n",
    "            Returns the predicted values in two forms:\n",
    "\n",
    "            1.either by picking up the highest value along the columns for every row,\n",
    "                i.e. \"np.argmax(self.A[-1].T, axis=1)\"\n",
    "            2.or by returning a matrix that is in the shape of Y.T where each column\n",
    "                represents the probability of the instance belonging to that class.\n",
    "                Please note that every column in Y.T represents a class. To be able to\n",
    "                return the probability matrix, the final activation function must be\n",
    "                softmax!\n",
    "                i.e. \"array([0.9650488423, 0.0354737543, 0.0005225966])\"\n",
    "\n",
    "        Args:\n",
    "            X (numpy.ndarray): Training set in the shape of\n",
    "                (no_of_features, no_of_training examples).\n",
    "            return_prob_matrix (bool, optional): Returns the probability matrix if True.\n",
    "                Defaults to False.\n",
    "\n",
    "        Returns:\n",
    "            numpy.ndarray:\n",
    "\n",
    "            if return_prob_matrix is False, the output is in the shape of\n",
    "                (no_of_training_examples, 1)\n",
    "            if return_prob_matrix is True, the output is in the shape of\n",
    "                (no_of_training_examples, no_of_features)\n",
    "        \"\"\"\n",
    "        A, Z = self.forwardpass(X)\n",
    "        if return_prob_matrix:\n",
    "            np.set_printoptions(precision=10, suppress=True)\n",
    "            return A[-1].T\n",
    "        return np.argmax(A[-1].T, axis=1)"
   ]
  },
  {
   "cell_type": "markdown",
   "metadata": {},
   "source": [
    "# Testing with benchmark datasets\n",
    "\n",
    "## 1.Iris Dataset"
   ]
  },
  {
   "cell_type": "code",
   "execution_count": 102,
   "metadata": {},
   "outputs": [],
   "source": [
    "from sklearn.datasets import load_iris\n",
    "data = load_iris()\n",
    "\n",
    "x = data.data[:,[0,2]]\n",
    "y = data.target\n",
    "\n",
    "X = x.T\n",
    "Y = one_hot_encode(y).T"
   ]
  },
  {
   "cell_type": "code",
   "execution_count": 103,
   "metadata": {},
   "outputs": [
    {
     "name": "stdout",
     "output_type": "stream",
     "text": [
      "(2, 150)\n",
      "(3, 150)\n"
     ]
    }
   ],
   "source": [
    "print(X.shape)\n",
    "print(Y.shape)"
   ]
  },
  {
   "cell_type": "code",
   "execution_count": 104,
   "metadata": {
    "scrolled": true
   },
   "outputs": [
    {
     "name": "stdout",
     "output_type": "stream",
     "text": [
      "Initialising weights...\n",
      "Starting the training...\n",
      "Initial cost: 1.9129839958\n",
      "\n",
      "accuracy: 33.3333333331 - epoch 34    iteration 100 - loss 0.99953674421067340017\n",
      "accuracy: 62.6666666662 - epoch 67    iteration 200 - loss 0.94391105782221584874\n",
      "accuracy: 66.6666666662 - epoch 100    iteration 300 - loss 0.83415140219478212114\n",
      "accuracy: 67.3333333329 - epoch 134    iteration 400 - loss 0.62711602168252478240\n",
      "accuracy: 83.3333333328 - epoch 167    iteration 500 - loss 0.46045321747671463797\n",
      "accuracy: 93.3333333327 - epoch 200    iteration 600 - loss 0.35842802480228164175\n",
      "accuracy: 94.6666666660 - epoch 234    iteration 700 - loss 0.27422415215864237581\n",
      "accuracy: 95.9999999994 - epoch 267    iteration 800 - loss 0.21161612255688594386\n",
      "accuracy: 95.3333333327 - epoch 300    iteration 900 - loss 0.17380411408741683332\n",
      "accuracy: 95.3333333327 - epoch 334    iteration 1000 - loss 0.15140760759296470472\n",
      "accuracy: 95.3333333327 - epoch 367    iteration 1100 - loss 0.13861739550865687098\n",
      "accuracy: 95.9999999994 - epoch 400    iteration 1200 - loss 0.12984022112299872798\n",
      "accuracy: 95.9999999994 - epoch 434    iteration 1300 - loss 0.12433300572763514302\n",
      "accuracy: 95.9999999994 - epoch 467    iteration 1400 - loss 0.12016278313881571804\n",
      "accuracy: 95.9999999994 - epoch 500    iteration 1500 - loss 0.11737875379176297697\n",
      "accuracy: 95.9999999994 - epoch 534    iteration 1600 - loss 0.11515191277669427350\n",
      "accuracy: 95.9999999994 - epoch 567    iteration 1700 - loss 0.11339785099776707178\n",
      "accuracy: 95.9999999994 - epoch 600    iteration 1800 - loss 0.11199032095521105346\n",
      "accuracy: 95.9999999994 - epoch 634    iteration 1900 - loss 0.11088937297123810377\n",
      "accuracy: 95.9999999994 - epoch 667    iteration 2000 - loss 0.10972818348835224056\n",
      "accuracy: 95.9999999994 - epoch 700    iteration 2100 - loss 0.10858062029888847222\n",
      "accuracy: 95.9999999994 - epoch 734    iteration 2200 - loss 0.10762012826211191097\n",
      "accuracy: 95.9999999994 - epoch 767    iteration 2300 - loss 0.10679853686737079965\n",
      "accuracy: 95.9999999994 - epoch 800    iteration 2400 - loss 0.10587858601161395655\n",
      "accuracy: 95.9999999994 - epoch 834    iteration 2500 - loss 0.10504026755845861929\n",
      "accuracy: 95.9999999994 - epoch 867    iteration 2600 - loss 0.10417120281624167588\n",
      "accuracy: 95.9999999994 - epoch 900    iteration 2700 - loss 0.10341550428079100687\n",
      "accuracy: 95.9999999994 - epoch 934    iteration 2800 - loss 0.10269334337564509085\n",
      "accuracy: 95.9999999994 - epoch 967    iteration 2900 - loss 0.10199013929013434065\n",
      "accuracy: 95.9999999994 - epoch 1000    iteration 3000 - loss 0.10135491663829396258\n",
      "accuracy: 95.9999999994 - epoch 1034    iteration 3100 - loss 0.10102090825911938521\n",
      "accuracy: 95.9999999994 - epoch 1067    iteration 3200 - loss 0.10014221585159295558\n",
      "accuracy: 95.9999999994 - epoch 1100    iteration 3300 - loss 0.09977391471345263552\n",
      "accuracy: 95.9999999994 - epoch 1134    iteration 3400 - loss 0.09909765716622795373\n",
      "accuracy: 95.9999999994 - epoch 1167    iteration 3500 - loss 0.09841119884621678249\n",
      "accuracy: 95.9999999994 - epoch 1200    iteration 3600 - loss 0.09786273535717286698\n",
      "accuracy: 95.9999999994 - epoch 1234    iteration 3700 - loss 0.09732535745520930204\n",
      "accuracy: 95.9999999994 - epoch 1267    iteration 3800 - loss 0.09682168991109356415\n",
      "accuracy: 95.9999999994 - epoch 1300    iteration 3900 - loss 0.09642542921454427818\n",
      "accuracy: 95.9999999994 - epoch 1334    iteration 4000 - loss 0.09573980941782218868\n",
      "accuracy: 95.9999999994 - epoch 1367    iteration 4100 - loss 0.09525756255741388290\n",
      "accuracy: 95.9999999994 - epoch 1400    iteration 4200 - loss 0.09490394745511733510\n",
      "accuracy: 95.9999999994 - epoch 1434    iteration 4300 - loss 0.09437995483683193909\n",
      "accuracy: 95.9999999994 - epoch 1467    iteration 4400 - loss 0.09385320281423061017\n",
      "accuracy: 95.9999999994 - epoch 1500    iteration 4500 - loss 0.09329411965867309697\n",
      "accuracy: 95.9999999994 - epoch 1534    iteration 4600 - loss 0.09288679218294232376\n",
      "accuracy: 95.9999999994 - epoch 1567    iteration 4700 - loss 0.09240812116299824963\n",
      "accuracy: 95.9999999994 - epoch 1600    iteration 4800 - loss 0.09208711852636848605\n",
      "accuracy: 96.6666666660 - epoch 1634    iteration 4900 - loss 0.09225640074555394032\n",
      "accuracy: 96.6666666660 - epoch 1667    iteration 5000 - loss 0.09116577126768660166\n",
      "accuracy: 96.6666666660 - epoch 1700    iteration 5100 - loss 0.09075423551191558191\n",
      "accuracy: 95.9999999994 - epoch 1734    iteration 5200 - loss 0.09063828738965068466\n",
      "accuracy: 96.6666666660 - epoch 1767    iteration 5300 - loss 0.09011128559780443026\n",
      "accuracy: 96.6666666660 - epoch 1800    iteration 5400 - loss 0.08967623846566431800\n",
      "accuracy: 96.6666666660 - epoch 1834    iteration 5500 - loss 0.08943056514927452683\n",
      "accuracy: 96.6666666660 - epoch 1867    iteration 5600 - loss 0.08931459337393450604\n",
      "accuracy: 96.6666666660 - epoch 1900    iteration 5700 - loss 0.08854609983542360840\n",
      "accuracy: 96.6666666660 - epoch 1934    iteration 5800 - loss 0.08819512283387936913\n",
      "accuracy: 96.6666666660 - epoch 1967    iteration 5900 - loss 0.08783901143139065393\n",
      "accuracy: 96.6666666660 - epoch 2000    iteration 6000 - loss 0.08750258770234527195\n",
      "accuracy: 96.6666666660 - epoch 2034    iteration 6100 - loss 0.08736157886502302072\n",
      "accuracy: 96.6666666660 - epoch 2067    iteration 6200 - loss 0.08700100743045537099\n",
      "accuracy: 96.6666666660 - epoch 2100    iteration 6300 - loss 0.08686455965110567723\n",
      "accuracy: 96.6666666660 - epoch 2134    iteration 6400 - loss 0.08626201229798399761\n",
      "accuracy: 96.6666666660 - epoch 2167    iteration 6500 - loss 0.08600451315484325399\n",
      "accuracy: 96.6666666660 - epoch 2200    iteration 6600 - loss 0.08585928822661398341\n",
      "accuracy: 96.6666666660 - epoch 2234    iteration 6700 - loss 0.08555221194031710497\n",
      "accuracy: 96.6666666660 - epoch 2267    iteration 6800 - loss 0.08536591413221607250\n",
      "accuracy: 96.6666666660 - epoch 2300    iteration 6900 - loss 0.08500342277134727287\n",
      "accuracy: 96.6666666660 - epoch 2334    iteration 7000 - loss 0.08484656925980868514\n",
      "accuracy: 96.6666666660 - epoch 2367    iteration 7100 - loss 0.08493324318099293446\n",
      "accuracy: 96.6666666660 - epoch 2400    iteration 7200 - loss 0.08438002833933005986\n",
      "accuracy: 96.6666666660 - epoch 2434    iteration 7300 - loss 0.08427156550994886752\n",
      "accuracy: 96.6666666660 - epoch 2467    iteration 7400 - loss 0.08416464579805774116\n",
      "accuracy: 96.6666666660 - epoch 2500    iteration 7500 - loss 0.08380770119982063060\n",
      "accuracy: 96.6666666660 - epoch 2534    iteration 7600 - loss 0.08357891686377073859\n",
      "accuracy: 95.9999999994 - epoch 2567    iteration 7700 - loss 0.08385286472260024271\n",
      "accuracy: 96.6666666660 - epoch 2600    iteration 7800 - loss 0.08316336141710442553\n",
      "accuracy: 96.6666666660 - epoch 2634    iteration 7900 - loss 0.08301188417837082612\n",
      "accuracy: 96.6666666660 - epoch 2667    iteration 8000 - loss 0.08281675538547242366\n",
      "accuracy: 96.6666666660 - epoch 2700    iteration 8100 - loss 0.08265718907301397578\n",
      "accuracy: 95.9999999994 - epoch 2734    iteration 8200 - loss 0.08266048080322341285\n",
      "accuracy: 96.6666666660 - epoch 2767    iteration 8300 - loss 0.08284500324848087516\n",
      "accuracy: 96.6666666660 - epoch 2800    iteration 8400 - loss 0.08222563634211677019\n",
      "accuracy: 96.6666666660 - epoch 2834    iteration 8500 - loss 0.08207806146819413007\n",
      "accuracy: 95.9999999994 - epoch 2867    iteration 8600 - loss 0.08275330623922587392\n",
      "accuracy: 95.9999999994 - epoch 2900    iteration 8700 - loss 0.08249602886991955208\n",
      "accuracy: 96.6666666660 - epoch 2934    iteration 8800 - loss 0.08172827879724943456\n",
      "accuracy: 96.6666666660 - epoch 2967    iteration 8900 - loss 0.08191304930994895706\n",
      "accuracy: 96.6666666660 - epoch 3000    iteration 9000 - loss 0.08159679727849117326\n",
      "accuracy: 97.3333333327 - epoch 3034    iteration 9100 - loss 0.08205740220291306286\n",
      "accuracy: 96.6666666660 - epoch 3067    iteration 9200 - loss 0.08129432596796157262\n",
      "accuracy: 97.3333333327 - epoch 3100    iteration 9300 - loss 0.08153829236173794348\n",
      "accuracy: 96.6666666660 - epoch 3134    iteration 9400 - loss 0.08113061103366860094\n",
      "accuracy: 96.6666666660 - epoch 3167    iteration 9500 - loss 0.08107070369428022449\n",
      "accuracy: 96.6666666660 - epoch 3200    iteration 9600 - loss 0.08103017384757173203\n",
      "accuracy: 96.6666666660 - epoch 3234    iteration 9700 - loss 0.08092308626355576573\n",
      "accuracy: 96.6666666660 - epoch 3267    iteration 9800 - loss 0.08083186641969658526\n"
     ]
    },
    {
     "name": "stdout",
     "output_type": "stream",
     "text": [
      "accuracy: 97.3333333327 - epoch 3300    iteration 9900 - loss 0.08097320021485154840\n",
      "accuracy: 96.6666666660 - epoch 3334    iteration 10000 - loss 0.08070055851327774532\n",
      "accuracy: 96.6666666660 - epoch 3367    iteration 10100 - loss 0.08063868953356589930\n",
      "accuracy: 95.9999999994 - epoch 3400    iteration 10200 - loss 0.08060058962375300784\n",
      "accuracy: 95.9999999994 - epoch 3434    iteration 10300 - loss 0.08073778885689583684\n",
      "accuracy: 97.3333333327 - epoch 3467    iteration 10400 - loss 0.08050779538165814264\n",
      "accuracy: 95.9999999994 - epoch 3500    iteration 10500 - loss 0.08043721884945863321\n",
      "accuracy: 96.6666666660 - epoch 3534    iteration 10600 - loss 0.08037464944499071728\n",
      "accuracy: 96.6666666660 - epoch 3567    iteration 10700 - loss 0.08031336963723148537\n",
      "accuracy: 97.3333333327 - epoch 3600    iteration 10800 - loss 0.08070951557112925057\n",
      "accuracy: 97.3333333327 - epoch 3634    iteration 10900 - loss 0.08022162221755996248\n",
      "accuracy: 97.3333333327 - epoch 3667    iteration 11000 - loss 0.08027818425851605821\n",
      "accuracy: 95.9999999994 - epoch 3700    iteration 11100 - loss 0.08071365209089201298\n",
      "accuracy: 95.9999999994 - epoch 3734    iteration 11200 - loss 0.08018079343448321350\n",
      "accuracy: 95.9999999994 - epoch 3767    iteration 11300 - loss 0.08015429839997990913\n",
      "accuracy: 97.3333333327 - epoch 3800    iteration 11400 - loss 0.08004454135265447190\n",
      "accuracy: 97.3333333327 - epoch 3834    iteration 11500 - loss 0.08012128635293576384\n",
      "accuracy: 97.3333333327 - epoch 3867    iteration 11600 - loss 0.07998231583079221108\n",
      "accuracy: 96.6666666660 - epoch 3900    iteration 11700 - loss 0.08000555095994635324\n",
      "accuracy: 97.3333333327 - epoch 3934    iteration 11800 - loss 0.07996921632631702470\n",
      "accuracy: 97.3333333327 - epoch 3967    iteration 11900 - loss 0.07990289963086863456\n",
      "accuracy: 95.9999999994 - epoch 4000    iteration 12000 - loss 0.08014608182147160698\n",
      "accuracy: 95.9999999994 - epoch 4034    iteration 12100 - loss 0.08026581441869197475\n",
      "accuracy: 97.3333333327 - epoch 4067    iteration 12200 - loss 0.07995335951698272214\n",
      "accuracy: 96.6666666660 - epoch 4100    iteration 12300 - loss 0.07982165675759050893\n",
      "accuracy: 97.3333333327 - epoch 4134    iteration 12400 - loss 0.07980707233669764866\n",
      "accuracy: 95.9999999994 - epoch 4167    iteration 12500 - loss 0.08115131682979374872\n",
      "accuracy: 97.3333333327 - epoch 4200    iteration 12600 - loss 0.07988858690821568076\n",
      "accuracy: 96.6666666660 - epoch 4234    iteration 12700 - loss 0.07979067470155989938\n",
      "accuracy: 95.9999999994 - epoch 4267    iteration 12800 - loss 0.08000379258797594983\n",
      "accuracy: 97.3333333327 - epoch 4300    iteration 12900 - loss 0.07983892169205988876\n",
      "accuracy: 96.6666666660 - epoch 4334    iteration 13000 - loss 0.07989448012959626810\n",
      "accuracy: 96.6666666660 - epoch 4367    iteration 13100 - loss 0.07970205116461501205\n",
      "accuracy: 97.3333333327 - epoch 4400    iteration 13200 - loss 0.07980738264801438830\n",
      "accuracy: 97.3333333327 - epoch 4434    iteration 13300 - loss 0.07974626760849068408\n",
      "accuracy: 96.6666666660 - epoch 4467    iteration 13400 - loss 0.07985147179571856768\n",
      "accuracy: 96.6666666660 - epoch 4500    iteration 13500 - loss 0.07968796120020686657\n",
      "accuracy: 97.3333333327 - epoch 4534    iteration 13600 - loss 0.07966584998164713549\n",
      "accuracy: 97.3333333327 - epoch 4567    iteration 13700 - loss 0.08026922964210654599\n",
      "accuracy: 96.6666666660 - epoch 4600    iteration 13800 - loss 0.07966704109972466696\n",
      "accuracy: 96.6666666660 - epoch 4634    iteration 13900 - loss 0.07973375426621942541\n",
      "accuracy: 97.3333333327 - epoch 4667    iteration 14000 - loss 0.07964789708558922543\n",
      "accuracy: 97.3333333327 - epoch 4700    iteration 14100 - loss 0.07971977887236202098\n",
      "accuracy: 96.6666666660 - epoch 4734    iteration 14200 - loss 0.07977378876755752968\n",
      "accuracy: 97.3333333327 - epoch 4767    iteration 14300 - loss 0.07970396008034671964\n",
      "accuracy: 97.3333333327 - epoch 4800    iteration 14400 - loss 0.07971696861719006211\n",
      "accuracy: 97.3333333327 - epoch 4834    iteration 14500 - loss 0.07960950638529866452\n",
      "accuracy: 97.3333333327 - epoch 4867    iteration 14600 - loss 0.07966789038506312537\n",
      "accuracy: 96.6666666660 - epoch 4900    iteration 14700 - loss 0.07960454221033685940\n",
      "accuracy: 96.6666666660 - epoch 4934    iteration 14800 - loss 0.07958084246524642358\n",
      "accuracy: 96.6666666660 - epoch 4967    iteration 14900 - loss 0.07960763148411639789\n",
      "accuracy: 96.6666666660 - epoch 5000    iteration 15000 - loss 0.07957462786915107944\n",
      "accuracy: 96.6666666660 - epoch 5034    iteration 15100 - loss 0.07958636922324634211\n",
      "accuracy: 96.6666666660 - epoch 5067    iteration 15200 - loss 0.07959767020746592869\n",
      "accuracy: 97.3333333327 - epoch 5100    iteration 15300 - loss 0.07987119673354033111\n",
      "accuracy: 96.6666666660 - epoch 5134    iteration 15400 - loss 0.07973143915366801004\n",
      "accuracy: 96.6666666660 - epoch 5167    iteration 15500 - loss 0.07958154104938708340\n",
      "accuracy: 96.6666666660 - epoch 5200    iteration 15600 - loss 0.07961995530684204403\n",
      "accuracy: 96.6666666660 - epoch 5234    iteration 15700 - loss 0.07955303126135508662\n",
      "accuracy: 97.3333333327 - epoch 5267    iteration 15800 - loss 0.07958353054760936018\n",
      "accuracy: 97.3333333327 - epoch 5300    iteration 15900 - loss 0.07967279666041117425\n",
      "accuracy: 96.6666666660 - epoch 5334    iteration 16000 - loss 0.07954778721773682337\n",
      "accuracy: 96.6666666660 - epoch 5367    iteration 16100 - loss 0.07976467942796318378\n",
      "accuracy: 96.6666666660 - epoch 5400    iteration 16200 - loss 0.07954206905976279884\n",
      "accuracy: 97.3333333327 - epoch 5434    iteration 16300 - loss 0.07972961416366647347\n",
      "accuracy: 97.3333333327 - epoch 5467    iteration 16400 - loss 0.07956742879534765833\n",
      "accuracy: 96.6666666660 - epoch 5500    iteration 16500 - loss 0.07955546345055904134\n",
      "accuracy: 96.6666666660 - epoch 5534    iteration 16600 - loss 0.07980101691040086820\n",
      "accuracy: 96.6666666660 - epoch 5567    iteration 16700 - loss 0.07968077338497941975\n",
      "accuracy: 97.3333333327 - epoch 5600    iteration 16800 - loss 0.07955817136361337250\n",
      "accuracy: 96.6666666660 - epoch 5634    iteration 16900 - loss 0.08074735864207312208\n",
      "accuracy: 96.6666666660 - epoch 5667    iteration 17000 - loss 0.07965575605823020655\n",
      "accuracy: 96.6666666660 - epoch 5700    iteration 17100 - loss 0.07952689058544908096\n",
      "accuracy: 96.6666666660 - epoch 5734    iteration 17200 - loss 0.07991809013221605473\n",
      "accuracy: 97.3333333327 - epoch 5767    iteration 17300 - loss 0.07954294369543117582\n",
      "accuracy: 96.6666666660 - epoch 5800    iteration 17400 - loss 0.07977619375970010362\n",
      "accuracy: 96.6666666660 - epoch 5834    iteration 17500 - loss 0.07956993907841301839\n",
      "accuracy: 97.3333333327 - epoch 5867    iteration 17600 - loss 0.07959820846622282786\n",
      "accuracy: 96.6666666660 - epoch 5900    iteration 17700 - loss 0.07952004580481251972\n",
      "accuracy: 97.3333333327 - epoch 5934    iteration 17800 - loss 0.07983299207371935546\n",
      "accuracy: 96.6666666660 - epoch 5967    iteration 17900 - loss 0.07961869599302803802\n",
      "accuracy: 96.6666666660 - epoch 6000    iteration 18000 - loss 0.07961331181752459574\n",
      "accuracy: 96.6666666660 - epoch 6034    iteration 18100 - loss 0.07954091480241894108\n",
      "accuracy: 96.6666666660 - epoch 6067    iteration 18200 - loss 0.07952722882406848548\n",
      "accuracy: 96.6666666660 - epoch 6100    iteration 18300 - loss 0.08019774563249702781\n",
      "accuracy: 97.3333333327 - epoch 6134    iteration 18400 - loss 0.07961081334553166133\n",
      "accuracy: 97.3333333327 - epoch 6167    iteration 18500 - loss 0.07959351163805948592\n",
      "accuracy: 97.3333333327 - epoch 6200    iteration 18600 - loss 0.07957053357011095729\n",
      "accuracy: 97.3333333327 - epoch 6234    iteration 18700 - loss 0.07975339969722963773\n",
      "accuracy: 96.6666666660 - epoch 6267    iteration 18800 - loss 0.07954516330380413669\n",
      "accuracy: 96.6666666660 - epoch 6300    iteration 18900 - loss 0.07951393951601917753\n",
      "accuracy: 96.6666666660 - epoch 6334    iteration 19000 - loss 0.07951621673294718973\n",
      "accuracy: 97.3333333327 - epoch 6367    iteration 19100 - loss 0.07969500898917758480\n",
      "accuracy: 96.6666666660 - epoch 6400    iteration 19200 - loss 0.07951922350605214462\n",
      "accuracy: 96.6666666660 - epoch 6434    iteration 19300 - loss 0.07951893265644197073\n",
      "accuracy: 96.6666666660 - epoch 6467    iteration 19400 - loss 0.08023681657572710735\n"
     ]
    },
    {
     "name": "stdout",
     "output_type": "stream",
     "text": [
      "accuracy: 96.6666666660 - epoch 6500    iteration 19500 - loss 0.07951119076292220700\n",
      "accuracy: 97.3333333327 - epoch 6534    iteration 19600 - loss 0.07959414405581469176\n",
      "accuracy: 97.3333333327 - epoch 6567    iteration 19700 - loss 0.07954394981522938668\n",
      "accuracy: 96.6666666660 - epoch 6600    iteration 19800 - loss 0.07954477548357272165\n",
      "accuracy: 96.6666666660 - epoch 6634    iteration 19900 - loss 0.07952035345569778702\n",
      "accuracy: 96.6666666660 - epoch 6667    iteration 20000 - loss 0.07967743964450380023\n",
      "accuracy: 97.3333333327 - epoch 6700    iteration 20100 - loss 0.07966534677803789599\n",
      "accuracy: 96.6666666660 - epoch 6734    iteration 20200 - loss 0.07964475358082155620\n",
      "accuracy: 97.3333333327 - epoch 6767    iteration 20300 - loss 0.07988597693239192499\n",
      "accuracy: 96.6666666660 - epoch 6800    iteration 20400 - loss 0.07954029488943982484\n",
      "accuracy: 97.3333333327 - epoch 6834    iteration 20500 - loss 0.07972983998569016517\n",
      "accuracy: 97.3333333327 - epoch 6867    iteration 20600 - loss 0.07979366656582702333\n",
      "accuracy: 97.3333333327 - epoch 6900    iteration 20700 - loss 0.07956798348608323801\n",
      "accuracy: 96.6666666660 - epoch 6934    iteration 20800 - loss 0.07959675404877988858\n",
      "accuracy: 96.6666666660 - epoch 6967    iteration 20900 - loss 0.08041141706551231672\n",
      "accuracy: 97.3333333327 - epoch 7000    iteration 21000 - loss 0.07963249453341340878\n",
      "accuracy: 96.6666666660 - epoch 7034    iteration 21100 - loss 0.07956340225678820710\n",
      "accuracy: 96.6666666660 - epoch 7067    iteration 21200 - loss 0.07988211126444057231\n",
      "accuracy: 97.3333333327 - epoch 7100    iteration 21300 - loss 0.07955787469617986440\n",
      "accuracy: 95.9999999994 - epoch 7134    iteration 21400 - loss 0.08070392782702981438\n",
      "accuracy: 95.9999999994 - epoch 7167    iteration 21500 - loss 0.08067171996394671696\n",
      "accuracy: 97.3333333327 - epoch 7200    iteration 21600 - loss 0.07954330652159850856\n",
      "accuracy: 97.3333333327 - epoch 7234    iteration 21700 - loss 0.07973852330346123396\n",
      "accuracy: 96.6666666660 - epoch 7267    iteration 21800 - loss 0.07952058712748280578\n",
      "accuracy: 96.6666666660 - epoch 7300    iteration 21900 - loss 0.07950875249308693438\n",
      "accuracy: 96.6666666660 - epoch 7334    iteration 22000 - loss 0.07967284979121433408\n",
      "accuracy: 96.6666666660 - epoch 7367    iteration 22100 - loss 0.07950692726955889411\n",
      "accuracy: 97.3333333327 - epoch 7400    iteration 22200 - loss 0.07961236550665286293\n",
      "accuracy: 96.6666666660 - epoch 7434    iteration 22300 - loss 0.07969007073303245592\n",
      "accuracy: 96.6666666660 - epoch 7467    iteration 22400 - loss 0.08085936130151530343\n",
      "accuracy: 96.6666666660 - epoch 7500    iteration 22500 - loss 0.07950669419389663761\n",
      "accuracy: 96.6666666660 - epoch 7534    iteration 22600 - loss 0.07964466454839837228\n",
      "accuracy: 96.6666666660 - epoch 7567    iteration 22700 - loss 0.07951842389770201469\n",
      "accuracy: 97.3333333327 - epoch 7600    iteration 22800 - loss 0.07954469444342524009\n",
      "accuracy: 96.6666666660 - epoch 7634    iteration 22900 - loss 0.07960797397144146748\n",
      "accuracy: 96.6666666660 - epoch 7667    iteration 23000 - loss 0.07972218633887435957\n",
      "accuracy: 96.6666666660 - epoch 7700    iteration 23100 - loss 0.07950671096354954004\n",
      "accuracy: 96.6666666660 - epoch 7734    iteration 23200 - loss 0.07951324511752831670\n",
      "accuracy: 97.3333333327 - epoch 7767    iteration 23300 - loss 0.07954120440393093461\n",
      "accuracy: 96.6666666660 - epoch 7800    iteration 23400 - loss 0.07965793129309646503\n",
      "accuracy: 96.6666666660 - epoch 7834    iteration 23500 - loss 0.07974300099394787678\n",
      "accuracy: 96.6666666660 - epoch 7867    iteration 23600 - loss 0.07951597166646923176\n",
      "accuracy: 96.6666666660 - epoch 7900    iteration 23700 - loss 0.07953775568275829599\n",
      "accuracy: 96.6666666660 - epoch 7934    iteration 23800 - loss 0.07953005261472644027\n",
      "accuracy: 97.3333333327 - epoch 7967    iteration 23900 - loss 0.07968725891146835605\n",
      "accuracy: 97.3333333327 - epoch 8000    iteration 24000 - loss 0.07952671184937391835\n",
      "accuracy: 96.6666666660 - epoch 8034    iteration 24100 - loss 0.07980228621458150540\n",
      "accuracy: 96.6666666660 - epoch 8067    iteration 24200 - loss 0.07952147285238780894\n",
      "accuracy: 96.6666666660 - epoch 8100    iteration 24300 - loss 0.07984708515104886606\n",
      "accuracy: 96.6666666660 - epoch 8134    iteration 24400 - loss 0.07950536305399645565\n",
      "accuracy: 96.6666666660 - epoch 8167    iteration 24500 - loss 0.07957222008471727392\n",
      "accuracy: 96.6666666660 - epoch 8200    iteration 24600 - loss 0.07951831008222062791\n",
      "accuracy: 97.3333333327 - epoch 8234    iteration 24700 - loss 0.07957592928273710120\n",
      "accuracy: 96.6666666660 - epoch 8267    iteration 24800 - loss 0.07950819565072214656\n",
      "accuracy: 96.6666666660 - epoch 8300    iteration 24900 - loss 0.08013242042348799055\n",
      "accuracy: 97.3333333327 - epoch 8334    iteration 25000 - loss 0.07976466046660815601\n",
      "accuracy: 97.3333333327 - epoch 8367    iteration 25100 - loss 0.07962742529039945616\n",
      "accuracy: 97.3333333327 - epoch 8400    iteration 25200 - loss 0.07964009069033908816\n",
      "accuracy: 96.6666666660 - epoch 8434    iteration 25300 - loss 0.07982395802072665691\n",
      "accuracy: 96.6666666660 - epoch 8467    iteration 25400 - loss 0.07953091558863223387\n",
      "accuracy: 96.6666666660 - epoch 8500    iteration 25500 - loss 0.07950731957035464537\n",
      "accuracy: 96.6666666660 - epoch 8534    iteration 25600 - loss 0.07993416848490769722\n",
      "accuracy: 96.6666666660 - epoch 8567    iteration 25700 - loss 0.08004276600977752731\n",
      "accuracy: 96.6666666660 - epoch 8600    iteration 25800 - loss 0.07978266529230194914\n",
      "accuracy: 96.6666666660 - epoch 8634    iteration 25900 - loss 0.07950475835911215150\n",
      "accuracy: 96.6666666660 - epoch 8667    iteration 26000 - loss 0.07951381872477729373\n",
      "accuracy: 96.6666666660 - epoch 8700    iteration 26100 - loss 0.07994290603426204567\n",
      "accuracy: 96.6666666660 - epoch 8734    iteration 26200 - loss 0.07967961433767226098\n",
      "accuracy: 96.6666666660 - epoch 8767    iteration 26300 - loss 0.07950790304880790693\n",
      "accuracy: 96.6666666660 - epoch 8800    iteration 26400 - loss 0.08030040421923204108\n",
      "accuracy: 97.3333333327 - epoch 8834    iteration 26500 - loss 0.07955171142101417903\n",
      "accuracy: 96.6666666660 - epoch 8867    iteration 26600 - loss 0.07950878719314530274\n",
      "accuracy: 96.6666666660 - epoch 8900    iteration 26700 - loss 0.07969503534363432673\n",
      "accuracy: 96.6666666660 - epoch 8934    iteration 26800 - loss 0.07951242911300326899\n",
      "accuracy: 96.6666666660 - epoch 8967    iteration 26900 - loss 0.07951265089629394600\n",
      "accuracy: 96.6666666660 - epoch 9000    iteration 27000 - loss 0.07974074482205793790\n",
      "accuracy: 96.6666666660 - epoch 9034    iteration 27100 - loss 0.07959799693899989592\n",
      "accuracy: 96.6666666660 - epoch 9067    iteration 27200 - loss 0.07963287987307514360\n",
      "accuracy: 97.3333333327 - epoch 9100    iteration 27300 - loss 0.07957233000240890308\n",
      "accuracy: 96.6666666660 - epoch 9134    iteration 27400 - loss 0.07951692874902370478\n",
      "accuracy: 97.3333333327 - epoch 9167    iteration 27500 - loss 0.07961828811697260755\n",
      "accuracy: 96.6666666660 - epoch 9200    iteration 27600 - loss 0.07978374839563741328\n",
      "accuracy: 97.3333333327 - epoch 9234    iteration 27700 - loss 0.07972642680663144521\n",
      "accuracy: 96.6666666660 - epoch 9267    iteration 27800 - loss 0.07985492181225400943\n",
      "accuracy: 97.3333333327 - epoch 9300    iteration 27900 - loss 0.07955367521636730332\n",
      "accuracy: 97.3333333327 - epoch 9334    iteration 28000 - loss 0.07967796524224687871\n",
      "accuracy: 96.6666666660 - epoch 9367    iteration 28100 - loss 0.07960334712814014224\n",
      "accuracy: 97.3333333327 - epoch 9400    iteration 28200 - loss 0.07956344220387023825\n",
      "accuracy: 97.3333333327 - epoch 9434    iteration 28300 - loss 0.07959319967930444939\n",
      "accuracy: 96.6666666660 - epoch 9467    iteration 28400 - loss 0.07950727931633598533\n",
      "accuracy: 97.3333333327 - epoch 9500    iteration 28500 - loss 0.07979929142358688221\n",
      "accuracy: 96.6666666660 - epoch 9534    iteration 28600 - loss 0.07950745212784805782\n",
      "accuracy: 97.3333333327 - epoch 9567    iteration 28700 - loss 0.07963329536166517675\n",
      "accuracy: 97.3333333327 - epoch 9600    iteration 28800 - loss 0.07958907645124667363\n",
      "accuracy: 96.6666666660 - epoch 9634    iteration 28900 - loss 0.07950436788554150758\n",
      "accuracy: 96.6666666660 - epoch 9667    iteration 29000 - loss 0.07954201317138200056\n",
      "accuracy: 96.6666666660 - epoch 9700    iteration 29100 - loss 0.07969730280415515677\n",
      "accuracy: 96.6666666660 - epoch 9734    iteration 29200 - loss 0.07963196344098527613\n"
     ]
    },
    {
     "name": "stdout",
     "output_type": "stream",
     "text": [
      "accuracy: 97.3333333327 - epoch 9767    iteration 29300 - loss 0.07958198521936746261\n",
      "accuracy: 96.6666666660 - epoch 9800    iteration 29400 - loss 0.07966389707816816379\n",
      "accuracy: 97.3333333327 - epoch 9834    iteration 29500 - loss 0.07965336273366072084\n",
      "accuracy: 97.3333333327 - epoch 9867    iteration 29600 - loss 0.07958272444799864564\n",
      "accuracy: 96.6666666660 - epoch 9900    iteration 29700 - loss 0.07982226104283363100\n",
      "accuracy: 97.3333333327 - epoch 9934    iteration 29800 - loss 0.07980323915342468766\n",
      "accuracy: 96.6666666660 - epoch 9967    iteration 29900 - loss 0.07950426452455094939\n",
      "accuracy: 96.6666666660 - epoch 10000    iteration 30000 - loss 0.07950682363647688933\n",
      "func:'fit' -- took: 12.1816 sec\n"
     ]
    }
   ],
   "source": [
    "model = NeuralNetwork(\n",
    "    input_layer=(2, 'relu'),\n",
    "    hidden_layer=[(10,'relu'), (4,'softmax')],\n",
    "    output_layer=3,\n",
    "    batch_size=64,\n",
    "    optimizer={\n",
    "        \"method\": \"ADAM\",\n",
    "        \"beta1\": 0.9,\n",
    "        \"beta2\": 0.99\n",
    "                },\n",
    "    epoch=10000,\n",
    "    alpha=0.001\n",
    ")\n",
    "\n",
    "model.fit(X,Y)"
   ]
  },
  {
   "cell_type": "code",
   "execution_count": 83,
   "metadata": {},
   "outputs": [
    {
     "data": {
      "text/plain": [
       "{'specificity': 98.99999999900999,\n",
       " 'accuracy': 97.33333333268445,\n",
       " 'prevalence': 33.33333333311111,\n",
       " 'precision': 97.91666666462675,\n",
       " 'sensitivity/recall': 93.99999999812,\n",
       " 'F1': 95.91836734448148,\n",
       " 'false_positive_rate': 0.99999999999}"
      ]
     },
     "execution_count": 83,
     "metadata": {},
     "output_type": "execute_result"
    }
   ],
   "source": [
    "calculate_model_performance(np.argmax(Y, axis=0),\n",
    "                           model.predict(X))"
   ]
  },
  {
   "cell_type": "code",
   "execution_count": 14,
   "metadata": {
    "scrolled": true
   },
   "outputs": [
    {
     "name": "stdout",
     "output_type": "stream",
     "text": [
      "\n",
      "*********1/30*********\n",
      "Running model 1 fold 1\n",
      "func:'fit' -- took: 3.7792 sec\n",
      "\n",
      "*********2/30*********\n",
      "Running model 1 fold 2\n",
      "func:'fit' -- took: 3.8736 sec\n",
      "\n",
      "*********3/30*********\n",
      "Running model 1 fold 3\n",
      "func:'fit' -- took: 4.0393 sec\n",
      "\n",
      "*********4/30*********\n",
      "Running model 1 fold 4\n",
      "func:'fit' -- took: 3.7984 sec\n",
      "\n",
      "*********5/30*********\n",
      "Running model 1 fold 5\n",
      "func:'fit' -- took: 3.6410 sec\n",
      "\n",
      "*********6/30*********\n",
      "Running model 2 fold 1\n",
      "func:'fit' -- took: 3.9275 sec\n",
      "\n",
      "*********7/30*********\n",
      "Running model 2 fold 2\n",
      "func:'fit' -- took: 3.8576 sec\n",
      "\n",
      "*********8/30*********\n",
      "Running model 2 fold 3\n",
      "func:'fit' -- took: 3.6730 sec\n",
      "\n",
      "*********9/30*********\n",
      "Running model 2 fold 4\n",
      "func:'fit' -- took: 3.6944 sec\n",
      "\n",
      "*********10/30*********\n",
      "Running model 2 fold 5\n",
      "func:'fit' -- took: 3.7062 sec\n",
      "\n",
      "*********11/30*********\n",
      "Running model 3 fold 1\n",
      "func:'fit' -- took: 1.9485 sec\n",
      "\n",
      "*********12/30*********\n",
      "Running model 3 fold 2\n",
      "func:'fit' -- took: 2.0470 sec\n",
      "\n",
      "*********13/30*********\n",
      "Running model 3 fold 3\n",
      "func:'fit' -- took: 2.3983 sec\n",
      "\n",
      "*********14/30*********\n",
      "Running model 3 fold 4\n",
      "func:'fit' -- took: 1.9956 sec\n",
      "\n",
      "*********15/30*********\n",
      "Running model 3 fold 5\n",
      "func:'fit' -- took: 1.9620 sec\n",
      "\n",
      "*********16/30*********\n",
      "Running model 4 fold 1\n",
      "func:'fit' -- took: 2.1067 sec\n",
      "\n",
      "*********17/30*********\n",
      "Running model 4 fold 2\n",
      "func:'fit' -- took: 2.6762 sec\n",
      "\n",
      "*********18/30*********\n",
      "Running model 4 fold 3\n",
      "func:'fit' -- took: 2.2765 sec\n",
      "\n",
      "*********19/30*********\n",
      "Running model 4 fold 4\n",
      "func:'fit' -- took: 2.1917 sec\n",
      "\n",
      "*********20/30*********\n",
      "Running model 4 fold 5\n",
      "func:'fit' -- took: 2.1000 sec\n",
      "\n",
      "*********21/30*********\n",
      "Running model 5 fold 1\n",
      "func:'fit' -- took: 1.0618 sec\n",
      "\n",
      "*********22/30*********\n",
      "Running model 5 fold 2\n",
      "func:'fit' -- took: 1.0772 sec\n",
      "\n",
      "*********23/30*********\n",
      "Running model 5 fold 3\n",
      "func:'fit' -- took: 1.1307 sec\n",
      "\n",
      "*********24/30*********\n",
      "Running model 5 fold 4\n",
      "func:'fit' -- took: 1.3489 sec\n",
      "\n",
      "*********25/30*********\n",
      "Running model 5 fold 5\n",
      "func:'fit' -- took: 1.3024 sec\n",
      "\n",
      "*********26/30*********\n",
      "Running model 6 fold 1\n",
      "func:'fit' -- took: 1.3512 sec\n",
      "\n",
      "*********27/30*********\n",
      "Running model 6 fold 2\n",
      "func:'fit' -- took: 1.2561 sec\n",
      "\n",
      "*********28/30*********\n",
      "Running model 6 fold 3\n",
      "func:'fit' -- took: 1.4551 sec\n",
      "\n",
      "*********29/30*********\n",
      "Running model 6 fold 4\n",
      "func:'fit' -- took: 1.3068 sec\n",
      "\n",
      "*********30/30*********\n",
      "Running model 6 fold 5\n",
      "func:'fit' -- took: 1.4120 sec\n"
     ]
    }
   ],
   "source": [
    "results_dict_all_models, results_average_dict, models = grid_search(\n",
    "    x,\n",
    "    y,\n",
    "    clf=NeuralNetwork,\n",
    "    lst_metrics=[\"F1\", \"accuracy\"],\n",
    "    sort_by = \"accuracy\",\n",
    "    n_folds=5,\n",
    "    dict_param_grid={\n",
    "        'batch_size': [8, 16, 32],\n",
    "        'input_layer': [(2, 'relu')],\n",
    "        'hidden_layer': [\n",
    "            [(4,'relu'), (4,'softmax')],\n",
    "            [(4,'sigmoid'),(4,'softmax')]\n",
    "        ],\n",
    "        'optimizer': [\n",
    "            {\n",
    "                \"method\": \"RMSP\",\n",
    "                \"beta\": 0.9\n",
    "            }\n",
    "        ],\n",
    "        'output_layer': [3],\n",
    "        'alpha': [0.001],\n",
    "        'verbose': [False],\n",
    "        'epoch': [1000]\n",
    "    }\n",
    ")"
   ]
  },
  {
   "cell_type": "code",
   "execution_count": 66,
   "metadata": {
    "scrolled": true
   },
   "outputs": [
    {
     "data": {
      "text/plain": [
       "[('model_6', (('F1', 69.43724375105835), ('accuracy', 91.51999999981697))),\n",
       " ('model_4', (('F1', 68.0189256788339), ('accuracy', 90.97999999981803))),\n",
       " ('model_1', (('F1', 64.09238795271759), ('accuracy', 89.33999999982132))),\n",
       " ('model_3', (('F1', 62.47172125135491), ('accuracy', 88.65999999982269))),\n",
       " ('model_5', (('F1', 57.05925072797586), ('accuracy', 85.85999999982828))),\n",
       " ('model_2', (('F1', 0.0), ('accuracy', 9.999999999980002)))]"
      ]
     },
     "execution_count": 66,
     "metadata": {},
     "output_type": "execute_result"
    }
   ],
   "source": [
    "results_average_dict"
   ]
  },
  {
   "cell_type": "code",
   "execution_count": 105,
   "metadata": {
    "scrolled": false
   },
   "outputs": [
    {
     "data": {
      "text/plain": [
       "Text(0, 0.5, 'petal length')"
      ]
     },
     "execution_count": 105,
     "metadata": {},
     "output_type": "execute_result"
    },
    {
     "data": {
      "image/png": "[encoded data removed]",
      "text/plain": [
       "<Figure size 864x576 with 1 Axes>"
      ]
     },
     "metadata": {
      "needs_background": "light"
     },
     "output_type": "display_data"
    }
   ],
   "source": [
    "%matplotlib inline\n",
    "import matplotlib.pyplot as plt\n",
    "dt = data.data[:,[0,2]]\n",
    "x_min, x_max = dt[:, 0].min() - 1, dt[:, 0].max() + 1\n",
    "y_min, y_max = dt[:, 1].min() - 1, dt[:, 1].max() + 1\n",
    "xx, yy = np.meshgrid(np.arange(x_min, x_max, 0.1),\n",
    "                     np.arange(y_min, y_max, 0.1))\n",
    "\n",
    "# here \"model\" is your model's prediction (classification) function\n",
    "Z = model.predict(np.c_[xx.ravel(), yy.ravel()].T) \n",
    "\n",
    "# Put the result into a color plot\n",
    "Z = Z.reshape(xx.shape)\n",
    "plt.figure(figsize=(12,8))\n",
    "plt.contourf(xx, yy, Z,alpha=0.4)\n",
    "#plt.axis('off')\n",
    "\n",
    "plt.scatter(dt[:, 0], dt[:, 1], c=y,s=20, edgecolor='k')\n",
    "plt.xlabel('sepal length')\n",
    "plt.ylabel('petal length')"
   ]
  },
  {
   "cell_type": "markdown",
   "metadata": {},
   "source": [
    "## 2.Make Moons dataset"
   ]
  },
  {
   "cell_type": "code",
   "execution_count": 90,
   "metadata": {},
   "outputs": [
    {
     "name": "stdout",
     "output_type": "stream",
     "text": [
      "(2, 1500)\n",
      "(2, 1500)\n"
     ]
    }
   ],
   "source": [
    "from sklearn.datasets import make_moons\n",
    "\n",
    "x,y =make_moons(n_samples=1500, noise=.05)\n",
    "X = x.T\n",
    "Y = one_hot_encode(y).T\n",
    "\n",
    "print(X.shape)\n",
    "print(Y.shape)"
   ]
  },
  {
   "cell_type": "code",
   "execution_count": null,
   "metadata": {
    "scrolled": true
   },
   "outputs": [],
   "source": [
    "model = NeuralNetwork(\n",
    "    input_layer=(2, \"sigmoid\"),\n",
    "    hidden_layer=[(8, \"tanh\"),\n",
    "                  (6, \"relu\"),\n",
    "                  (4, \"softmax\")],\n",
    "    output_layer=2,\n",
    "    batch_size=64,\n",
    "    alpha=0.5,\n",
    "    epoch=2500,\n",
    "    random_state=42\n",
    ")\n",
    "\n",
    "\n",
    "model.fit(X, Y)"
   ]
  },
  {
   "cell_type": "code",
   "execution_count": null,
   "metadata": {
    "scrolled": false
   },
   "outputs": [],
   "source": [
    "### Decision Boundaries\n",
    "%matplotlib inline\n",
    "import matplotlib.pyplot as plt\n",
    "dt = x\n",
    "x_min, x_max = dt[:, 0].min() - 0.5, dt[:, 0].max() + 0.5\n",
    "y_min, y_max = dt[:, 1].min() - 0.5, dt[:, 1].max() + 0.5\n",
    "xx, yy = np.meshgrid(np.arange(x_min, x_max, 0.1),\n",
    "                     np.arange(y_min, y_max, 0.1))\n",
    "\n",
    "# here \"model\" is your model's prediction (classification) function\n",
    "Z = model.predict(np.c_[xx.ravel(), yy.ravel()].T) \n",
    "\n",
    "# Put the result into a color plot\n",
    "Z = Z.reshape(xx.shape)\n",
    "plt.figure(figsize=(12,8))\n",
    "plt.contourf(xx, yy, Z,alpha=0.4)\n",
    "#plt.axis('off')\n",
    "plt.scatter(dt[:, 0], dt[:, 1], c=y, s=20, edgecolor='k')\n",
    "plt.title('Decision Boundaries')"
   ]
  },
  {
   "cell_type": "markdown",
   "metadata": {},
   "source": [
    "## 3.Andrew NG Assignment 2 Dataset"
   ]
  },
  {
   "cell_type": "code",
   "execution_count": null,
   "metadata": {
    "scrolled": true
   },
   "outputs": [],
   "source": [
    "ex2data2 = np.loadtxt(\"../ex2/data/ex2data2.txt\", delimiter=\",\")\n",
    "\n",
    "x = ex2data2[:, :-1]\n",
    "y = ex2data2[:, -1]\n",
    "\n",
    "X = x.T\n",
    "Y = one_hot_encode(y).T"
   ]
  },
  {
   "cell_type": "code",
   "execution_count": null,
   "metadata": {},
   "outputs": [],
   "source": [
    "print(X.shape)\n",
    "print(Y.shape)"
   ]
  },
  {
   "cell_type": "code",
   "execution_count": null,
   "metadata": {},
   "outputs": [],
   "source": [
    "model = NeuralNetwork(\n",
    "    input_layer=(X.shape[0], \"relu\"),\n",
    "    hidden_layer=[(4, \"relu\"),\n",
    "                  (4, \"softmax\")],\n",
    "    output_layer=Y.shape[0],\n",
    "    batch_size=16,\n",
    "    alpha=4,\n",
    "    epoch=5000,\n",
    "    random_state=42\n",
    ")\n",
    "\n",
    "model.fit(X,Y)"
   ]
  },
  {
   "cell_type": "code",
   "execution_count": null,
   "metadata": {
    "scrolled": true
   },
   "outputs": [],
   "source": [
    "results_dict_all_models, results_average_dict, models = grid_search_stratified(\n",
    "    x,\n",
    "    y,\n",
    "    clf=NeuralNetwork,\n",
    "    metrics=[\"F1\", \"accuracy\"],\n",
    "    sort_by = \"accuracy\",\n",
    "    n_fold=6,\n",
    "    param_grid_dict={\n",
    "        'batch_size': [16, 32],\n",
    "        'input_layer': [(2, 'relu')],\n",
    "        'hidden_layer': [\n",
    "            [(4,'relu'), (4,'relu'), (4,'softmax')],\n",
    "            [(4,'sigmoid'),(4,'softmax')]\n",
    "        ],\n",
    "        'output_layer': [2],\n",
    "        'alpha': [2, 4],\n",
    "        'verbose': [False],\n",
    "        'epoch': [5000]\n",
    "    }\n",
    ")"
   ]
  },
  {
   "cell_type": "code",
   "execution_count": null,
   "metadata": {
    "scrolled": true
   },
   "outputs": [],
   "source": [
    "results_average_dict"
   ]
  },
  {
   "cell_type": "code",
   "execution_count": null,
   "metadata": {},
   "outputs": [],
   "source": [
    "print(models[\"model_5\"])"
   ]
  },
  {
   "cell_type": "code",
   "execution_count": null,
   "metadata": {},
   "outputs": [],
   "source": [
    "### Decision Boundaries\n",
    "%matplotlib inline\n",
    "import matplotlib.pyplot as plt\n",
    "X = ex2data2\n",
    "\n",
    "x1_min, x1_max = X[:, 0].min() - 0.3, X[:, 0].max() + 0.3,\n",
    "x2_min, x2_max = X[:, 1].min() - 0.3, X[:, 1].max() + 0.3,\n",
    "xx1, xx2 = np.meshgrid(np.linspace(x1_min, x1_max), np.linspace(x2_min, x2_max))\n",
    "\n",
    "# here \"model\" is your model's prediction (classification) function\n",
    "Z = models[\"model_5\"].predict(np.c_[xx1.ravel(), xx2.ravel()].T) \n",
    "\n",
    "negatives = ex2data2[ex2data2[:, -1] == 0]\n",
    "positives = ex2data2[ex2data2[:, -1] == 1]\n",
    "\n",
    "# Put the result into a color plot\n",
    "Z = Z.reshape(xx1.shape)\n",
    "plt.figure(figsize=(12,8))\n",
    "plt.contourf(xx1, xx2, Z,alpha=0.4)\n",
    "#plt.axis('off')\n",
    "plt.scatter(negatives[:, 0], negatives[:, 1],s=50, color='k')\n",
    "plt.scatter(positives[:, 0], positives[:, 1],s=50, color='r')\n",
    "plt.title('Decision Boundaries')\n",
    "\n",
    "plt.contour(xx1, xx2, Z, [0.5], linewidths=2, colors=\"g\")"
   ]
  },
  {
   "cell_type": "markdown",
   "metadata": {
    "collapsed": true
   },
   "source": [
    "# MNIST dataset"
   ]
  },
  {
   "cell_type": "code",
   "execution_count": 71,
   "metadata": {},
   "outputs": [
    {
     "data": {
      "text/plain": [
       "dict_keys(['__header__', '__version__', '__globals__', 'X', 'y'])"
      ]
     },
     "execution_count": 71,
     "metadata": {},
     "output_type": "execute_result"
    }
   ],
   "source": [
    "from scipy.io import loadmat\n",
    "data = loadmat('../ex3/data/ex3data1.mat')\n",
    "data.keys()"
   ]
  },
  {
   "cell_type": "code",
   "execution_count": 72,
   "metadata": {},
   "outputs": [],
   "source": [
    "x = data[\"X\"]\n",
    "y = data[\"y\"]\n",
    "y[y==10] = 0"
   ]
  },
  {
   "cell_type": "code",
   "execution_count": 73,
   "metadata": {},
   "outputs": [],
   "source": [
    "X = x.T\n",
    "Y = one_hot_encode(y).T"
   ]
  },
  {
   "cell_type": "code",
   "execution_count": 74,
   "metadata": {},
   "outputs": [
    {
     "name": "stdout",
     "output_type": "stream",
     "text": [
      "(400, 5000)\n",
      "(10, 5000)\n"
     ]
    }
   ],
   "source": [
    "print(X.shape)\n",
    "print(Y.shape)"
   ]
  },
  {
   "cell_type": "code",
   "execution_count": 75,
   "metadata": {},
   "outputs": [
    {
     "data": {
      "image/png": "[encoded data removed]",
      "text/plain": [
       "<Figure size 1440x1440 with 1 Axes>"
      ]
     },
     "metadata": {
      "needs_background": "light"
     },
     "output_type": "display_data"
    }
   ],
   "source": [
    "import matplotlib.pyplot as plt\n",
    "\n",
    "fig, ax = plt.subplots(figsize=(20,20))\n",
    "\n",
    "sample = np.random.choice(data[\"X\"].shape[0], 20)\n",
    "ax.imshow(data[\"X\"][sample,1:].reshape(-1,20).T)\n",
    "ax.axis('off');"
   ]
  },
  {
   "cell_type": "code",
   "execution_count": 76,
   "metadata": {
    "scrolled": true
   },
   "outputs": [
    {
     "name": "stdout",
     "output_type": "stream",
     "text": [
      "Initialising weights...\n",
      "Starting the training...\n",
      "Initial cost: 3.0590042756\n",
      "\n",
      "accuracy: 30.0200000000 - epoch 1    iteration 100 - loss 2.10147229283433434333\n",
      "accuracy: 42.8800000000 - epoch 2    iteration 200 - loss 1.66751114474519646080\n",
      "accuracy: 60.1000000000 - epoch 3    iteration 300 - loss 1.29361378955886618947\n",
      "accuracy: 68.2800000000 - epoch 4    iteration 400 - loss 1.04906736859189630984\n",
      "accuracy: 72.0800000000 - epoch 5    iteration 500 - loss 0.89338077976429997040\n",
      "accuracy: 75.9600000000 - epoch 6    iteration 600 - loss 0.79687768393615809881\n",
      "accuracy: 77.1600000000 - epoch 7    iteration 700 - loss 0.73600444838504153200\n",
      "accuracy: 78.9000000000 - epoch 8    iteration 800 - loss 0.69007302710124462930\n",
      "accuracy: 79.8000000000 - epoch 9    iteration 900 - loss 0.65272808846975161057\n",
      "accuracy: 80.8000000000 - epoch 10    iteration 1000 - loss 0.62778674698168901447\n",
      "accuracy: 81.2000000000 - epoch 11    iteration 1100 - loss 0.61074910290837691740\n",
      "accuracy: 81.9600000000 - epoch 12    iteration 1200 - loss 0.58553667103595341548\n",
      "accuracy: 83.2000000000 - epoch 13    iteration 1300 - loss 0.56722974990872021550\n",
      "accuracy: 83.5200000000 - epoch 14    iteration 1400 - loss 0.55454682265909083227\n",
      "accuracy: 84.0800000000 - epoch 15    iteration 1500 - loss 0.53734491749462642840\n",
      "accuracy: 84.7200000000 - epoch 16    iteration 1600 - loss 0.52361563063343674607\n",
      "accuracy: 85.6200000000 - epoch 17    iteration 1700 - loss 0.50610316784030751069\n",
      "accuracy: 85.6400000000 - epoch 18    iteration 1800 - loss 0.49648530592104689330\n",
      "accuracy: 85.8200000000 - epoch 19    iteration 1900 - loss 0.48860677940017360754\n",
      "accuracy: 86.5600000000 - epoch 20    iteration 2000 - loss 0.46921754522815728450\n",
      "accuracy: 87.1200000000 - epoch 21    iteration 2100 - loss 0.46050428079378435964\n",
      "accuracy: 87.3200000000 - epoch 22    iteration 2200 - loss 0.45133887668406075244\n",
      "accuracy: 87.2800000000 - epoch 23    iteration 2300 - loss 0.45064613544288384395\n",
      "accuracy: 87.2600000000 - epoch 24    iteration 2400 - loss 0.44040232094142894859\n",
      "accuracy: 88.0400000000 - epoch 25    iteration 2500 - loss 0.42698623206776592509\n",
      "accuracy: 88.5000000000 - epoch 26    iteration 2600 - loss 0.42333144182100568287\n",
      "accuracy: 88.4800000000 - epoch 27    iteration 2700 - loss 0.41626249168772627707\n",
      "accuracy: 89.1600000000 - epoch 28    iteration 2800 - loss 0.39844044558655666854\n",
      "accuracy: 89.5000000000 - epoch 29    iteration 2900 - loss 0.38980379775113771501\n",
      "accuracy: 89.0000000000 - epoch 30    iteration 3000 - loss 0.38546986076590494807\n",
      "accuracy: 89.3600000000 - epoch 31    iteration 3100 - loss 0.37869698243589883235\n",
      "accuracy: 89.3200000000 - epoch 32    iteration 3200 - loss 0.37626420374037533589\n",
      "accuracy: 90.0000000000 - epoch 33    iteration 3300 - loss 0.36461295017607953106\n",
      "accuracy: 90.0200000000 - epoch 34    iteration 3400 - loss 0.35927089365102332641\n",
      "accuracy: 89.9200000000 - epoch 35    iteration 3500 - loss 0.35823435397029251837\n",
      "accuracy: 90.5200000000 - epoch 36    iteration 3600 - loss 0.34606367056926196080\n",
      "accuracy: 90.7600000000 - epoch 37    iteration 3700 - loss 0.33599116832995101767\n",
      "accuracy: 90.6800000000 - epoch 38    iteration 3800 - loss 0.33199928587649357725\n",
      "accuracy: 90.9400000000 - epoch 39    iteration 3900 - loss 0.32645130453969456452\n",
      "accuracy: 91.1400000000 - epoch 40    iteration 4000 - loss 0.31770748470234649874\n",
      "accuracy: 91.2000000000 - epoch 41    iteration 4100 - loss 0.31238760680850763407\n",
      "accuracy: 91.3400000000 - epoch 42    iteration 4200 - loss 0.31079958518415484736\n",
      "accuracy: 91.5000000000 - epoch 43    iteration 4300 - loss 0.30483272183071113970\n",
      "accuracy: 91.7600000000 - epoch 44    iteration 4400 - loss 0.29434822111203978734\n",
      "accuracy: 91.6600000000 - epoch 45    iteration 4500 - loss 0.29281507194479799994\n",
      "accuracy: 92.1000000000 - epoch 46    iteration 4600 - loss 0.28412326528381270929\n",
      "accuracy: 92.2200000000 - epoch 47    iteration 4700 - loss 0.28195256240686611404\n",
      "accuracy: 92.3600000000 - epoch 48    iteration 4800 - loss 0.27669486507811064113\n",
      "accuracy: 92.5000000000 - epoch 49    iteration 4900 - loss 0.27106899903470005331\n",
      "accuracy: 92.8600000000 - epoch 50    iteration 5000 - loss 0.26621131086745170036\n",
      "accuracy: 93.0600000000 - epoch 51    iteration 5100 - loss 0.26005605369417544859\n",
      "accuracy: 92.7800000000 - epoch 52    iteration 5200 - loss 0.25927491257702584004\n",
      "accuracy: 93.2000000000 - epoch 53    iteration 5300 - loss 0.25261239244481903388\n",
      "accuracy: 93.2400000000 - epoch 54    iteration 5400 - loss 0.24822507989017372765\n",
      "accuracy: 93.6800000000 - epoch 55    iteration 5500 - loss 0.24270611850259687925\n",
      "accuracy: 93.7400000000 - epoch 56    iteration 5600 - loss 0.23806120558506349560\n",
      "accuracy: 93.7800000000 - epoch 57    iteration 5700 - loss 0.23717217886449540321\n",
      "accuracy: 94.0000000000 - epoch 58    iteration 5800 - loss 0.23253031120685441202\n",
      "accuracy: 94.0000000000 - epoch 59    iteration 5900 - loss 0.22642202078704118384\n",
      "accuracy: 93.9800000000 - epoch 60    iteration 6000 - loss 0.22643623028613091286\n",
      "accuracy: 94.0000000000 - epoch 61    iteration 6100 - loss 0.22026007554064858107\n",
      "accuracy: 94.2600000000 - epoch 62    iteration 6200 - loss 0.21578928485106790847\n",
      "accuracy: 94.2000000000 - epoch 63    iteration 6300 - loss 0.21538418234995343470\n",
      "accuracy: 94.5800000000 - epoch 64    iteration 6400 - loss 0.20856363420797516262\n",
      "accuracy: 94.3000000000 - epoch 65    iteration 6500 - loss 0.20924481451383061814\n",
      "accuracy: 94.7800000000 - epoch 66    iteration 6600 - loss 0.19977165075837455266\n",
      "accuracy: 94.7400000000 - epoch 67    iteration 6700 - loss 0.20603460331351075574\n",
      "accuracy: 94.7200000000 - epoch 68    iteration 6800 - loss 0.19794514203129964791\n",
      "accuracy: 94.7400000000 - epoch 69    iteration 6900 - loss 0.19536450727865098398\n",
      "accuracy: 95.2800000000 - epoch 70    iteration 7000 - loss 0.18915922029501514023\n",
      "accuracy: 94.9600000000 - epoch 71    iteration 7100 - loss 0.18684672305084915056\n",
      "accuracy: 95.4000000000 - epoch 72    iteration 7200 - loss 0.18229286811549372249\n",
      "accuracy: 95.2800000000 - epoch 73    iteration 7300 - loss 0.17897578393870511304\n",
      "accuracy: 95.0400000000 - epoch 74    iteration 7400 - loss 0.18546208475205921973\n",
      "accuracy: 95.2800000000 - epoch 75    iteration 7500 - loss 0.17897114640076480785\n",
      "accuracy: 95.8000000000 - epoch 76    iteration 7600 - loss 0.16888524979230351564\n",
      "accuracy: 95.9400000000 - epoch 77    iteration 7700 - loss 0.16688420117331442816\n",
      "accuracy: 95.9600000000 - epoch 78    iteration 7800 - loss 0.16444682553333556108\n",
      "accuracy: 95.9600000000 - epoch 79    iteration 7900 - loss 0.16345443579961194125\n",
      "accuracy: 95.7200000000 - epoch 80    iteration 8000 - loss 0.16517450316199411287\n",
      "accuracy: 96.3600000000 - epoch 81    iteration 8100 - loss 0.15486846979944920988\n",
      "accuracy: 96.1200000000 - epoch 82    iteration 8200 - loss 0.15631647882696275698\n",
      "accuracy: 96.4400000000 - epoch 83    iteration 8300 - loss 0.14985945980945045153\n",
      "accuracy: 96.4600000000 - epoch 84    iteration 8400 - loss 0.15308890794025142856\n",
      "accuracy: 96.1000000000 - epoch 85    iteration 8500 - loss 0.15058724584451757544\n",
      "accuracy: 96.2600000000 - epoch 86    iteration 8600 - loss 0.14723782695665671438\n",
      "accuracy: 96.7400000000 - epoch 87    iteration 8700 - loss 0.13973076801842079786\n",
      "accuracy: 96.8600000000 - epoch 88    iteration 8800 - loss 0.13701546123187977044\n",
      "accuracy: 96.8200000000 - epoch 89    iteration 8900 - loss 0.13351625265257210939\n",
      "accuracy: 96.6000000000 - epoch 90    iteration 9000 - loss 0.13883437077351765132\n",
      "accuracy: 97.0000000000 - epoch 91    iteration 9100 - loss 0.13036763598160533428\n",
      "accuracy: 97.1200000000 - epoch 92    iteration 9200 - loss 0.12636702695847074063\n",
      "accuracy: 97.2400000000 - epoch 93    iteration 9300 - loss 0.12620751975095709230\n",
      "accuracy: 97.1400000000 - epoch 94    iteration 9400 - loss 0.12394689174699621836\n",
      "accuracy: 97.0200000000 - epoch 95    iteration 9500 - loss 0.12357828875090699772\n",
      "accuracy: 97.1800000000 - epoch 96    iteration 9600 - loss 0.11822086842621795655\n",
      "accuracy: 97.2800000000 - epoch 97    iteration 9700 - loss 0.11870393977686435893\n",
      "accuracy: 97.5000000000 - epoch 98    iteration 9800 - loss 0.11383533307130723478\n",
      "accuracy: 97.4200000000 - epoch 99    iteration 9900 - loss 0.11141800261101111880\n"
     ]
    },
    {
     "name": "stdout",
     "output_type": "stream",
     "text": [
      "accuracy: 97.5600000000 - epoch 100    iteration 10000 - loss 0.10927627996415462119\n",
      "func:'fit' -- took: 9.7459 sec\n"
     ]
    }
   ],
   "source": [
    "model = NeuralNetwork(\n",
    "    (X.shape[0], 'relu'),\n",
    "    [(25,'relu'), (4,'softmax')],\n",
    "    Y.shape[0],\n",
    "    batch_size=50,\n",
    "    optimizer={\n",
    "        \"method\": \"ADAM\",\n",
    "        \"beta1\": 0.9,\n",
    "        \"beta2\": 0.99\n",
    "                },\n",
    "    epoch=100,\n",
    "    alpha=0.001\n",
    ")\n",
    "\n",
    "model.fit(X,Y)"
   ]
  },
  {
   "cell_type": "code",
   "execution_count": 77,
   "metadata": {
    "scrolled": true
   },
   "outputs": [
    {
     "name": "stdout",
     "output_type": "stream",
     "text": [
      "Initialising weights...\n",
      "Starting the training...\n",
      "Initial cost: 3.0590042756\n",
      "\n",
      "accuracy: 33.3200000000 - epoch 1    iteration 100 - loss 1.92890292123085416165\n",
      "accuracy: 51.2600000000 - epoch 2    iteration 200 - loss 1.52579557569626089730\n",
      "accuracy: 62.7400000000 - epoch 3    iteration 300 - loss 1.22995253044633567896\n",
      "accuracy: 68.5800000000 - epoch 4    iteration 400 - loss 1.03490737090416407007\n",
      "accuracy: 72.2400000000 - epoch 5    iteration 500 - loss 0.89784225324774813437\n",
      "accuracy: 75.3600000000 - epoch 6    iteration 600 - loss 0.81293299189892809231\n",
      "accuracy: 77.0800000000 - epoch 7    iteration 700 - loss 0.74913402806190165784\n",
      "accuracy: 78.4800000000 - epoch 8    iteration 800 - loss 0.70266270393619756351\n",
      "accuracy: 79.4200000000 - epoch 9    iteration 900 - loss 0.66507839638698429408\n",
      "accuracy: 80.6600000000 - epoch 10    iteration 1000 - loss 0.63686190039593859602\n",
      "accuracy: 80.9200000000 - epoch 11    iteration 1100 - loss 0.61665803540329411359\n",
      "accuracy: 81.6000000000 - epoch 12    iteration 1200 - loss 0.60181938034813542426\n",
      "accuracy: 82.5200000000 - epoch 13    iteration 1300 - loss 0.58044790310381377818\n",
      "accuracy: 83.5600000000 - epoch 14    iteration 1400 - loss 0.55908907416546160807\n",
      "accuracy: 84.1200000000 - epoch 15    iteration 1500 - loss 0.54449449065600730169\n",
      "accuracy: 84.2000000000 - epoch 16    iteration 1600 - loss 0.53528810590317810192\n",
      "accuracy: 84.9000000000 - epoch 17    iteration 1700 - loss 0.52050561951615126333\n",
      "accuracy: 85.1600000000 - epoch 18    iteration 1800 - loss 0.51236486158080685183\n",
      "accuracy: 85.9200000000 - epoch 19    iteration 1900 - loss 0.49479889980535629590\n",
      "accuracy: 85.9200000000 - epoch 20    iteration 2000 - loss 0.48748034204202422837\n",
      "accuracy: 86.4800000000 - epoch 21    iteration 2100 - loss 0.47495691637353548709\n",
      "accuracy: 86.8400000000 - epoch 22    iteration 2200 - loss 0.46449025143265004756\n",
      "accuracy: 87.1200000000 - epoch 23    iteration 2300 - loss 0.45750366108216322658\n",
      "accuracy: 86.8200000000 - epoch 24    iteration 2400 - loss 0.45832103263864526488\n",
      "accuracy: 87.5800000000 - epoch 25    iteration 2500 - loss 0.44594303530254830736\n",
      "accuracy: 88.0200000000 - epoch 26    iteration 2600 - loss 0.43644874004088035635\n",
      "accuracy: 88.1200000000 - epoch 27    iteration 2700 - loss 0.42316407428469576812\n",
      "accuracy: 88.4600000000 - epoch 28    iteration 2800 - loss 0.41567442867118242766\n",
      "accuracy: 88.6600000000 - epoch 29    iteration 2900 - loss 0.41402655618908529300\n",
      "accuracy: 88.4000000000 - epoch 30    iteration 3000 - loss 0.40578053185705792449\n",
      "accuracy: 89.0800000000 - epoch 31    iteration 3100 - loss 0.39546281597315929845\n",
      "accuracy: 88.2200000000 - epoch 32    iteration 3200 - loss 0.40705699908952480692\n",
      "accuracy: 89.4600000000 - epoch 33    iteration 3300 - loss 0.38131311492765235238\n",
      "accuracy: 89.6000000000 - epoch 34    iteration 3400 - loss 0.37960694156231450380\n",
      "accuracy: 90.0200000000 - epoch 35    iteration 3500 - loss 0.36649817161278935851\n",
      "accuracy: 90.2000000000 - epoch 36    iteration 3600 - loss 0.36157525629164738445\n",
      "accuracy: 90.3600000000 - epoch 37    iteration 3700 - loss 0.35497443476396406403\n",
      "accuracy: 90.3000000000 - epoch 38    iteration 3800 - loss 0.35099039601002540723\n",
      "accuracy: 90.3200000000 - epoch 39    iteration 3900 - loss 0.35038759257631141297\n",
      "accuracy: 91.1000000000 - epoch 40    iteration 4000 - loss 0.33856176092948980783\n",
      "accuracy: 90.7200000000 - epoch 41    iteration 4100 - loss 0.33664631746412360114\n",
      "accuracy: 91.1200000000 - epoch 42    iteration 4200 - loss 0.33065124203362677990\n",
      "accuracy: 91.0200000000 - epoch 43    iteration 4300 - loss 0.32055590105078479723\n",
      "accuracy: 91.5200000000 - epoch 44    iteration 4400 - loss 0.31435930694815905628\n",
      "accuracy: 91.3000000000 - epoch 45    iteration 4500 - loss 0.31212259743599890527\n",
      "accuracy: 91.6400000000 - epoch 46    iteration 4600 - loss 0.30598117352899867338\n",
      "accuracy: 91.5400000000 - epoch 47    iteration 4700 - loss 0.29964364189726716559\n",
      "accuracy: 92.0000000000 - epoch 48    iteration 4800 - loss 0.29578922760897996547\n",
      "accuracy: 91.8000000000 - epoch 49    iteration 4900 - loss 0.29590057892147142438\n",
      "accuracy: 91.9400000000 - epoch 50    iteration 5000 - loss 0.28991717598728289351\n",
      "accuracy: 92.2200000000 - epoch 51    iteration 5100 - loss 0.28087142038459544935\n",
      "accuracy: 92.7000000000 - epoch 52    iteration 5200 - loss 0.27405643265677293030\n",
      "accuracy: 92.6000000000 - epoch 53    iteration 5300 - loss 0.26979830661447429252\n",
      "accuracy: 92.8200000000 - epoch 54    iteration 5400 - loss 0.26495333526185665951\n",
      "accuracy: 92.5200000000 - epoch 55    iteration 5500 - loss 0.27076698238349128367\n",
      "accuracy: 92.8800000000 - epoch 56    iteration 5600 - loss 0.25665426617957748379\n",
      "accuracy: 92.9400000000 - epoch 57    iteration 5700 - loss 0.25516820434730008715\n",
      "accuracy: 92.7800000000 - epoch 58    iteration 5800 - loss 0.25842889616961167709\n",
      "accuracy: 93.3200000000 - epoch 59    iteration 5900 - loss 0.24543414482304837243\n",
      "accuracy: 92.9200000000 - epoch 60    iteration 6000 - loss 0.25171860173250176773\n",
      "accuracy: 93.4800000000 - epoch 61    iteration 6100 - loss 0.23841616229084297562\n",
      "accuracy: 93.6200000000 - epoch 62    iteration 6200 - loss 0.23871244034544028545\n",
      "accuracy: 93.7200000000 - epoch 63    iteration 6300 - loss 0.23581590937285162868\n",
      "accuracy: 93.6400000000 - epoch 64    iteration 6400 - loss 0.23512385207986466473\n",
      "accuracy: 94.0800000000 - epoch 65    iteration 6500 - loss 0.22804215591621437853\n",
      "accuracy: 93.9400000000 - epoch 66    iteration 6600 - loss 0.22456330605280755419\n",
      "accuracy: 94.3000000000 - epoch 67    iteration 6700 - loss 0.21804346671995261664\n",
      "accuracy: 94.0400000000 - epoch 68    iteration 6800 - loss 0.21915816210766178584\n",
      "accuracy: 94.2400000000 - epoch 69    iteration 6900 - loss 0.21241876987148916589\n",
      "accuracy: 94.5800000000 - epoch 70    iteration 7000 - loss 0.21149706231719825333\n",
      "accuracy: 94.4000000000 - epoch 71    iteration 7100 - loss 0.21059433222468132429\n",
      "accuracy: 94.8200000000 - epoch 72    iteration 7200 - loss 0.20440309348236956888\n",
      "accuracy: 94.8200000000 - epoch 73    iteration 7300 - loss 0.20147509507010977203\n",
      "accuracy: 94.3200000000 - epoch 74    iteration 7400 - loss 0.20212398002840908928\n",
      "accuracy: 94.7400000000 - epoch 75    iteration 7500 - loss 0.19882569119170967475\n",
      "accuracy: 95.0200000000 - epoch 76    iteration 7600 - loss 0.19382371444847470987\n",
      "accuracy: 95.1200000000 - epoch 77    iteration 7700 - loss 0.18942076927521647733\n",
      "accuracy: 95.1200000000 - epoch 78    iteration 7800 - loss 0.19072265954183320602\n",
      "accuracy: 95.4200000000 - epoch 79    iteration 7900 - loss 0.18578312449786796301\n",
      "accuracy: 95.1200000000 - epoch 80    iteration 8000 - loss 0.18574186667580003252\n",
      "accuracy: 95.6800000000 - epoch 81    iteration 8100 - loss 0.17873634036396274238\n",
      "accuracy: 95.7200000000 - epoch 82    iteration 8200 - loss 0.17491001729656827091\n",
      "accuracy: 95.3600000000 - epoch 83    iteration 8300 - loss 0.17942517093908846859\n",
      "accuracy: 95.7000000000 - epoch 84    iteration 8400 - loss 0.17203893647432547120\n",
      "accuracy: 95.4200000000 - epoch 85    iteration 8500 - loss 0.17540101816793693401\n",
      "accuracy: 95.0800000000 - epoch 86    iteration 8600 - loss 0.17651888984764410595\n",
      "accuracy: 95.8800000000 - epoch 87    iteration 8700 - loss 0.16449322721158798899\n",
      "accuracy: 95.9400000000 - epoch 88    iteration 8800 - loss 0.16365175572624349187\n",
      "accuracy: 96.1000000000 - epoch 89    iteration 8900 - loss 0.15964015504167899939\n",
      "accuracy: 96.1000000000 - epoch 90    iteration 9000 - loss 0.15832082528349120110\n",
      "accuracy: 95.9800000000 - epoch 91    iteration 9100 - loss 0.15627140068637146442\n",
      "accuracy: 95.9200000000 - epoch 92    iteration 9200 - loss 0.16254534442041218556\n",
      "accuracy: 96.6200000000 - epoch 93    iteration 9300 - loss 0.14975472349488877510\n",
      "accuracy: 96.5000000000 - epoch 94    iteration 9400 - loss 0.15039529416758892766\n",
      "accuracy: 96.3400000000 - epoch 95    iteration 9500 - loss 0.14797346267765601469\n",
      "accuracy: 96.4200000000 - epoch 96    iteration 9600 - loss 0.14660025949264901546\n",
      "accuracy: 96.5800000000 - epoch 97    iteration 9700 - loss 0.14508591798653752702\n",
      "accuracy: 96.8200000000 - epoch 98    iteration 9800 - loss 0.14039795340721966665\n",
      "accuracy: 96.9000000000 - epoch 99    iteration 9900 - loss 0.13796375549307959840\n",
      "accuracy: 96.9800000000 - epoch 100    iteration 10000 - loss 0.13681544537107437343\n",
      "func:'fit' -- took: 8.3004 sec\n"
     ]
    }
   ],
   "source": [
    "model = NeuralNetwork(\n",
    "    (X.shape[0], 'relu'),\n",
    "    [(25,'relu'), (4,'softmax')],\n",
    "    Y.shape[0],\n",
    "    batch_size=50,\n",
    "    optimizer={\n",
    "        \"method\": \"RMSP\",\n",
    "        \"beta\": 0.9\n",
    "                },\n",
    "    epoch=100,\n",
    "    alpha=0.001\n",
    ")\n",
    "\n",
    "model.fit(X,Y)"
   ]
  },
  {
   "cell_type": "code",
   "execution_count": 59,
   "metadata": {
    "scrolled": true
   },
   "outputs": [
    {
     "name": "stdout",
     "output_type": "stream",
     "text": [
      "\n",
      "*********1/60*********\n",
      "Running model 1 fold 1\n",
      "func:'fit' -- took: 19.8035 sec\n",
      "\n",
      "*********2/60*********\n",
      "Running model 1 fold 2\n",
      "func:'fit' -- took: 14.0731 sec\n",
      "\n",
      "*********3/60*********\n",
      "Running model 1 fold 3\n",
      "func:'fit' -- took: 14.0837 sec\n",
      "\n",
      "*********4/60*********\n",
      "Running model 1 fold 4\n",
      "func:'fit' -- took: 14.2614 sec\n",
      "\n",
      "*********5/60*********\n",
      "Running model 1 fold 5\n",
      "func:'fit' -- took: 14.3930 sec\n",
      "\n",
      "*********6/60*********\n",
      "Running model 1 fold 6\n",
      "func:'fit' -- took: 14.3630 sec\n",
      "\n",
      "*********7/60*********\n",
      "Running model 1 fold 7\n",
      "func:'fit' -- took: 14.6261 sec\n",
      "\n",
      "*********8/60*********\n",
      "Running model 1 fold 8\n",
      "func:'fit' -- took: 14.7208 sec\n",
      "\n",
      "*********9/60*********\n",
      "Running model 1 fold 9\n",
      "func:'fit' -- took: 14.5076 sec\n",
      "\n",
      "*********10/60*********\n",
      "Running model 1 fold 10\n",
      "func:'fit' -- took: 14.6435 sec\n",
      "\n",
      "*********11/60*********\n",
      "Running model 2 fold 1\n"
     ]
    },
    {
     "name": "stderr",
     "output_type": "stream",
     "text": [
      "/home/cagri/anaconda3/envs/my_env/lib/python3.7/site-packages/ipykernel_launcher.py:71: RuntimeWarning: invalid value encountered in true_divide\n",
      "/home/cagri/anaconda3/envs/my_env/lib/python3.7/site-packages/ipykernel_launcher.py:49: RuntimeWarning: invalid value encountered in less\n",
      "/home/cagri/anaconda3/envs/my_env/lib/python3.7/site-packages/ipykernel_launcher.py:47: RuntimeWarning: invalid value encountered in less\n"
     ]
    },
    {
     "name": "stdout",
     "output_type": "stream",
     "text": [
      "func:'fit' -- took: 14.5809 sec\n",
      "\n",
      "*********12/60*********\n",
      "Running model 2 fold 2\n",
      "func:'fit' -- took: 14.4225 sec\n",
      "\n",
      "*********13/60*********\n",
      "Running model 2 fold 3\n",
      "func:'fit' -- took: 14.7782 sec\n",
      "\n",
      "*********14/60*********\n",
      "Running model 2 fold 4\n",
      "func:'fit' -- took: 14.4767 sec\n",
      "\n",
      "*********15/60*********\n",
      "Running model 2 fold 5\n",
      "func:'fit' -- took: 14.4809 sec\n",
      "\n",
      "*********16/60*********\n",
      "Running model 2 fold 6\n",
      "func:'fit' -- took: 14.4811 sec\n",
      "\n",
      "*********17/60*********\n",
      "Running model 2 fold 7\n",
      "func:'fit' -- took: 14.6181 sec\n",
      "\n",
      "*********18/60*********\n",
      "Running model 2 fold 8\n",
      "func:'fit' -- took: 14.6044 sec\n",
      "\n",
      "*********19/60*********\n",
      "Running model 2 fold 9\n",
      "func:'fit' -- took: 14.6545 sec\n",
      "\n",
      "*********20/60*********\n",
      "Running model 2 fold 10\n",
      "func:'fit' -- took: 14.7555 sec\n",
      "\n",
      "*********21/60*********\n",
      "Running model 3 fold 1\n",
      "func:'fit' -- took: 8.4233 sec\n",
      "\n",
      "*********22/60*********\n",
      "Running model 3 fold 2\n",
      "func:'fit' -- took: 8.5184 sec\n",
      "\n",
      "*********23/60*********\n",
      "Running model 3 fold 3\n",
      "func:'fit' -- took: 8.4142 sec\n",
      "\n",
      "*********24/60*********\n",
      "Running model 3 fold 4\n",
      "func:'fit' -- took: 8.4143 sec\n",
      "\n",
      "*********25/60*********\n",
      "Running model 3 fold 5\n",
      "func:'fit' -- took: 8.3904 sec\n",
      "\n",
      "*********26/60*********\n",
      "Running model 3 fold 6\n",
      "func:'fit' -- took: 8.5148 sec\n",
      "\n",
      "*********27/60*********\n",
      "Running model 3 fold 7\n",
      "func:'fit' -- took: 8.4318 sec\n",
      "\n",
      "*********28/60*********\n",
      "Running model 3 fold 8\n",
      "func:'fit' -- took: 8.4851 sec\n",
      "\n",
      "*********29/60*********\n",
      "Running model 3 fold 9\n",
      "func:'fit' -- took: 8.4280 sec\n",
      "\n",
      "*********30/60*********\n",
      "Running model 3 fold 10\n",
      "func:'fit' -- took: 8.4008 sec\n",
      "\n",
      "*********31/60*********\n",
      "Running model 4 fold 1\n",
      "func:'fit' -- took: 8.5584 sec\n",
      "\n",
      "*********32/60*********\n",
      "Running model 4 fold 2\n",
      "func:'fit' -- took: 8.5052 sec\n",
      "\n",
      "*********33/60*********\n",
      "Running model 4 fold 3\n",
      "func:'fit' -- took: 8.5512 sec\n",
      "\n",
      "*********34/60*********\n",
      "Running model 4 fold 4\n",
      "func:'fit' -- took: 8.5114 sec\n",
      "\n",
      "*********35/60*********\n",
      "Running model 4 fold 5\n",
      "func:'fit' -- took: 8.5520 sec\n",
      "\n",
      "*********36/60*********\n",
      "Running model 4 fold 6\n",
      "func:'fit' -- took: 8.5491 sec\n",
      "\n",
      "*********37/60*********\n",
      "Running model 4 fold 7\n",
      "func:'fit' -- took: 8.7067 sec\n",
      "\n",
      "*********38/60*********\n",
      "Running model 4 fold 8\n",
      "func:'fit' -- took: 8.7181 sec\n",
      "\n",
      "*********39/60*********\n",
      "Running model 4 fold 9\n",
      "func:'fit' -- took: 8.7587 sec\n",
      "\n",
      "*********40/60*********\n",
      "Running model 4 fold 10\n",
      "func:'fit' -- took: 8.7685 sec\n",
      "\n",
      "*********41/60*********\n",
      "Running model 5 fold 1\n",
      "func:'fit' -- took: 5.3007 sec\n",
      "\n",
      "*********42/60*********\n",
      "Running model 5 fold 2\n",
      "func:'fit' -- took: 5.2828 sec\n",
      "\n",
      "*********43/60*********\n",
      "Running model 5 fold 3\n",
      "func:'fit' -- took: 5.4012 sec\n",
      "\n",
      "*********44/60*********\n",
      "Running model 5 fold 4\n",
      "func:'fit' -- took: 5.3454 sec\n",
      "\n",
      "*********45/60*********\n",
      "Running model 5 fold 5\n",
      "func:'fit' -- took: 5.3623 sec\n",
      "\n",
      "*********46/60*********\n",
      "Running model 5 fold 6\n",
      "func:'fit' -- took: 5.3561 sec\n",
      "\n",
      "*********47/60*********\n",
      "Running model 5 fold 7\n",
      "func:'fit' -- took: 5.3390 sec\n",
      "\n",
      "*********48/60*********\n",
      "Running model 5 fold 8\n",
      "func:'fit' -- took: 5.3667 sec\n",
      "\n",
      "*********49/60*********\n",
      "Running model 5 fold 9\n",
      "func:'fit' -- took: 5.3848 sec\n",
      "\n",
      "*********50/60*********\n",
      "Running model 5 fold 10\n",
      "func:'fit' -- took: 5.3494 sec\n",
      "\n",
      "*********51/60*********\n",
      "Running model 6 fold 1\n",
      "func:'fit' -- took: 5.4391 sec\n",
      "\n",
      "*********52/60*********\n",
      "Running model 6 fold 2\n",
      "func:'fit' -- took: 5.4800 sec\n",
      "\n",
      "*********53/60*********\n",
      "Running model 6 fold 3\n",
      "func:'fit' -- took: 5.5698 sec\n",
      "\n",
      "*********54/60*********\n",
      "Running model 6 fold 4\n",
      "func:'fit' -- took: 5.4855 sec\n",
      "\n",
      "*********55/60*********\n",
      "Running model 6 fold 5\n",
      "func:'fit' -- took: 5.4297 sec\n",
      "\n",
      "*********56/60*********\n",
      "Running model 6 fold 6\n",
      "func:'fit' -- took: 5.5332 sec\n",
      "\n",
      "*********57/60*********\n",
      "Running model 6 fold 7\n",
      "func:'fit' -- took: 5.4235 sec\n",
      "\n",
      "*********58/60*********\n",
      "Running model 6 fold 8\n",
      "func:'fit' -- took: 5.3821 sec\n",
      "\n",
      "*********59/60*********\n",
      "Running model 6 fold 9\n",
      "func:'fit' -- took: 5.4160 sec\n",
      "\n",
      "*********60/60*********\n",
      "Running model 6 fold 10\n",
      "func:'fit' -- took: 5.4259 sec\n"
     ]
    }
   ],
   "source": [
    "results_dict_all_models, results_average_dict, models = grid_search(\n",
    "    x,\n",
    "    y,\n",
    "    clf=NeuralNetwork,\n",
    "    lst_metrics=[\"F1\", \"accuracy\"],\n",
    "    sort_by = \"F1\",\n",
    "    n_folds=10,\n",
    "    dict_param_grid={\n",
    "        'batch_size': [64, 128, 256],\n",
    "        'input_layer': [(x.shape[1], 'relu')],\n",
    "        'hidden_layer': [\n",
    "            [(50, 'relu'), (25, 'relu'), (10,'softmax')]\n",
    "        ],\n",
    "        'optimizer':[\n",
    "            {\n",
    "                \"method\": \"RMSP\",\n",
    "                \"beta\": 0.1\n",
    "            }\n",
    "        ],\n",
    "        'output_layer': [10],\n",
    "        'alpha': [0.0001, 0.001],\n",
    "        'verbose': [False],\n",
    "        'epoch': [250]\n",
    "    }\n",
    ")"
   ]
  },
  {
   "cell_type": "code",
   "execution_count": 49,
   "metadata": {
    "scrolled": true
   },
   "outputs": [
    {
     "data": {
      "text/plain": [
       "[('model_3', (('F1', 67.91576050448649), ('accuracy', 91.01999999981797))),\n",
       " ('model_4', (('F1', 65.49994907182848), ('accuracy', 89.85999999982029))),\n",
       " ('model_2', (('F1', 25.59024405272651), ('accuracy', 41.71999999991657))),\n",
       " ('model_1', (('F1', 0.0), ('accuracy', 9.999999999980002)))]"
      ]
     },
     "execution_count": 49,
     "metadata": {},
     "output_type": "execute_result"
    }
   ],
   "source": [
    "results_average_dict"
   ]
  },
  {
   "cell_type": "code",
   "execution_count": 58,
   "metadata": {},
   "outputs": [
    {
     "name": "stdout",
     "output_type": "stream",
     "text": [
      "Input layer: (400, 'relu')\n",
      "Hidden layer: (50, 'relu') - (25, 'relu') - (10, 'softmax')\n",
      "Output layer: 10\n",
      "Batch size: 64\n",
      "Learning rate: 0.001\n",
      "Epoch: 250\n",
      "Seed: 42\n",
      "Verbose: False\n",
      "Metric: accuracy\n"
     ]
    }
   ],
   "source": [
    "print(models[\"model_1\"])"
   ]
  },
  {
   "cell_type": "code",
   "execution_count": 34,
   "metadata": {
    "scrolled": false
   },
   "outputs": [],
   "source": [
    "def display_miss_clasifications(model, digits_to_display):\n",
    "    count = 0\n",
    "    for index, (act, predicted) in enumerate(zip(np.argmax(Y,axis=0), model.predict(X))):\n",
    "        if act != predicted:\n",
    "            fig, ax = plt.subplots(figsize = (2,2))\n",
    "            ax.set_title(\"%s: act %s --- predicted %s\" %(index, act, predicted))\n",
    "            ax.imshow(X[:, index].reshape(-1,20).T)\n",
    "            ax.axis('off');\n",
    "            count += 1\n",
    "        if count == digits_to_display:\n",
    "            break"
   ]
  },
  {
   "cell_type": "code",
   "execution_count": 36,
   "metadata": {},
   "outputs": [
    {
     "name": "stderr",
     "output_type": "stream",
     "text": [
      "/home/cagri/anaconda3/envs/my_env/lib/python3.7/site-packages/ipykernel_launcher.py:5: RuntimeWarning: More than 20 figures have been opened. Figures created through the pyplot interface (`matplotlib.pyplot.figure`) are retained until explicitly closed and may consume too much memory. (To control this warning, see the rcParam `figure.max_open_warning`).\n",
      "  \"\"\"\n"
     ]
    },
    {
     "data": {
      "image/png": "[encoded data removed]",
      "text/plain": [
       "<Figure size 144x144 with 1 Axes>"
      ]
     },
     "metadata": {
      "needs_background": "light"
     },
     "output_type": "display_data"
    },
    {
     "data": {
      "image/png": "[encoded data removed]",
      "text/plain": [
       "<Figure size 144x144 with 1 Axes>"
      ]
     },
     "metadata": {
      "needs_background": "light"
     },
     "output_type": "display_data"
    },
    {
     "data": {
      "image/png": "[encoded data removed]",
      "text/plain": [
       "<Figure size 144x144 with 1 Axes>"
      ]
     },
     "metadata": {
      "needs_background": "light"
     },
     "output_type": "display_data"
    },
    {
     "data": {
      "image/png": "[encoded data removed]",
      "text/plain": [
       "<Figure size 144x144 with 1 Axes>"
      ]
     },
     "metadata": {
      "needs_background": "light"
     },
     "output_type": "display_data"
    },
    {
     "data": {
      "image/png": "[encoded data removed]",
      "text/plain": [
       "<Figure size 144x144 with 1 Axes>"
      ]
     },
     "metadata": {
      "needs_background": "light"
     },
     "output_type": "display_data"
    },
    {
     "data": {
      "image/png": "[encoded data removed]",
      "text/plain": [
       "<Figure size 144x144 with 1 Axes>"
      ]
     },
     "metadata": {
      "needs_background": "light"
     },
     "output_type": "display_data"
    },
    {
     "data": {
      "image/png": "[encoded data removed]",
      "text/plain": [
       "<Figure size 144x144 with 1 Axes>"
      ]
     },
     "metadata": {
      "needs_background": "light"
     },
     "output_type": "display_data"
    },
    {
     "data": {
      "image/png": "[encoded data removed]",
      "text/plain": [
       "<Figure size 144x144 with 1 Axes>"
      ]
     },
     "metadata": {
      "needs_background": "light"
     },
     "output_type": "display_data"
    },
    {
     "data": {
      "image/png": "[encoded data removed]",
      "text/plain": [
       "<Figure size 144x144 with 1 Axes>"
      ]
     },
     "metadata": {
      "needs_background": "light"
     },
     "output_type": "display_data"
    },
    {
     "data": {
      "image/png": "[encoded data removed]",
      "text/plain": [
       "<Figure size 144x144 with 1 Axes>"
      ]
     },
     "metadata": {
      "needs_background": "light"
     },
     "output_type": "display_data"
    },
    {
     "data": {
      "image/png": "[encoded data removed]",
      "text/plain": [
       "<Figure size 144x144 with 1 Axes>"
      ]
     },
     "metadata": {
      "needs_background": "light"
     },
     "output_type": "display_data"
    },
    {
     "data": {
      "image/png": "[encoded data removed]",
      "text/plain": [
       "<Figure size 144x144 with 1 Axes>"
      ]
     },
     "metadata": {
      "needs_background": "light"
     },
     "output_type": "display_data"
    },
    {
     "data": {
      "image/png": "[encoded data removed]",
      "text/plain": [
       "<Figure size 144x144 with 1 Axes>"
      ]
     },
     "metadata": {
      "needs_background": "light"
     },
     "output_type": "display_data"
    },
    {
     "data": {
      "image/png": "[encoded data removed]",
      "text/plain": [
       "<Figure size 144x144 with 1 Axes>"
      ]
     },
     "metadata": {
      "needs_background": "light"
     },
     "output_type": "display_data"
    },
    {
     "data": {
      "image/png": "[encoded data removed]",
      "text/plain": [
       "<Figure size 144x144 with 1 Axes>"
      ]
     },
     "metadata": {
      "needs_background": "light"
     },
     "output_type": "display_data"
    },
    {
     "data": {
      "image/png": "[encoded data removed]",
      "text/plain": [
       "<Figure size 144x144 with 1 Axes>"
      ]
     },
     "metadata": {
      "needs_background": "light"
     },
     "output_type": "display_data"
    },
    {
     "data": {
      "image/png": "[encoded data removed]",
      "text/plain": [
       "<Figure size 144x144 with 1 Axes>"
      ]
     },
     "metadata": {
      "needs_background": "light"
     },
     "output_type": "display_data"
    },
    {
     "data": {
      "image/png": "[encoded data removed]",
      "text/plain": [
       "<Figure size 144x144 with 1 Axes>"
      ]
     },
     "metadata": {
      "needs_background": "light"
     },
     "output_type": "display_data"
    },
    {
     "data": {
      "image/png": "[encoded data removed]",
      "text/plain": [
       "<Figure size 144x144 with 1 Axes>"
      ]
     },
     "metadata": {
      "needs_background": "light"
     },
     "output_type": "display_data"
    },
    {
     "data": {
      "image/png": "[encoded data removed]",
      "text/plain": [
       "<Figure size 144x144 with 1 Axes>"
      ]
     },
     "metadata": {
      "needs_background": "light"
     },
     "output_type": "display_data"
    },
    {
     "data": {
      "image/png": "[encoded data removed]",
      "text/plain": [
       "<Figure size 144x144 with 1 Axes>"
      ]
     },
     "metadata": {
      "needs_background": "light"
     },
     "output_type": "display_data"
    },
    {
     "data": {
      "image/png": "[encoded data removed]",
      "text/plain": [
       "<Figure size 144x144 with 1 Axes>"
      ]
     },
     "metadata": {
      "needs_background": "light"
     },
     "output_type": "display_data"
    },
    {
     "data": {
      "image/png": "[encoded data removed]",
      "text/plain": [
       "<Figure size 144x144 with 1 Axes>"
      ]
     },
     "metadata": {
      "needs_background": "light"
     },
     "output_type": "display_data"
    },
    {
     "data": {
      "image/png": "[encoded data removed]",
      "text/plain": [
       "<Figure size 144x144 with 1 Axes>"
      ]
     },
     "metadata": {
      "needs_background": "light"
     },
     "output_type": "display_data"
    },
    {
     "data": {
      "image/png": "[encoded data removed]",
      "text/plain": [
       "<Figure size 144x144 with 1 Axes>"
      ]
     },
     "metadata": {
      "needs_background": "light"
     },
     "output_type": "display_data"
    },
    {
     "data": {
      "image/png": "[encoded data removed]",
      "text/plain": [
       "<Figure size 144x144 with 1 Axes>"
      ]
     },
     "metadata": {
      "needs_background": "light"
     },
     "output_type": "display_data"
    },
    {
     "data": {
      "image/png": "[encoded data removed]",
      "text/plain": [
       "<Figure size 144x144 with 1 Axes>"
      ]
     },
     "metadata": {
      "needs_background": "light"
     },
     "output_type": "display_data"
    },
    {
     "data": {
      "image/png": "[encoded data removed]",
      "text/plain": [
       "<Figure size 144x144 with 1 Axes>"
      ]
     },
     "metadata": {
      "needs_background": "light"
     },
     "output_type": "display_data"
    },
    {
     "data": {
      "image/png": "[encoded data removed]",
      "text/plain": [
       "<Figure size 144x144 with 1 Axes>"
      ]
     },
     "metadata": {
      "needs_background": "light"
     },
     "output_type": "display_data"
    },
    {
     "data": {
      "image/png": "[encoded data removed]",
      "text/plain": [
       "<Figure size 144x144 with 1 Axes>"
      ]
     },
     "metadata": {
      "needs_background": "light"
     },
     "output_type": "display_data"
    },
    {
     "data": {
      "image/png": "[encoded data removed]",
      "text/plain": [
       "<Figure size 144x144 with 1 Axes>"
      ]
     },
     "metadata": {
      "needs_background": "light"
     },
     "output_type": "display_data"
    },
    {
     "data": {
      "image/png": "[encoded data removed]",
      "text/plain": [
       "<Figure size 144x144 with 1 Axes>"
      ]
     },
     "metadata": {
      "needs_background": "light"
     },
     "output_type": "display_data"
    },
    {
     "data": {
      "image/png": "[encoded data removed]",
      "text/plain": [
       "<Figure size 144x144 with 1 Axes>"
      ]
     },
     "metadata": {
      "needs_background": "light"
     },
     "output_type": "display_data"
    },
    {
     "data": {
      "image/png": "[encoded data removed]",
      "text/plain": [
       "<Figure size 144x144 with 1 Axes>"
      ]
     },
     "metadata": {
      "needs_background": "light"
     },
     "output_type": "display_data"
    },
    {
     "data": {
      "image/png": "[encoded data removed]",
      "text/plain": [
       "<Figure size 144x144 with 1 Axes>"
      ]
     },
     "metadata": {
      "needs_background": "light"
     },
     "output_type": "display_data"
    },
    {
     "data": {
      "image/png": "[encoded data removed]",
      "text/plain": [
       "<Figure size 144x144 with 1 Axes>"
      ]
     },
     "metadata": {
      "needs_background": "light"
     },
     "output_type": "display_data"
    },
    {
     "data": {
      "image/png": "[encoded data removed]",
      "text/plain": [
       "<Figure size 144x144 with 1 Axes>"
      ]
     },
     "metadata": {
      "needs_background": "light"
     },
     "output_type": "display_data"
    },
    {
     "data": {
      "image/png": "[encoded data removed]",
      "text/plain": [
       "<Figure size 144x144 with 1 Axes>"
      ]
     },
     "metadata": {
      "needs_background": "light"
     },
     "output_type": "display_data"
    },
    {
     "data": {
      "image/png": "[encoded data removed]",
      "text/plain": [
       "<Figure size 144x144 with 1 Axes>"
      ]
     },
     "metadata": {
      "needs_background": "light"
     },
     "output_type": "display_data"
    },
    {
     "data": {
      "image/png": "[encoded data removed]",
      "text/plain": [
       "<Figure size 144x144 with 1 Axes>"
      ]
     },
     "metadata": {
      "needs_background": "light"
     },
     "output_type": "display_data"
    },
    {
     "data": {
      "image/png": "[encoded data removed]",
      "text/plain": [
       "<Figure size 144x144 with 1 Axes>"
      ]
     },
     "metadata": {
      "needs_background": "light"
     },
     "output_type": "display_data"
    },
    {
     "data": {
      "image/png": "[encoded data removed]",
      "text/plain": [
       "<Figure size 144x144 with 1 Axes>"
      ]
     },
     "metadata": {
      "needs_background": "light"
     },
     "output_type": "display_data"
    },
    {
     "data": {
      "image/png": "[encoded data removed]",
      "text/plain": [
       "<Figure size 144x144 with 1 Axes>"
      ]
     },
     "metadata": {
      "needs_background": "light"
     },
     "output_type": "display_data"
    },
    {
     "data": {
      "image/png": "[encoded data removed]",
      "text/plain": [
       "<Figure size 144x144 with 1 Axes>"
      ]
     },
     "metadata": {
      "needs_background": "light"
     },
     "output_type": "display_data"
    },
    {
     "data": {
      "image/png": "[encoded data removed]",
      "text/plain": [
       "<Figure size 144x144 with 1 Axes>"
      ]
     },
     "metadata": {
      "needs_background": "light"
     },
     "output_type": "display_data"
    },
    {
     "data": {
      "image/png": "[encoded data removed]",
      "text/plain": [
       "<Figure size 144x144 with 1 Axes>"
      ]
     },
     "metadata": {
      "needs_background": "light"
     },
     "output_type": "display_data"
    },
    {
     "data": {
      "image/png": "[encoded data removed]",
      "text/plain": [
       "<Figure size 144x144 with 1 Axes>"
      ]
     },
     "metadata": {
      "needs_background": "light"
     },
     "output_type": "display_data"
    },
    {
     "data": {
      "image/png": "[encoded data removed]",
      "text/plain": [
       "<Figure size 144x144 with 1 Axes>"
      ]
     },
     "metadata": {
      "needs_background": "light"
     },
     "output_type": "display_data"
    },
    {
     "data": {
      "image/png": "[encoded data removed]",
      "text/plain": [
       "<Figure size 144x144 with 1 Axes>"
      ]
     },
     "metadata": {
      "needs_background": "light"
     },
     "output_type": "display_data"
    },
    {
     "data": {
      "image/png": "[encoded data removed]",
      "text/plain": [
       "<Figure size 144x144 with 1 Axes>"
      ]
     },
     "metadata": {
      "needs_background": "light"
     },
     "output_type": "display_data"
    }
   ],
   "source": [
    "display_miss_clasifications(model, 50)"
   ]
  },
  {
   "cell_type": "code",
   "execution_count": null,
   "metadata": {},
   "outputs": [],
   "source": []
  }
 ],
 "metadata": {
  "kernelspec": {
   "display_name": "Python 3",
   "language": "python",
   "name": "python3"
  },
  "language_info": {
   "codemirror_mode": {
    "name": "ipython",
    "version": 3
   },
   "file_extension": ".py",
   "mimetype": "text/x-python",
   "name": "python",
   "nbconvert_exporter": "python",
   "pygments_lexer": "ipython3",
   "version": "3.7.5"
  }
 },
 "nbformat": 4,
 "nbformat_minor": 2
}

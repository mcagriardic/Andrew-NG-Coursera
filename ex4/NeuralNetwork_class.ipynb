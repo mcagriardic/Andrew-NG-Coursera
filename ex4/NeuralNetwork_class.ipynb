{
 "cells": [
  {
   "cell_type": "code",
   "execution_count": 1,
   "metadata": {
    "collapsed": true
   },
   "outputs": [],
   "source": [
    "import numpy as np\n",
    "import itertools\n",
    "import sys\n",
    "sys.path.append(\"..\")"
   ]
  },
  {
   "cell_type": "code",
   "execution_count": 2,
   "metadata": {
    "collapsed": false,
    "scrolled": true
   },
   "outputs": [],
   "source": [
    "from utility_functions import (calculate_model_performance,\n",
    "                               plot_ROC)"
   ]
  },
  {
   "cell_type": "code",
   "execution_count": 3,
   "metadata": {
    "collapsed": true
   },
   "outputs": [],
   "source": [
    "def get_shapes(any_):\n",
    "    for array in any_:\n",
    "        try:\n",
    "            print(array.shape)\n",
    "        except:\n",
    "            print(\"NONE\")\n",
    "    print(\"\\n\")"
   ]
  },
  {
   "cell_type": "code",
   "execution_count": 4,
   "metadata": {
    "collapsed": true
   },
   "outputs": [],
   "source": [
    "# ============= ACTIVATION FUNCTIONS ===============#\n",
    "\n",
    "def sigmoid(Z, prime=False):\n",
    "    # np.\n",
    "    if prime:\n",
    "        return sigmoid(Z) * (1 - sigmoid(Z))\n",
    "    return 1 / (1 + np.exp(-Z))\n",
    "\n",
    "\n",
    "def linear(Z, prime=False):\n",
    "    if prime:\n",
    "        return np.ones_like(Z)\n",
    "    return Z\n",
    "\n",
    "\n",
    "def relu(Z, alpha=0, prime=False):\n",
    "    if prime:\n",
    "        Z_relu = np.ones_like(Z, dtype=np.float64)\n",
    "        Z_relu[Z < 0] = alpha\n",
    "        return Z_relu\n",
    "    return np.where(Z < 0, alpha * Z, Z)\n",
    "\n",
    "\n",
    "def tanh(Z, prime=False):\n",
    "    # np.tanh() could be used directly to speed this up\n",
    "    if prime:\n",
    "        return 1 - np.power(tanh(Z), 2)\n",
    "    return (2 / (1 + np.exp(-2 * Z))) - 1\n",
    "\n",
    "\n",
    "def elu(Z, prime=False):\n",
    "    # https://mlfromscratch.com/activation-functions-explained/#/\n",
    "    alpha = 0.2\n",
    "    if prime:\n",
    "        return np.where(Z < 0, alpha * (np.exp(Z)), 1)\n",
    "    return np.where(Z < 0, alpha * (np.exp(Z) - 1), Z)\n",
    "\n",
    "\n",
    "def softmax(Z, prime=False):\n",
    "    if prime:\n",
    "        return 1\n",
    "    return np.exp(Z) / np.sum(np.exp(Z),axis=0)"
   ]
  },
  {
   "cell_type": "code",
   "execution_count": 5,
   "metadata": {
    "collapsed": false
   },
   "outputs": [],
   "source": [
    "# ============== LOSS FUNCTIONS ===============#\n",
    "\n",
    "# https://deepnotes.io/softmax-crossentropy\n",
    "EPSILON = 1e-12\n",
    "\n",
    "def calculate_error(Y, Y_hat, loss_function=\"MSE\"):\n",
    "    m = Y.shape[1]\n",
    "    if loss_function == \"MSE\":\n",
    "        return np.sum(0.5 * np.square(Y - Y_hat)) / m\n",
    "    elif loss_function == \"categorical_crossentropy\":\n",
    "        return -np.sum(Y * np.log(Y_hat + EPSILON)) / m"
   ]
  },
  {
   "cell_type": "code",
   "execution_count": 6,
   "metadata": {
    "collapsed": false
   },
   "outputs": [],
   "source": [
    "# References\n",
    "# https://mc.ai/multilayered-neural-network-from-scratch-using-python/\n",
    "# https://mattmazur.com/2015/03/17/a-step-by-step-backpropagation-example/\n",
    "# https://www.coursera.org/learn/machine-learning/home/week/5\n",
    "# https://www.coursera.org/specializations/deep-learning\n",
    "# https://github.com/mnielsen/neural-networks-and-deep-learning/blob/master/src/network.py\n",
    "# https://github.com/JWarmenhoven/Coursera-Machine-Learning\n",
    "\n",
    "class NeuralNetwork:\n",
    "    \n",
    "\n",
    "    def __init__(\n",
    "        self,\n",
    "        input_layer: tuple,\n",
    "        hidden_layer: list, # list of tuples\n",
    "        output_layer: int,\n",
    "        batch_size: int,\n",
    "        loss_function: str,\n",
    "        alpha: float,\n",
    "        epoch: int,\n",
    "        random_state: int\n",
    "    ):\n",
    "        self.input_layer = input_layer\n",
    "        self.hidden_layer = hidden_layer\n",
    "        self.output_layer = output_layer\n",
    "        self.mini_batch_size = batch_size\n",
    "        self.loss_function = loss_function\n",
    "        self.alpha = alpha\n",
    "        self.epoch = epoch\n",
    "        self.seed = random_state\n",
    "        \n",
    "        self.m = X.shape[1] # where (no_of_features, no_of_training_examples)\n",
    "        self.layers = len(self.weight_set_dimensions) + 1\n",
    "    \n",
    "    def get_A(self, X):\n",
    "        A, _ = self.forwardpass(X)\n",
    "        return A\n",
    "    \n",
    "    def get_Z(self, X):\n",
    "        _, Z = self.forwardpass(X)\n",
    "        return Z\n",
    "\n",
    "\n",
    "    def calculate_delta_final(self, Y, Y_hat, Z):\n",
    "        final_act_func = self.activation_functions[-1]\n",
    "        arg_to_pass_to_eval = \"(Z[-1], prime=True)\"\n",
    "        \n",
    "        if self.loss_function == \"MSE\":\n",
    "            dLA = Y_hat - Y\n",
    "        elif self.loss_function == \"categorical_crossentropy\":\n",
    "            dLA = Y_hat - Y\n",
    "            \n",
    "        dLZ = dLA * eval(final_act_func + arg_to_pass_to_eval)\n",
    "        return dLZ\n",
    "\n",
    "\n",
    "    def get_dimensions_and_activations(self):\n",
    "        self.dimensions = []\n",
    "        self.activation_functions = []\n",
    "        \n",
    "        self.dimensions.append(self.input_layer[0])\n",
    "        self.activation_functions.append(self.input_layer[1])\n",
    "\n",
    "        for dim, act_func in self.hidden_layer:\n",
    "            self.dimensions.append(dim)\n",
    "            self.activation_functions.append(act_func)\n",
    "\n",
    "        self.dimensions.append(self.output_layer)\n",
    "\n",
    "        \n",
    "    @property\n",
    "    def weight_set_dimensions(self):\n",
    "        self.get_dimensions_and_activations()\n",
    "        a, b = itertools.tee(self.dimensions[::-1])\n",
    "        next(b, None)\n",
    "        weight_set_dimensions = list(zip(a, b))[::-1]\n",
    "        return weight_set_dimensions\n",
    "\n",
    "\n",
    "    def initialise_weights(self):\n",
    "\n",
    "        self.W = np.empty_like(range(self.layers), dtype=object)\n",
    "        self.B = np.empty_like(range(self.layers), dtype=object)\n",
    "        self.W[0] = None\n",
    "        self.B[0] = None\n",
    "        for layer, (y, x) in zip(range(1, self.layers), self.weight_set_dimensions):\n",
    "            np.random.seed(self.seed)\n",
    "            self.W[layer] = np.random.rand(y, x)\n",
    "            self.B[layer] = np.random.rand(y, 1)\n",
    "\n",
    "\n",
    "    def forwardpass(self, X):\n",
    "        Z = np.empty_like(range(self.layers), dtype=object)\n",
    "        A = np.empty_like(range(self.layers), dtype=object)\n",
    "        A[0] = X\n",
    "        Z[0] = None\n",
    "        for layer in range(1, self.layers):\n",
    "            # activation_function starts from 0 whereas layer starts from 1\n",
    "            active_function = self.activation_functions[layer - 1]\n",
    "            arg_to_pass_to_eval = \"(Z[layer])\"\n",
    "            \n",
    "            Z[layer] = self.W[layer] @ A[layer - 1] + self.B[layer]\n",
    "            A[layer] = eval(active_function + arg_to_pass_to_eval)\n",
    "        return A, Z\n",
    "            \n",
    "\n",
    "\n",
    "    def backpropagation(self, Y, A, Z):\n",
    "        delta_final = self.calculate_delta_final(Y, A[-1], Z)\n",
    "        self.delta = np.empty_like(range(self.layers), dtype=object)\n",
    "        self.delta[0] = None\n",
    "        self.delta[-1] = delta_final\n",
    "\n",
    "        self.gradient_W = np.empty_like(range(self.layers), dtype=object)\n",
    "        self.gradient_B = np.empty_like(range(self.layers), dtype=object)\n",
    "        self.gradient_W[0] = None\n",
    "        self.gradient_B[0] = None\n",
    "        \n",
    "        # We substract 1 here as delta_final is calculated seperately above\n",
    "        for layer in reversed(range(1, self.layers - 1)):\n",
    "            active_function = self.activation_functions[layer - 1]\n",
    "            arg_to_pass_to_eval = \"(Z[layer], prime=True)\"\n",
    "\n",
    "            self.delta[layer] = (\n",
    "                self.W[layer + 1].T @ self.delta[layer + 1] *\n",
    "                eval(active_function + arg_to_pass_to_eval)\n",
    "            ) \n",
    "            # E.g. eval part might correspond to -> sigmoid(self.Z[layer], prime=True)\n",
    "\n",
    "        # calculate the gradient\n",
    "        for layer in range(1, self.layers):\n",
    "            self.gradient_W[layer] = (self.delta[layer] @ A[layer - 1].T) / self.m\n",
    "            self.gradient_B[layer] = np.sum(self.delta[layer], axis=1, keepdims=True) / self.m\n",
    "\n",
    "        #update the weights\n",
    "        for layer in range(1, self.layers):\n",
    "            self.W[layer] -= self.alpha * self.gradient_W[layer]\n",
    "            self.B[layer] -= self.alpha * self.gradient_B[layer]\n",
    "            \n",
    "            \n",
    "    def fit(self, X, Y):\n",
    "        self.initialise_weights()\n",
    "        \n",
    "        # By default the method is SGD(Stochastic Gradient Descent) if one wishes to use\n",
    "        # the whole batch, simply pass the number of traning examples available as the\n",
    "        # batch size when instantiating the class\n",
    "        self.no_of_iterations = 0\n",
    "        shuffled = np.arange(self.m)\n",
    "        print(\"Initialising weights...\")\n",
    "        print(\"Starting the training...\")\n",
    "        print(\"Initial cost: %.10f\\n\" %calculate_error(Y,\n",
    "                                                       self.get_A(X)[-1],\n",
    "                                                       loss_function=self.loss_function))\n",
    "        for epoch_no in range(1, self.epoch + 1):\n",
    "            np.random.shuffle(shuffled)\n",
    "            X_shuffled = X[:, shuffled]\n",
    "            Y_shuffled = Y[:, shuffled]\n",
    "            for i in range(0, self.m, self.mini_batch_size):\n",
    "                self.no_of_iterations += 1\n",
    "                X_mini_batch = X_shuffled[:, i: i + self.mini_batch_size]\n",
    "                Y_mini_batch = Y_shuffled[:, i: i + self.mini_batch_size]\n",
    "                A, Z = self.forwardpass(X_mini_batch)\n",
    "                self.backpropagation(Y_mini_batch, A, Z)\n",
    "                if self.no_of_iterations % 5000 == 0:\n",
    "                    model_performance_metrics = calculate_model_performance(\n",
    "                        np.argmax(Y, axis=0),\n",
    "                        self.predict(X)\n",
    "                    )\n",
    "                    print(\"F1 score: %.10f - epoch %s    iteration %s - loss %.20f\" %(\n",
    "                            model_performance_metrics[\"F1\"],\n",
    "                            epoch_no,\n",
    "                            self.no_of_iterations,\n",
    "                            calculate_error(Y,\n",
    "                                            self.get_A(X)[-1],\n",
    "                                            loss_function=self.loss_function)\n",
    "                        )\n",
    "                    )\n",
    "\n",
    "\n",
    "    def predict(\n",
    "        self,\n",
    "        X: np.ndarray,\n",
    "        return_prob_matrix=False\n",
    "    ):\n",
    "        \"\"\"Predict the output given the training data.\n",
    "\n",
    "            Returns the predicted values in two forms:\n",
    "\n",
    "            1.either by picking up the highest value along the columns for every row,\n",
    "                i.e. \"np.argmax(self.A[-1].T, axis=1)\"\n",
    "            2.or by returning a matrix that is in the shape of Y.T where each column\n",
    "                represents the probability of the instance belonging to that class.\n",
    "                Please note that every column in Y.T represents a class. To be able to\n",
    "                return the probability matrix, the final activation function must be\n",
    "                softmax!\n",
    "                i.e. \"array([0.9650488423, 0.0354737543, 0.0005225966])\"\n",
    "\n",
    "        Args:\n",
    "            X (numpy.ndarray): Training set in the shape of\n",
    "                (no_of_features, no_of_training examples).\n",
    "            return_prob_matrix (bool, optional): Returns the probability matrix if True.\n",
    "                Defaults to False.\n",
    "        \n",
    "        Returns:\n",
    "            numpy.ndarray:\n",
    "            \n",
    "            if return_prob_matrix is False, the output is in the shape of\n",
    "                (no_of_training_examples, 1)\n",
    "            if return_prob_matrix is True, the output is in the shape of\n",
    "                (no_of_training_examples, no_of_features)\n",
    "        \"\"\"\n",
    "        A, Z = self.forwardpass(X)\n",
    "        if return_prob_matrix and self.activation_functions[-1] == \"softmax\":\n",
    "            np.set_printoptions(precision=10, suppress=True)\n",
    "            return A[-1].T\n",
    "        return np.argmax(A[-1].T, axis=1)"
   ]
  },
  {
   "cell_type": "markdown",
   "metadata": {},
   "source": [
    "# Testing with benchmark datasets\n",
    "\n",
    "## 1.Iris Dataset"
   ]
  },
  {
   "cell_type": "code",
   "execution_count": 183,
   "metadata": {
    "collapsed": true
   },
   "outputs": [],
   "source": [
    "from sklearn.datasets import load_iris\n",
    "data = load_iris()\n",
    "X = data.data[:,[0,2]].T\n",
    "y = data.target\n",
    "from sklearn import preprocessing\n",
    "lb = preprocessing.LabelBinarizer()\n",
    "Y = lb.fit_transform(y)\n",
    "Y = Y.T"
   ]
  },
  {
   "cell_type": "code",
   "execution_count": 184,
   "metadata": {
    "collapsed": false
   },
   "outputs": [
    {
     "name": "stdout",
     "output_type": "stream",
     "text": [
      "(2, 150)\n",
      "(3, 150)\n"
     ]
    }
   ],
   "source": [
    "print(X.shape)\n",
    "print(Y.shape)"
   ]
  },
  {
   "cell_type": "code",
   "execution_count": 185,
   "metadata": {
    "collapsed": false,
    "scrolled": true
   },
   "outputs": [
    {
     "name": "stdout",
     "output_type": "stream",
     "text": [
      "Initialising weights...\n",
      "Starting the training...\n",
      "Initial cost: 1.4182103754\n",
      "\n",
      "F1 score: 82.3529411740 - epoch 1667    iteration 5000 - loss 0.28540305056916137616\n",
      "F1 score: 92.6315789449 - epoch 3334    iteration 10000 - loss 0.13024776103867022337\n",
      "F1 score: 90.1098901074 - epoch 5000    iteration 15000 - loss 0.12927495223717880291\n",
      "F1 score: 95.1456310656 - epoch 6667    iteration 20000 - loss 0.10694234779743559682\n",
      "F1 score: 87.6404494357 - epoch 8334    iteration 25000 - loss 0.15792585724228397348\n",
      "F1 score: 95.1456310656 - epoch 10000    iteration 30000 - loss 0.09274828063614207196\n",
      "F1 score: 94.7368421028 - epoch 11667    iteration 35000 - loss 0.09670898057481727705\n",
      "F1 score: 94.1176470565 - epoch 13334    iteration 40000 - loss 0.08077678030071669402\n",
      "F1 score: 94.8453608223 - epoch 15000    iteration 45000 - loss 0.08190194193945267431\n",
      "F1 score: 94.1176470565 - epoch 16667    iteration 50000 - loss 0.07849149228141910628\n",
      "F1 score: 94.9494949471 - epoch 18334    iteration 55000 - loss 0.07537645837978493302\n",
      "F1 score: 94.8453608223 - epoch 20000    iteration 60000 - loss 0.07396081027112444417\n",
      "F1 score: 94.1176470565 - epoch 21667    iteration 65000 - loss 0.07683379437835351211\n",
      "F1 score: 92.4731182771 - epoch 23334    iteration 70000 - loss 0.10374075265261173406\n",
      "F1 score: 94.8453608223 - epoch 25000    iteration 75000 - loss 0.07184001992760777333\n"
     ]
    }
   ],
   "source": [
    "model = NeuralNetwork(\n",
    "    input_layer=(2, \"relu\"),\n",
    "    hidden_layer=[(4, \"sigmoid\"),\n",
    "                  (4, \"softmax\")],\n",
    "    output_layer=3,\n",
    "    batch_size=64,\n",
    "    loss_function=\"categorical_crossentropy\",\n",
    "    alpha=0.5,\n",
    "    epoch=25000,\n",
    "    random_state=42\n",
    ")\n",
    "\n",
    "model.fit(X, Y)"
   ]
  },
  {
   "cell_type": "code",
   "execution_count": 186,
   "metadata": {
    "collapsed": false,
    "scrolled": true
   },
   "outputs": [
    {
     "data": {
      "text/plain": [
       "array([ True,  True,  True,  True,  True,  True,  True,  True,  True,\n",
       "        True,  True,  True,  True,  True,  True,  True,  True,  True,\n",
       "        True,  True,  True,  True,  True,  True,  True,  True,  True,\n",
       "        True,  True,  True,  True,  True,  True,  True,  True,  True,\n",
       "        True,  True,  True,  True,  True,  True,  True,  True,  True,\n",
       "        True,  True,  True,  True,  True,  True,  True,  True,  True,\n",
       "        True,  True,  True,  True,  True,  True,  True,  True,  True,\n",
       "        True,  True,  True,  True,  True,  True,  True, False,  True,\n",
       "       False,  True,  True,  True,  True, False,  True,  True,  True,\n",
       "        True,  True, False,  True,  True,  True,  True,  True,  True,\n",
       "        True,  True,  True,  True,  True,  True,  True,  True,  True,\n",
       "        True,  True,  True,  True,  True,  True,  True,  True,  True,\n",
       "        True,  True,  True,  True,  True,  True,  True,  True,  True,\n",
       "        True,  True,  True,  True,  True,  True,  True,  True,  True,\n",
       "       False,  True,  True,  True,  True,  True,  True,  True,  True,\n",
       "        True,  True,  True,  True,  True,  True,  True,  True,  True,\n",
       "        True,  True,  True,  True,  True,  True])"
      ]
     },
     "execution_count": 186,
     "metadata": {},
     "output_type": "execute_result"
    }
   ],
   "source": [
    "model.predict(X) == np.argmax(Y, axis=0)"
   ]
  },
  {
   "cell_type": "code",
   "execution_count": 187,
   "metadata": {
    "collapsed": false
   },
   "outputs": [],
   "source": [
    "model_performance_metrics = calculate_model_performance(\n",
    "    np.argmax(Y, axis=0),\n",
    "    model.predict(X)\n",
    ")"
   ]
  },
  {
   "cell_type": "code",
   "execution_count": 188,
   "metadata": {
    "collapsed": false,
    "scrolled": true
   },
   "outputs": [
    {
     "data": {
      "text/plain": [
       "{'F1': 94.84536082228719,\n",
       " 'accuracy': 96.66666666602222,\n",
       " 'false_positive_rate': 0.99999999999,\n",
       " 'precision': 97.87234042344953,\n",
       " 'prevalence': 33.33333333311111,\n",
       " 'sensitivity/recall': 91.99999999816,\n",
       " 'specificity': 98.99999999900999}"
      ]
     },
     "execution_count": 188,
     "metadata": {},
     "output_type": "execute_result"
    }
   ],
   "source": [
    "model_performance_metrics"
   ]
  },
  {
   "cell_type": "code",
   "execution_count": 189,
   "metadata": {
    "collapsed": false
   },
   "outputs": [
    {
     "name": "stderr",
     "output_type": "stream",
     "text": [
      "C:\\Anaconda3\\lib\\site-packages\\numpy\\ma\\core.py:6461: MaskedArrayFutureWarning: In the future the default for ma.maximum.reduce will be axis=0, not the current None, to match np.maximum.reduce. Explicitly pass 0 or None to silence this warning.\n",
      "  return self.reduce(a)\n",
      "C:\\Anaconda3\\lib\\site-packages\\numpy\\ma\\core.py:6461: MaskedArrayFutureWarning: In the future the default for ma.minimum.reduce will be axis=0, not the current None, to match np.minimum.reduce. Explicitly pass 0 or None to silence this warning.\n",
      "  return self.reduce(a)\n"
     ]
    },
    {
     "data": {
      "text/plain": [
       "<matplotlib.text.Text at 0x19cf0d10>"
      ]
     },
     "execution_count": 189,
     "metadata": {},
     "output_type": "execute_result"
    },
    {
     "data": {
      "image/png": "[encoded data removed]",
      "text/plain": [
       "<matplotlib.figure.Figure at 0x193201f0>"
      ]
     },
     "metadata": {},
     "output_type": "display_data"
    }
   ],
   "source": [
    "%matplotlib inline\n",
    "import matplotlib.pyplot as plt\n",
    "dt = data.data[:,[0,2]]\n",
    "x_min, x_max = dt[:, 0].min() - 1, dt[:, 0].max() + 1\n",
    "y_min, y_max = dt[:, 1].min() - 1, dt[:, 1].max() + 1\n",
    "xx, yy = np.meshgrid(np.arange(x_min, x_max, 0.1),\n",
    "                     np.arange(y_min, y_max, 0.1))\n",
    "\n",
    "# here \"model\" is your model's prediction (classification) function\n",
    "Z = model.predict(np.c_[xx.ravel(), yy.ravel()].T) \n",
    "\n",
    "# Put the result into a color plot\n",
    "Z = Z.reshape(xx.shape)\n",
    "plt.figure(figsize=(12,8))\n",
    "plt.contourf(xx, yy, Z,alpha=0.4)\n",
    "#plt.axis('off')\n",
    "plt.scatter(dt[:, 0], dt[:, 1], c=y,s=20, edgecolor='k')\n",
    "plt.xlabel('sepal length')\n",
    "plt.ylabel('petal length')"
   ]
  },
  {
   "cell_type": "markdown",
   "metadata": {},
   "source": [
    "## 2.Make Moons dataset"
   ]
  },
  {
   "cell_type": "code",
   "execution_count": 177,
   "metadata": {
    "collapsed": false
   },
   "outputs": [
    {
     "name": "stdout",
     "output_type": "stream",
     "text": [
      "(2, 1500)\n",
      "(2, 1500)\n"
     ]
    }
   ],
   "source": [
    "from sklearn.datasets import make_moons\n",
    "from sklearn import preprocessing\n",
    "\n",
    "x,y =make_moons(n_samples=1500, noise=.05)\n",
    "X = x.T\n",
    "lb = preprocessing.LabelBinarizer()\n",
    "Y = lb.fit_transform(y)\n",
    "y_next = np.where(y==0,1,0)\n",
    "Y = Y.T\n",
    "Y = list(Y)\n",
    "Y.append(y_next)\n",
    "Y = np.array(Y)\n",
    "\n",
    "print(X.shape)\n",
    "print(Y.shape)"
   ]
  },
  {
   "cell_type": "code",
   "execution_count": 178,
   "metadata": {
    "collapsed": false,
    "scrolled": true
   },
   "outputs": [
    {
     "name": "stdout",
     "output_type": "stream",
     "text": [
      "Initialising weights...\n",
      "Starting the training...\n",
      "Initial cost: 2.3780517967\n",
      "\n",
      "F1 score: 66.6666666662 - epoch 209    iteration 5000 - loss 0.69351689477063460654\n",
      "F1 score: 66.6666666662 - epoch 417    iteration 10000 - loss 0.69413687263893186774\n",
      "F1 score: 0.0000000000 - epoch 625    iteration 15000 - loss 0.69315898495189287587\n",
      "F1 score: 66.6666666662 - epoch 834    iteration 20000 - loss 0.69328883543686681268\n",
      "F1 score: 0.0000000000 - epoch 1042    iteration 25000 - loss 0.69326473502744978550\n",
      "F1 score: 0.0000000000 - epoch 1250    iteration 30000 - loss 0.69311552923515284963\n",
      "F1 score: 66.6666666662 - epoch 1459    iteration 35000 - loss 0.69334071925909013245\n",
      "F1 score: 48.8160291434 - epoch 1667    iteration 40000 - loss 0.69304168299615531712\n",
      "F1 score: 0.0000000000 - epoch 1875    iteration 45000 - loss 0.69306329741980077230\n",
      "F1 score: 66.6666666662 - epoch 2084    iteration 50000 - loss 0.69301204487935186282\n",
      "F1 score: 61.7594254932 - epoch 2292    iteration 55000 - loss 0.67648698237245807885\n",
      "F1 score: 89.3899204238 - epoch 2500    iteration 60000 - loss 0.24404033093635613128\n",
      "F1 score: 99.9332888586 - epoch 2709    iteration 65000 - loss 0.01827735904434578049\n",
      "F1 score: 99.9999999994 - epoch 2917    iteration 70000 - loss 0.00254296118710509687\n",
      "F1 score: 99.9999999994 - epoch 3125    iteration 75000 - loss 0.00117602302930207314\n",
      "F1 score: 99.9999999994 - epoch 3334    iteration 80000 - loss 0.00073772005662874366\n",
      "F1 score: 99.9999999994 - epoch 3542    iteration 85000 - loss 0.00052783604265652876\n",
      "F1 score: 99.9999999994 - epoch 3750    iteration 90000 - loss 0.00040646216352554024\n",
      "F1 score: 99.9999999994 - epoch 3959    iteration 95000 - loss 0.00032847114660518269\n",
      "F1 score: 99.9999999994 - epoch 4167    iteration 100000 - loss 0.00027452268873561181\n",
      "F1 score: 99.9999999994 - epoch 4375    iteration 105000 - loss 0.00023448037983216219\n",
      "F1 score: 99.9999999994 - epoch 4584    iteration 110000 - loss 0.00020445669017373595\n",
      "F1 score: 99.9999999994 - epoch 4792    iteration 115000 - loss 0.00018059679837766852\n",
      "F1 score: 99.9999999994 - epoch 5000    iteration 120000 - loss 0.00016151392327649298\n"
     ]
    }
   ],
   "source": [
    "model = NeuralNetwork(\n",
    "    input_layer=(2, \"sigmoid\"),\n",
    "    hidden_layer=[(8, \"tanh\"),\n",
    "                  (6, \"relu\"),\n",
    "                  (4, \"softmax\")],\n",
    "    output_layer=2,\n",
    "    batch_size=64,\n",
    "    loss_function=\"categorical_crossentropy\",\n",
    "    alpha=0.5,\n",
    "    epoch=5000,\n",
    "    random_state=42\n",
    ")\n",
    "\n",
    "\n",
    "model.fit(X, Y)"
   ]
  },
  {
   "cell_type": "code",
   "execution_count": 179,
   "metadata": {
    "collapsed": false,
    "scrolled": false
   },
   "outputs": [
    {
     "name": "stderr",
     "output_type": "stream",
     "text": [
      "C:\\Anaconda3\\lib\\site-packages\\numpy\\ma\\core.py:6461: MaskedArrayFutureWarning: In the future the default for ma.maximum.reduce will be axis=0, not the current None, to match np.maximum.reduce. Explicitly pass 0 or None to silence this warning.\n",
      "  return self.reduce(a)\n",
      "C:\\Anaconda3\\lib\\site-packages\\numpy\\ma\\core.py:6461: MaskedArrayFutureWarning: In the future the default for ma.minimum.reduce will be axis=0, not the current None, to match np.minimum.reduce. Explicitly pass 0 or None to silence this warning.\n",
      "  return self.reduce(a)\n"
     ]
    },
    {
     "data": {
      "text/plain": [
       "<matplotlib.text.Text at 0x19cc0510>"
      ]
     },
     "execution_count": 179,
     "metadata": {},
     "output_type": "execute_result"
    },
    {
     "data": {
      "image/png": "[encoded data removed]",
      "text/plain": [
       "<matplotlib.figure.Figure at 0x193becb0>"
      ]
     },
     "metadata": {},
     "output_type": "display_data"
    }
   ],
   "source": [
    "### Decision Boundaries\n",
    "%matplotlib inline\n",
    "import matplotlib.pyplot as plt\n",
    "dt = x\n",
    "x_min, x_max = dt[:, 0].min() - 0.5, dt[:, 0].max() + 0.5\n",
    "y_min, y_max = dt[:, 1].min() - 0.5, dt[:, 1].max() + 0.5\n",
    "xx, yy = np.meshgrid(np.arange(x_min, x_max, 0.1),\n",
    "                     np.arange(y_min, y_max, 0.1))\n",
    "\n",
    "# here \"model\" is your model's prediction (classification) function\n",
    "Z = model.predict(np.c_[xx.ravel(), yy.ravel()].T) \n",
    "\n",
    "# Put the result into a color plot\n",
    "Z = Z.reshape(xx.shape)\n",
    "plt.figure(figsize=(12,8))\n",
    "plt.contourf(xx, yy, Z,alpha=0.4)\n",
    "#plt.axis('off')\n",
    "plt.scatter(dt[:, 0], dt[:, 1], c=y,s=20, edgecolor='k')\n",
    "plt.title('Decision Boundaries')"
   ]
  },
  {
   "cell_type": "markdown",
   "metadata": {},
   "source": [
    "## 3.Andrew NG Assignment 2 Dataset"
   ]
  },
  {
   "cell_type": "code",
   "execution_count": 165,
   "metadata": {
    "collapsed": false,
    "scrolled": true
   },
   "outputs": [],
   "source": [
    "ex2data2 = np.loadtxt(r\"C:\\Users\\mardic\\Desktop\\HackerRank\\Andrew-NG-Coursera-master\\ex2\\data\\ex2data2.txt\", delimiter=\",\")\n",
    "\n",
    "X = ex2data2[:, :-1]\n",
    "y = ex2data2[:, -1]\n",
    "\n",
    "X = X.T\n",
    "Y = y.T"
   ]
  },
  {
   "cell_type": "code",
   "execution_count": 166,
   "metadata": {
    "collapsed": false,
    "scrolled": true
   },
   "outputs": [],
   "source": [
    "import pandas as pd\n",
    "\n",
    "Y = pd.get_dummies(Y).values.T"
   ]
  },
  {
   "cell_type": "code",
   "execution_count": 167,
   "metadata": {
    "collapsed": false
   },
   "outputs": [
    {
     "name": "stdout",
     "output_type": "stream",
     "text": [
      "(2, 118)\n",
      "(2, 118)\n"
     ]
    }
   ],
   "source": [
    "print(X.shape)\n",
    "print(Y.shape)"
   ]
  },
  {
   "cell_type": "code",
   "execution_count": 168,
   "metadata": {
    "collapsed": false,
    "scrolled": true
   },
   "outputs": [
    {
     "name": "stdout",
     "output_type": "stream",
     "text": [
      "Initialising weights...\n",
      "Starting the training...\n",
      "Initial cost: 0.0068215365\n",
      "\n",
      "F1 score: 0.0000000000 - epoch 2500    iteration 5000 - loss 0.69293762148423299063\n",
      "F1 score: 0.0000000000 - epoch 5000    iteration 10000 - loss 0.69288830299401193979\n",
      "F1 score: 60.2941176457 - epoch 7500    iteration 15000 - loss 0.67469849034282591838\n",
      "F1 score: 77.7777777760 - epoch 10000    iteration 20000 - loss 0.50056434177482256320\n",
      "F1 score: 84.6153846136 - epoch 12500    iteration 25000 - loss 0.40629822332610177060\n",
      "F1 score: 83.9285714266 - epoch 15000    iteration 30000 - loss 0.33077722059935565913\n",
      "F1 score: 89.0756302501 - epoch 17500    iteration 35000 - loss 0.28151136843287699607\n",
      "F1 score: 88.1355932183 - epoch 20000    iteration 40000 - loss 0.28190670579298499066\n",
      "F1 score: 87.6033057832 - epoch 22500    iteration 45000 - loss 0.25219826471242096089\n",
      "F1 score: 90.7563025190 - epoch 25000    iteration 50000 - loss 0.23637554734912211152\n"
     ]
    }
   ],
   "source": [
    "model = NeuralNetwork(\n",
    "    input_layer=(2, \"sigmoid\"),\n",
    "    hidden_layer=[(8, \"tanh\"),\n",
    "                  (6, \"relu\"),\n",
    "                  (4, \"sigmoid\")],\n",
    "    output_layer=2,\n",
    "    batch_size=64,\n",
    "    loss_function=\"categorical_crossentropy\",\n",
    "    alpha=0.8,\n",
    "    epoch=25000,\n",
    "    random_state=42\n",
    ")\n",
    "\n",
    "model.fit(X, Y)"
   ]
  },
  {
   "cell_type": "code",
   "execution_count": 169,
   "metadata": {
    "collapsed": false
   },
   "outputs": [
    {
     "data": {
      "text/plain": [
       "{'F1': 90.75630251898342,\n",
       " 'accuracy': 90.67796610092645,\n",
       " 'false_positive_rate': 11.666666666472223,\n",
       " 'precision': 88.52459016248321,\n",
       " 'prevalence': 49.15254237246481,\n",
       " 'sensitivity/recall': 93.10344827425683,\n",
       " 'specificity': 88.33333333186111}"
      ]
     },
     "execution_count": 169,
     "metadata": {},
     "output_type": "execute_result"
    }
   ],
   "source": [
    "model_performance_metrics = calculate_model_performance(\n",
    "    np.argmax(Y, axis=0),\n",
    "    model.predict(X)\n",
    ")\n",
    "\n",
    "model_performance_metrics"
   ]
  },
  {
   "cell_type": "code",
   "execution_count": 170,
   "metadata": {
    "collapsed": false
   },
   "outputs": [
    {
     "name": "stderr",
     "output_type": "stream",
     "text": [
      "C:\\Anaconda3\\lib\\site-packages\\numpy\\ma\\core.py:6461: MaskedArrayFutureWarning: In the future the default for ma.maximum.reduce will be axis=0, not the current None, to match np.maximum.reduce. Explicitly pass 0 or None to silence this warning.\n",
      "  return self.reduce(a)\n",
      "C:\\Anaconda3\\lib\\site-packages\\numpy\\ma\\core.py:6461: MaskedArrayFutureWarning: In the future the default for ma.minimum.reduce will be axis=0, not the current None, to match np.minimum.reduce. Explicitly pass 0 or None to silence this warning.\n",
      "  return self.reduce(a)\n"
     ]
    },
    {
     "data": {
      "text/plain": [
       "<matplotlib.contour.QuadContourSet at 0x199cde30>"
      ]
     },
     "execution_count": 170,
     "metadata": {},
     "output_type": "execute_result"
    },
    {
     "data": {
      "image/png": "[encoded data removed]",
      "text/plain": [
       "<matplotlib.figure.Figure at 0x193bee30>"
      ]
     },
     "metadata": {},
     "output_type": "display_data"
    }
   ],
   "source": [
    "### Decision Boundaries\n",
    "%matplotlib inline\n",
    "import matplotlib.pyplot as plt\n",
    "X = ex2data2\n",
    "\n",
    "x1_min, x1_max = X[:, 0].min() - 0.3, X[:, 0].max() + 0.3,\n",
    "x2_min, x2_max = X[:, 1].min() - 0.3, X[:, 1].max() + 0.3,\n",
    "xx1, xx2 = np.meshgrid(np.linspace(x1_min, x1_max), np.linspace(x2_min, x2_max))\n",
    "\n",
    "# here \"model\" is your model's prediction (classification) function\n",
    "Z = model.predict(np.c_[xx1.ravel(), xx2.ravel()].T) \n",
    "\n",
    "negatives = ex2data2[ex2data2[:, -1] == 0]\n",
    "positives = ex2data2[ex2data2[:, -1] == 1]\n",
    "\n",
    "# Put the result into a color plot\n",
    "Z = Z.reshape(xx1.shape)\n",
    "plt.figure(figsize=(12,8))\n",
    "plt.contourf(xx1, xx2, Z,alpha=0.4)\n",
    "#plt.axis('off')\n",
    "plt.scatter(negatives[:, 0], negatives[:, 1],s=50, color='k')\n",
    "plt.scatter(positives[:, 0], positives[:, 1],s=50, color='r')\n",
    "plt.title('Decision Boundaries')\n",
    "\n",
    "plt.contour(xx1, xx2, Z, [0.5], linewidths=2, colors=\"g\")"
   ]
  },
  {
   "cell_type": "code",
   "execution_count": null,
   "metadata": {
    "collapsed": true
   },
   "outputs": [],
   "source": [
    "get_shapes(model.gradient_W)"
   ]
  },
  {
   "cell_type": "code",
   "execution_count": null,
   "metadata": {
    "collapsed": true
   },
   "outputs": [],
   "source": []
  },
  {
   "cell_type": "code",
   "execution_count": null,
   "metadata": {
    "collapsed": true
   },
   "outputs": [],
   "source": []
  },
  {
   "cell_type": "code",
   "execution_count": null,
   "metadata": {
    "collapsed": true
   },
   "outputs": [],
   "source": []
  },
  {
   "cell_type": "code",
   "execution_count": null,
   "metadata": {
    "collapsed": true
   },
   "outputs": [],
   "source": []
  },
  {
   "cell_type": "code",
   "execution_count": null,
   "metadata": {
    "collapsed": true
   },
   "outputs": [],
   "source": []
  },
  {
   "cell_type": "code",
   "execution_count": null,
   "metadata": {
    "collapsed": true
   },
   "outputs": [],
   "source": []
  },
  {
   "cell_type": "code",
   "execution_count": null,
   "metadata": {
    "collapsed": true
   },
   "outputs": [],
   "source": []
  },
  {
   "cell_type": "code",
   "execution_count": null,
   "metadata": {
    "collapsed": true
   },
   "outputs": [],
   "source": []
  },
  {
   "cell_type": "code",
   "execution_count": null,
   "metadata": {
    "collapsed": true
   },
   "outputs": [],
   "source": [
    "class NeuralNetwork:\n",
    "    \n",
    "\n",
    "    def __init__(\n",
    "        self,\n",
    "        input_layer: tuple,\n",
    "        hidden_layer: list, # list of tuples\n",
    "        output_layer: int,\n",
    "        alpha: float,\n",
    "        no_of_iterations: int,\n",
    "    ):\n",
    "        self.input_layer = input_layer\n",
    "        self.hidden_layer = hidden_layer\n",
    "        self.output_layer = output_layer\n",
    "        self.alpha = alpha\n",
    "        self.no_of_iterations = no_of_iterations\n",
    "        \n",
    "        self.m = X.shape[1] # where (no_of_features, no_of_training_examples)\n",
    "        self.layers = len(self.weight_set_dimensions)\n",
    "\n",
    "\n",
    "    def calculate_delta_final(self, Y):\n",
    "        final_act_func = self.activation_functions[-1]\n",
    "        arg_to_pass_to_eval = \"(self.Z[-1], prime=True)\"\n",
    "        \n",
    "        return (self.A[-1] - Y) * eval(final_act_func + arg_to_pass_to_eval)\n",
    "\n",
    "\n",
    "    def get_dimensions_and_activations(self):\n",
    "        self.dimensions = []\n",
    "        self.activation_functions = []\n",
    "        \n",
    "        self.dimensions.append(self.input_layer[0])\n",
    "        self.activation_functions.append(self.input_layer[1])\n",
    "\n",
    "        for dim, act_func in self.hidden_layer:\n",
    "            self.dimensions.append(dim)\n",
    "            self.activation_functions.append(act_func)\n",
    "\n",
    "        self.dimensions.append(self.output_layer)\n",
    "\n",
    "        \n",
    "    @property\n",
    "    def weight_set_dimensions(self):\n",
    "        self.get_dimensions_and_activations()\n",
    "        a, b = itertools.tee(self.dimensions[::-1])\n",
    "        next(b, None)\n",
    "        weight_set_dimensions = list(zip(a, b))[::-1]\n",
    "        return weight_set_dimensions\n",
    "\n",
    "\n",
    "    def initialise_weights(self):\n",
    "\n",
    "        self.W = np.empty_like(range(self.layers + 1), dtype=object)\n",
    "        self.B = np.empty_like(range(self.layers + 1), dtype=object)\n",
    "        self.W[0] = None\n",
    "        self.B[0] = None\n",
    "        # self.parameters = {}\n",
    "        for layer, (y, x) in zip(range(self.layers), self.weight_set_dimensions):\n",
    "            np.random.seed(42)\n",
    "            self.W[layer + 1] = np.random.rand(y, x)\n",
    "            self.B[layer + 1] = np.random.rand(y, 1)\n",
    "#             self.parameters[\"W\" + str(layer)] = np.random.rand(row, column)\n",
    "#             self.parameters[\"B\" + str(layer)] = np.random.rand(row, 1)\n",
    "\n",
    "\n",
    "    def forwardpass(self, X):\n",
    "#         self._params = {}\n",
    "#         self._params[\"A0\"] = X\n",
    "        self.Z = np.empty_like(range(self.layers + 1), dtype=object)\n",
    "        self.A = np.empty_like(range(self.layers + 1), dtype=object)\n",
    "        self.A[0] = X\n",
    "        self.Z[0] = None\n",
    "        for layer in range(self.layers):\n",
    "            # activation_function starts from 0 whereas layer starts from 1\n",
    "            active_function = self.activation_functions[layer]\n",
    "            arg_to_pass_to_eval = \"(self.Z[layer + 1])\"\n",
    "\n",
    "            self.Z[layer + 1] = self.W[layer + 1] @ self.A[layer] + self.B[layer + 1]\n",
    "            self.A[layer + 1] = eval(active_function + arg_to_pass_to_eval)\n",
    "\n",
    "#             arg_to_pass_to_eval = \"(self._params['Z' + str(layer)])\"\n",
    "#             self._params[\"Z\" + str(layer)] = (self.parameters[\"W\" + str(layer)] @\n",
    "#                                               self._params[\"A\" + str(layer - 1)] +\n",
    "#                                               self.parameters[\"B\" + str(layer)])\n",
    "#             self._params[\"A\" + str(layer)] = eval(active_function + arg_to_pass_to_eval)\n",
    "\n",
    "    def backpropagation(self, Y, A, Z):\n",
    "        delta_final = self.calculate_delta_final(Y, A, Z)\n",
    "        self.delta = np.empty_like(range(self.layers + 1), dtype=object)\n",
    "        self.delta[0] = None\n",
    "        self.delta[-1] = delta_final\n",
    "\n",
    "        self.gradient_W = np.empty_like(range(self.layers + 1), dtype=object)\n",
    "        self.gradient_B = np.empty_like(range(self.layers + 1), dtype=object)\n",
    "        self.gradient_W[0] = None\n",
    "        self.gradient_B[0] = None\n",
    "\n",
    "        # here Z[index+1] is passed instead of Z[index] this is because Z[0] is none.\n",
    "        # So Z[index+1] is effectively Z[index].\n",
    "\n",
    "        for layer in reversed(range(1, self.layers)):\n",
    "            active_function = self.activation_functions[layer]\n",
    "            arg_to_pass_to_eval = \"(self.Z[layer], prime=True)\"\n",
    "\n",
    "            self.delta[layer] = (\n",
    "                self.W[layer + 1].T @ self.delta[layer + 1] *\n",
    "                eval(active_function + arg_to_pass_to_eval)\n",
    "            )\n",
    "\n",
    "        # calculate the gradient\n",
    "        for layer in range(self.layers):\n",
    "            self.gradient_W[layer + 1] = (self.delta[layer + 1] @ self.A[layer].T) / self.m\n",
    "            self.gradient_B[layer + 1] = np.sum(self.delta[layer + 1], axis=1, keepdims=True) / self.m\n",
    "\n",
    "        #update the weights\n",
    "        for layer in range(self.layers):\n",
    "            self.W[layer+1] -= self.alpha * self.gradient_W[layer+1]\n",
    "            self.B[layer+1] -= self.alpha * self.gradient_B[layer+1]\n",
    "            \n",
    "            \n",
    "    def fit(self, X, Y):\n",
    "        self.initialise_weights()\n",
    "        \n",
    "        for iteration in range(self.no_of_iterations + 1):\n",
    "            self.forwardpass(X)\n",
    "            self.backpropagation(Y)\n",
    "            if iteration % 100 == 0 or iteration == self.no_of_iterations:\n",
    "                print(\"iteration %s - loss %.20f\" %(iteration, calculate_error(Y, self.A[-1])))\n",
    "\n",
    "\n",
    "    def predict(self, X):\n",
    "        self.forwardpass(X)\n",
    "\n",
    "        return np.argmax(self.A[-1].T, axis=1)"
   ]
  },
  {
   "cell_type": "code",
   "execution_count": null,
   "metadata": {
    "collapsed": false
   },
   "outputs": [],
   "source": [
    "list(range(1,35, 16))"
   ]
  },
  {
   "cell_type": "code",
   "execution_count": null,
   "metadata": {
    "collapsed": true
   },
   "outputs": [],
   "source": [
    "import numpy as np"
   ]
  },
  {
   "cell_type": "code",
   "execution_count": null,
   "metadata": {
    "collapsed": false
   },
   "outputs": [],
   "source": [
    "X.shape"
   ]
  },
  {
   "cell_type": "code",
   "execution_count": null,
   "metadata": {
    "collapsed": true
   },
   "outputs": [],
   "source": [
    "y = y.reshape(1, 150)"
   ]
  },
  {
   "cell_type": "code",
   "execution_count": null,
   "metadata": {
    "collapsed": false
   },
   "outputs": [],
   "source": [
    "for epoch_no in range(1, 500):\n",
    "    np.random.shuffle(idx)\n",
    "    X = X[:,idx]\n",
    "    y = y[:,idx]\n",
    "    for i in range(0,150, 16):\n",
    "        X_batch = X[:,i:i + 16]\n",
    "        print(i, X_batch.shape)\n",
    "        y_batch = y[:,i:i + 16]"
   ]
  },
  {
   "cell_type": "code",
   "execution_count": null,
   "metadata": {
    "collapsed": true
   },
   "outputs": [],
   "source": [
    "idx = np.arange(0,X.shape[1])"
   ]
  },
  {
   "cell_type": "code",
   "execution_count": null,
   "metadata": {
    "collapsed": false
   },
   "outputs": [],
   "source": [
    "idx"
   ]
  },
  {
   "cell_type": "code",
   "execution_count": null,
   "metadata": {
    "collapsed": true
   },
   "outputs": [],
   "source": [
    "np.random.shuffle(idx)"
   ]
  },
  {
   "cell_type": "code",
   "execution_count": null,
   "metadata": {
    "collapsed": true
   },
   "outputs": [],
   "source": [
    "X = X[:,idx]"
   ]
  },
  {
   "cell_type": "code",
   "execution_count": null,
   "metadata": {
    "collapsed": false
   },
   "outputs": [],
   "source": [
    "X"
   ]
  },
  {
   "cell_type": "code",
   "execution_count": null,
   "metadata": {
    "collapsed": true
   },
   "outputs": [],
   "source": []
  }
 ],
 "metadata": {
  "kernelspec": {
   "display_name": "Python 3",
   "language": "python",
   "name": "python3"
  },
  "language_info": {
   "codemirror_mode": {
    "name": "ipython",
    "version": 3
   },
   "file_extension": ".py",
   "mimetype": "text/x-python",
   "name": "python",
   "nbconvert_exporter": "python",
   "pygments_lexer": "ipython3",
   "version": "3.5.1"
  }
 },
 "nbformat": 4,
 "nbformat_minor": 2
}

{
 "cells": [
  {
   "cell_type": "code",
   "execution_count": 24,
   "metadata": {},
   "outputs": [],
   "source": [
    "import numpy as np\n",
    "import itertools"
   ]
  },
  {
   "cell_type": "code",
   "execution_count": 25,
   "metadata": {},
   "outputs": [],
   "source": [
    "def get_shapes(any_):\n",
    "    for array in any_:\n",
    "        try:\n",
    "            print(array.shape)\n",
    "        except:\n",
    "            print(\"NONE\")\n",
    "    print(\"\\n\")"
   ]
  },
  {
   "cell_type": "code",
   "execution_count": 26,
   "metadata": {},
   "outputs": [],
   "source": [
    "# ============= ACTIVATION FUNCTIONS ===============#\n",
    "\n",
    "def sigmoid(Z, prime=False):\n",
    "    # np.\n",
    "    if prime:\n",
    "        return sigmoid(Z) * (1 - sigmoid(Z))\n",
    "    return 1 / (1 + np.exp(-Z))\n",
    "\n",
    "\n",
    "def linear(Z, prime=False):\n",
    "    if prime:\n",
    "        return np.ones_like(Z)\n",
    "    return Z\n",
    "\n",
    "\n",
    "def relu(Z, alpha=0, prime=False):\n",
    "    if prime:\n",
    "        Z_relu = np.ones_like(Z, dtype=np.float64)\n",
    "        Z_relu[Z < 0] = alpha\n",
    "        return Z_relu\n",
    "    return np.where(Z < 0, alpha * Z, Z)\n",
    "\n",
    "\n",
    "def tanh(Z, prime=False):\n",
    "    # np.tanh() could be used directly to speed this up\n",
    "    if prime:\n",
    "        return 1 - np.power(tanh(Z), 2)\n",
    "    return (2 / (1 + np.exp(-2 * Z))) - 1\n",
    "\n",
    "\n",
    "def elu(Z, prime=False):\n",
    "    # https://mlfromscratch.com/activation-functions-explained/#/\n",
    "    alpha = 0.2\n",
    "    if prime:\n",
    "        return np.where(Z < 0, alpha * (np.exp(Z)),1)\n",
    "    return np.where(Z < 0, alpha * (np.exp(Z) - 1), Z)\n",
    "\n",
    "\n",
    "def softmax(Z, prime=False):\n",
    "    if prime:\n",
    "        return 1\n",
    "    return np.exp(Z) / np.sum(np.exp(Z),axis=0)"
   ]
  },
  {
   "cell_type": "code",
   "execution_count": 27,
   "metadata": {},
   "outputs": [],
   "source": [
    "# ============== LOSS FUNCTIONS ===============#\n",
    "\n",
    "def calculate_error(Y, Y_hat):\n",
    "    m = Y.shape[1]\n",
    "    return np.sum(0.5 * np.square(Y - Y_hat)) / m"
   ]
  },
  {
   "cell_type": "code",
   "execution_count": 28,
   "metadata": {},
   "outputs": [],
   "source": [
    "class NeuralNetwork:\n",
    "    \n",
    "\n",
    "    def __init__(\n",
    "        self,\n",
    "        input_layer: tuple,\n",
    "        hidden_layer: list, # list of tuples\n",
    "        output_layer: int,\n",
    "        alpha: float,\n",
    "        no_of_iterations: int,\n",
    "    ):\n",
    "        self.input_layer = input_layer\n",
    "        self.hidden_layer = hidden_layer\n",
    "        self.output_layer = output_layer\n",
    "        self.alpha = alpha\n",
    "        self.no_of_iterations = no_of_iterations\n",
    "        \n",
    "        self.m = X.shape[1] # where (no_of_features, no_of_training_examples)\n",
    "        self.layers = len(self.weight_set_dimensions) + 1\n",
    "\n",
    "\n",
    "    def calculate_delta_final(self, Y):\n",
    "        final_act_func = self.activation_functions[-1]\n",
    "        arg_to_pass_to_eval = \"(self.Z[-1], prime=True)\"\n",
    "        \n",
    "        return (self.A[-1] - Y) * eval(final_act_func + arg_to_pass_to_eval)\n",
    "\n",
    "\n",
    "    def get_dimensions_and_activations(self):\n",
    "        self.dimensions = []\n",
    "        self.activation_functions = []\n",
    "        \n",
    "        self.dimensions.append(self.input_layer[0])\n",
    "        self.activation_functions.append(self.input_layer[1])\n",
    "\n",
    "        for dim, act_func in self.hidden_layer:\n",
    "            self.dimensions.append(dim)\n",
    "            self.activation_functions.append(act_func)\n",
    "\n",
    "        self.dimensions.append(self.output_layer)\n",
    "\n",
    "        \n",
    "    @property\n",
    "    def weight_set_dimensions(self):\n",
    "        self.get_dimensions_and_activations()\n",
    "        a, b = itertools.tee(self.dimensions[::-1])\n",
    "        next(b, None)\n",
    "        weight_set_dimensions = list(zip(a, b))[::-1]\n",
    "        return weight_set_dimensions\n",
    "\n",
    "\n",
    "    def initialise_weights(self):\n",
    "\n",
    "        self.W = np.empty_like(range(self.layers), dtype=object)\n",
    "        self.B = np.empty_like(range(self.layers), dtype=object)\n",
    "        self.W[0] = None\n",
    "        self.B[0] = None\n",
    "        for layer, (y, x) in zip(range(1, self.layers), self.weight_set_dimensions):\n",
    "            np.random.seed(42)\n",
    "            self.W[layer] = np.random.rand(y, x)\n",
    "            self.B[layer] = np.random.rand(y, 1)\n",
    "\n",
    "\n",
    "    def forwardpass(self, X):\n",
    "        self.Z = np.empty_like(range(self.layers), dtype=object)\n",
    "        self.A = np.empty_like(range(self.layers), dtype=object)\n",
    "        self.A[0] = X\n",
    "        self.Z[0] = None\n",
    "        for layer in range(1, self.layers):\n",
    "            # activation_function starts from 0 whereas layer starts from 1\n",
    "            active_function = self.activation_functions[layer - 1]\n",
    "            arg_to_pass_to_eval = \"(self.Z[layer])\"\n",
    "\n",
    "            self.Z[layer] = self.W[layer] @ self.A[layer - 1] + self.B[layer]\n",
    "            self.A[layer] = eval(active_function + arg_to_pass_to_eval)\n",
    "\n",
    "\n",
    "    def backpropagation(self, Y):\n",
    "        delta_final = self.calculate_delta_final(Y)\n",
    "        self.delta = np.empty_like(range(self.layers), dtype=object)\n",
    "        self.delta[0] = None\n",
    "        self.delta[-1] = delta_final\n",
    "\n",
    "        self.gradient_W = np.empty_like(range(self.layers), dtype=object)\n",
    "        self.gradient_B = np.empty_like(range(self.layers), dtype=object)\n",
    "        self.gradient_W[0] = None\n",
    "        self.gradient_B[0] = None\n",
    "\n",
    "        for layer in reversed(range(1, self.layers - 1)):\n",
    "            active_function = self.activation_functions[layer - 1]\n",
    "            arg_to_pass_to_eval = \"(self.Z[layer], prime=True)\"\n",
    "\n",
    "            self.delta[layer] = (\n",
    "                self.W[layer + 1].T @ self.delta[layer + 1] *\n",
    "                eval(active_function + arg_to_pass_to_eval)\n",
    "            )\n",
    "\n",
    "        # calculate the gradient\n",
    "        for layer in range(1, self.layers):\n",
    "            self.gradient_W[layer] = (self.delta[layer] @ self.A[layer - 1].T) / self.m\n",
    "            self.gradient_B[layer] = np.sum(self.delta[layer], axis=1, keepdims=True) / self.m\n",
    "\n",
    "        #update the weights\n",
    "        for layer in range(1, self.layers):\n",
    "            self.W[layer] -= self.alpha * self.gradient_W[layer]\n",
    "            self.B[layer] -= self.alpha * self.gradient_B[layer]\n",
    "            \n",
    "            \n",
    "    def fit(self, X, Y):\n",
    "        self.initialise_weights()\n",
    "        \n",
    "        for iteration in range(self.no_of_iterations + 1):\n",
    "            self.forwardpass(X)\n",
    "            self.backpropagation(Y)\n",
    "            if iteration % 2500 == 0 or iteration == self.no_of_iterations:\n",
    "                print(\"iteration %s - loss %.20f\" %(iteration, calculate_error(Y, self.A[-1])))\n",
    "\n",
    "\n",
    "    def predict(self, X):\n",
    "        self.forwardpass(X)\n",
    "\n",
    "        return np.argmax(self.A[-1].T, axis=1)"
   ]
  },
  {
   "cell_type": "markdown",
   "metadata": {},
   "source": [
    "# Testing with benchmark datasets\n",
    "\n",
    "## 1.Iris Dataset"
   ]
  },
  {
   "cell_type": "code",
   "execution_count": 29,
   "metadata": {},
   "outputs": [],
   "source": [
    "from sklearn.datasets import load_iris\n",
    "data = load_iris()\n",
    "X = data.data[:,[0,2]].T\n",
    "y = data.target\n",
    "from sklearn import preprocessing\n",
    "lb = preprocessing.LabelBinarizer()\n",
    "Y = lb.fit_transform(y)\n",
    "Y = Y.T"
   ]
  },
  {
   "cell_type": "code",
   "execution_count": 30,
   "metadata": {},
   "outputs": [
    {
     "name": "stdout",
     "output_type": "stream",
     "text": [
      "(2, 150)\n",
      "(3, 150)\n"
     ]
    }
   ],
   "source": [
    "print(X.shape)\n",
    "print(Y.shape)"
   ]
  },
  {
   "cell_type": "code",
   "execution_count": 31,
   "metadata": {},
   "outputs": [
    {
     "name": "stdout",
     "output_type": "stream",
     "text": [
      "iteration 0 - loss 0.80979002278777878487\n",
      "iteration 2500 - loss 0.08816636359016394309\n",
      "iteration 5000 - loss 0.04356015625945291320\n",
      "iteration 7500 - loss 0.03698751008325242701\n",
      "iteration 10000 - loss 0.03308404375703835609\n",
      "iteration 12500 - loss 0.03033478496367681895\n",
      "iteration 15000 - loss 0.02847446644926057702\n",
      "iteration 17500 - loss 0.02713506465314544785\n",
      "iteration 20000 - loss 0.02601663872475201006\n",
      "iteration 22500 - loss 0.02494099707464956725\n",
      "iteration 25000 - loss 0.02380453097394542861\n",
      "iteration 27500 - loss 0.02272758293875847338\n",
      "iteration 30000 - loss 0.02208281392375817387\n",
      "iteration 32500 - loss 0.02176231167910705477\n",
      "iteration 35000 - loss 0.02158603327173432701\n",
      "iteration 37500 - loss 0.02147874450256704801\n",
      "iteration 40000 - loss 0.02140990455875154894\n",
      "iteration 42500 - loss 0.02136649287014619897\n",
      "iteration 45000 - loss 0.02134155263245147288\n",
      "iteration 47500 - loss 0.02132686702599334919\n",
      "iteration 50000 - loss 0.02131599539225671400\n"
     ]
    }
   ],
   "source": [
    "self = NeuralNetwork(\n",
    "    input_layer=(2, \"sigmoid\"),\n",
    "    hidden_layer=[(6, \"sigmoid\"),(4, \"sigmoid\")],\n",
    "    output_layer=3,\n",
    "    alpha=0.5,\n",
    "    no_of_iterations=50000\n",
    ")\n",
    "\n",
    "self.fit(X, Y)"
   ]
  },
  {
   "cell_type": "code",
   "execution_count": 32,
   "metadata": {},
   "outputs": [
    {
     "data": {
      "text/plain": [
       "array([0, 0, 0, 0, 0, 0, 0, 0, 0, 0, 0, 0, 0, 0, 0, 0, 0, 0, 0, 0, 0, 0,\n",
       "       0, 0, 0, 0, 0, 0, 0, 0, 0, 0, 0, 0, 0, 0, 0, 0, 0, 0, 0, 0, 0, 0,\n",
       "       0, 0, 0, 0, 0, 0, 1, 1, 1, 1, 1, 1, 1, 1, 1, 1, 1, 1, 1, 1, 1, 1,\n",
       "       1, 1, 1, 1, 2, 1, 2, 1, 1, 1, 1, 1, 1, 1, 1, 1, 1, 2, 1, 1, 1, 1,\n",
       "       1, 1, 1, 1, 1, 1, 1, 1, 1, 1, 1, 1, 2, 2, 2, 2, 2, 2, 2, 2, 2, 2,\n",
       "       2, 2, 2, 2, 2, 2, 2, 2, 2, 2, 2, 2, 2, 2, 2, 2, 1, 2, 2, 2, 2, 2,\n",
       "       2, 2, 2, 2, 2, 2, 2, 2, 2, 2, 2, 2, 2, 2, 2, 2, 2, 2])"
      ]
     },
     "execution_count": 32,
     "metadata": {},
     "output_type": "execute_result"
    }
   ],
   "source": [
    "self.predict(X)"
   ]
  },
  {
   "cell_type": "code",
   "execution_count": 33,
   "metadata": {},
   "outputs": [
    {
     "data": {
      "text/plain": [
       "array([0, 0, 0, 0, 0, 0, 0, 0, 0, 0, 0, 0, 0, 0, 0, 0, 0, 0, 0, 0, 0, 0,\n",
       "       0, 0, 0, 0, 0, 0, 0, 0, 0, 0, 0, 0, 0, 0, 0, 0, 0, 0, 0, 0, 0, 0,\n",
       "       0, 0, 0, 0, 0, 0, 1, 1, 1, 1, 1, 1, 1, 1, 1, 1, 1, 1, 1, 1, 1, 1,\n",
       "       1, 1, 1, 1, 1, 1, 1, 1, 1, 1, 1, 1, 1, 1, 1, 1, 1, 1, 1, 1, 1, 1,\n",
       "       1, 1, 1, 1, 1, 1, 1, 1, 1, 1, 1, 1, 2, 2, 2, 2, 2, 2, 2, 2, 2, 2,\n",
       "       2, 2, 2, 2, 2, 2, 2, 2, 2, 2, 2, 2, 2, 2, 2, 2, 2, 2, 2, 2, 2, 2,\n",
       "       2, 2, 2, 2, 2, 2, 2, 2, 2, 2, 2, 2, 2, 2, 2, 2, 2, 2])"
      ]
     },
     "execution_count": 33,
     "metadata": {},
     "output_type": "execute_result"
    }
   ],
   "source": [
    "np.argmax(Y, axis=0)"
   ]
  },
  {
   "cell_type": "code",
   "execution_count": 34,
   "metadata": {},
   "outputs": [
    {
     "data": {
      "text/plain": [
       "array([ True,  True,  True,  True,  True,  True,  True,  True,  True,\n",
       "        True,  True,  True,  True,  True,  True,  True,  True,  True,\n",
       "        True,  True,  True,  True,  True,  True,  True,  True,  True,\n",
       "        True,  True,  True,  True,  True,  True,  True,  True,  True,\n",
       "        True,  True,  True,  True,  True,  True,  True,  True,  True,\n",
       "        True,  True,  True,  True,  True,  True,  True,  True,  True,\n",
       "        True,  True,  True,  True,  True,  True,  True,  True,  True,\n",
       "        True,  True,  True,  True,  True,  True,  True, False,  True,\n",
       "       False,  True,  True,  True,  True,  True,  True,  True,  True,\n",
       "        True,  True, False,  True,  True,  True,  True,  True,  True,\n",
       "        True,  True,  True,  True,  True,  True,  True,  True,  True,\n",
       "        True,  True,  True,  True,  True,  True,  True,  True,  True,\n",
       "        True,  True,  True,  True,  True,  True,  True,  True,  True,\n",
       "        True,  True,  True,  True,  True,  True,  True,  True,  True,\n",
       "       False,  True,  True,  True,  True,  True,  True,  True,  True,\n",
       "        True,  True,  True,  True,  True,  True,  True,  True,  True,\n",
       "        True,  True,  True,  True,  True,  True])"
      ]
     },
     "execution_count": 34,
     "metadata": {},
     "output_type": "execute_result"
    }
   ],
   "source": [
    "self.predict(X) == np.argmax(Y, axis=0)"
   ]
  },
  {
   "cell_type": "code",
   "execution_count": 35,
   "metadata": {},
   "outputs": [
    {
     "data": {
      "text/plain": [
       "Text(0, 0.5, 'petal length')"
      ]
     },
     "execution_count": 35,
     "metadata": {},
     "output_type": "execute_result"
    },
    {
     "data": {
      "image/png": "[encoded data removed]",
      "text/plain": [
       "<Figure size 864x576 with 1 Axes>"
      ]
     },
     "metadata": {
      "needs_background": "light"
     },
     "output_type": "display_data"
    }
   ],
   "source": [
    "%matplotlib inline\n",
    "import matplotlib.pyplot as plt\n",
    "dt = data.data[:,[0,2]]\n",
    "x_min, x_max = dt[:, 0].min() - 1, dt[:, 0].max() + 1\n",
    "y_min, y_max = dt[:, 1].min() - 1, dt[:, 1].max() + 1\n",
    "xx, yy = np.meshgrid(np.arange(x_min, x_max, 0.1),\n",
    "                     np.arange(y_min, y_max, 0.1))\n",
    "\n",
    "# here \"model\" is your model's prediction (classification) function\n",
    "Z = self.predict(np.c_[xx.ravel(), yy.ravel()].T) \n",
    "\n",
    "# Put the result into a color plot\n",
    "Z = Z.reshape(xx.shape)\n",
    "plt.figure(figsize=(12,8))\n",
    "plt.contourf(xx, yy, Z,alpha=0.4)\n",
    "#plt.axis('off')\n",
    "plt.scatter(dt[:, 0], dt[:, 1], c=y,s=20, edgecolor='k')\n",
    "plt.xlabel('sepal length')\n",
    "plt.ylabel('petal length')"
   ]
  },
  {
   "cell_type": "markdown",
   "metadata": {},
   "source": [
    "## 2.Make Moons dataset"
   ]
  },
  {
   "cell_type": "code",
   "execution_count": 36,
   "metadata": {},
   "outputs": [
    {
     "name": "stdout",
     "output_type": "stream",
     "text": [
      "(2, 1500)\n",
      "(2, 1500)\n"
     ]
    }
   ],
   "source": [
    "from sklearn.datasets import make_moons\n",
    "\n",
    "x,y =make_moons(n_samples=1500, noise=.05)\n",
    "X = x.T\n",
    "lb = preprocessing.LabelBinarizer()\n",
    "Y = lb.fit_transform(y)\n",
    "y_next = np.where(y==0,1,0)\n",
    "Y = Y.T\n",
    "Y = list(Y)\n",
    "Y.append(y_next)\n",
    "Y = np.array(Y)\n",
    "\n",
    "print(X.shape)\n",
    "print(Y.shape)"
   ]
  },
  {
   "cell_type": "code",
   "execution_count": 49,
   "metadata": {},
   "outputs": [
    {
     "name": "stdout",
     "output_type": "stream",
     "text": [
      "iteration 0 - loss 0.47254906865031398588\n",
      "iteration 2500 - loss 0.06584400837139302298\n",
      "iteration 5000 - loss 0.06563012412767377235\n",
      "iteration 7500 - loss 0.06553069947283134133\n",
      "iteration 10000 - loss 0.06547108000098098013\n",
      "iteration 12500 - loss 0.06543690024942447336\n",
      "iteration 15000 - loss 0.06541009877625168778\n",
      "iteration 17500 - loss 0.06539146336666648573\n",
      "iteration 20000 - loss 0.06537534006661877006\n",
      "iteration 22500 - loss 0.06536170332183445508\n",
      "iteration 25000 - loss 0.06535022661971545688\n",
      "iteration 27500 - loss 0.06534171020783317851\n",
      "iteration 30000 - loss 0.06533441470168728504\n",
      "iteration 32500 - loss 0.06532848507602957711\n",
      "iteration 35000 - loss 0.06532320751470421794\n",
      "iteration 37500 - loss 0.06531846967075555233\n",
      "iteration 40000 - loss 0.06531377840091923126\n",
      "iteration 42500 - loss 0.06530978585765072342\n",
      "iteration 45000 - loss 0.06530629760101665238\n",
      "iteration 47500 - loss 0.06530305908244327107\n",
      "iteration 50000 - loss 0.06530038494924619852\n"
     ]
    }
   ],
   "source": [
    "model = NeuralNetwork(\n",
    "    input_layer=(2, \"elu\"),\n",
    "    hidden_layer=[(6, \"elu\"),(4, \"sigmoid\")],\n",
    "    output_layer=2,\n",
    "    alpha=0.5,\n",
    "    no_of_iterations=50000\n",
    ")\n",
    "\n",
    "model.fit(X, Y)"
   ]
  },
  {
   "cell_type": "code",
   "execution_count": 50,
   "metadata": {},
   "outputs": [
    {
     "data": {
      "text/plain": [
       "array([False, False,  True, ...,  True,  True,  True])"
      ]
     },
     "execution_count": 50,
     "metadata": {},
     "output_type": "execute_result"
    }
   ],
   "source": [
    "self.predict(X) == np.argmax(Y, axis=0)"
   ]
  },
  {
   "cell_type": "code",
   "execution_count": 51,
   "metadata": {},
   "outputs": [
    {
     "data": {
      "text/plain": [
       "array([1, 0, 0, ..., 1, 0, 1])"
      ]
     },
     "execution_count": 51,
     "metadata": {},
     "output_type": "execute_result"
    }
   ],
   "source": [
    "self.predict(X)"
   ]
  },
  {
   "cell_type": "code",
   "execution_count": 52,
   "metadata": {},
   "outputs": [
    {
     "data": {
      "text/plain": [
       "array([0, 1, 0, ..., 1, 0, 1])"
      ]
     },
     "execution_count": 52,
     "metadata": {},
     "output_type": "execute_result"
    }
   ],
   "source": [
    "np.argmax(Y, axis=0)"
   ]
  },
  {
   "cell_type": "code",
   "execution_count": 53,
   "metadata": {},
   "outputs": [
    {
     "data": {
      "text/plain": [
       "Text(0.5, 1.0, 'Decision Boundaries')"
      ]
     },
     "execution_count": 53,
     "metadata": {},
     "output_type": "execute_result"
    },
    {
     "data": {
      "image/png": "[encoded data removed]",
      "text/plain": [
       "<Figure size 864x576 with 1 Axes>"
      ]
     },
     "metadata": {
      "needs_background": "light"
     },
     "output_type": "display_data"
    }
   ],
   "source": [
    "### Decision Boundaries\n",
    "%matplotlib inline\n",
    "import matplotlib.pyplot as plt\n",
    "dt = x\n",
    "x_min, x_max = dt[:, 0].min() - 1, dt[:, 0].max() + 1\n",
    "y_min, y_max = dt[:, 1].min() - 1, dt[:, 1].max() + 1\n",
    "xx, yy = np.meshgrid(np.arange(x_min, x_max, 0.1),\n",
    "                     np.arange(y_min, y_max, 0.1))\n",
    "\n",
    "# here \"model\" is your model's prediction (classification) function\n",
    "Z = model.predict(np.c_[xx.ravel(), yy.ravel()].T) \n",
    "\n",
    "# Put the result into a color plot\n",
    "Z = Z.reshape(xx.shape)\n",
    "plt.figure(figsize=(12,8))\n",
    "plt.contourf(xx, yy, Z,alpha=0.4)\n",
    "#plt.axis('off')\n",
    "plt.scatter(dt[:, 0], dt[:, 1], c=y,s=20, edgecolor='k')\n",
    "plt.title('Decision Boundaries')"
   ]
  },
  {
   "cell_type": "code",
   "execution_count": null,
   "metadata": {},
   "outputs": [],
   "source": []
  },
  {
   "cell_type": "code",
   "execution_count": null,
   "metadata": {},
   "outputs": [],
   "source": []
  },
  {
   "cell_type": "code",
   "execution_count": null,
   "metadata": {},
   "outputs": [],
   "source": []
  },
  {
   "cell_type": "code",
   "execution_count": null,
   "metadata": {},
   "outputs": [],
   "source": []
  },
  {
   "cell_type": "code",
   "execution_count": null,
   "metadata": {},
   "outputs": [],
   "source": []
  },
  {
   "cell_type": "code",
   "execution_count": null,
   "metadata": {},
   "outputs": [],
   "source": []
  },
  {
   "cell_type": "code",
   "execution_count": null,
   "metadata": {},
   "outputs": [],
   "source": []
  },
  {
   "cell_type": "code",
   "execution_count": null,
   "metadata": {},
   "outputs": [],
   "source": []
  },
  {
   "cell_type": "code",
   "execution_count": null,
   "metadata": {},
   "outputs": [],
   "source": []
  },
  {
   "cell_type": "code",
   "execution_count": null,
   "metadata": {},
   "outputs": [],
   "source": []
  },
  {
   "cell_type": "code",
   "execution_count": null,
   "metadata": {},
   "outputs": [],
   "source": []
  },
  {
   "cell_type": "code",
   "execution_count": null,
   "metadata": {},
   "outputs": [],
   "source": []
  },
  {
   "cell_type": "code",
   "execution_count": null,
   "metadata": {},
   "outputs": [],
   "source": []
  },
  {
   "cell_type": "code",
   "execution_count": null,
   "metadata": {},
   "outputs": [],
   "source": []
  },
  {
   "cell_type": "code",
   "execution_count": null,
   "metadata": {},
   "outputs": [],
   "source": []
  },
  {
   "cell_type": "code",
   "execution_count": null,
   "metadata": {},
   "outputs": [],
   "source": []
  },
  {
   "cell_type": "code",
   "execution_count": null,
   "metadata": {},
   "outputs": [],
   "source": []
  },
  {
   "cell_type": "code",
   "execution_count": null,
   "metadata": {},
   "outputs": [],
   "source": []
  },
  {
   "cell_type": "code",
   "execution_count": 12,
   "metadata": {},
   "outputs": [],
   "source": [
    "class NeuralNetwork:\n",
    "    \n",
    "\n",
    "    def __init__(\n",
    "        self,\n",
    "        input_layer: tuple,\n",
    "        hidden_layer: list, # list of tuples\n",
    "        output_layer: int,\n",
    "        alpha: float,\n",
    "        no_of_iterations: int,\n",
    "    ):\n",
    "        self.input_layer = input_layer\n",
    "        self.hidden_layer = hidden_layer\n",
    "        self.output_layer = output_layer\n",
    "        self.alpha = alpha\n",
    "        self.no_of_iterations = no_of_iterations\n",
    "        \n",
    "        self.m = X.shape[1] # where (no_of_features, no_of_training_examples)\n",
    "        self.layers = len(self.weight_set_dimensions)\n",
    "\n",
    "\n",
    "    def calculate_delta_final(self, Y):\n",
    "        final_act_func = self.activation_functions[-1]\n",
    "        arg_to_pass_to_eval = \"(self.Z[-1], prime=True)\"\n",
    "        \n",
    "        return (self.A[-1] - Y) * eval(final_act_func + arg_to_pass_to_eval)\n",
    "\n",
    "\n",
    "    def get_dimensions_and_activations(self):\n",
    "        self.dimensions = []\n",
    "        self.activation_functions = []\n",
    "        \n",
    "        self.dimensions.append(self.input_layer[0])\n",
    "        self.activation_functions.append(self.input_layer[1])\n",
    "\n",
    "        for dim, act_func in self.hidden_layer:\n",
    "            self.dimensions.append(dim)\n",
    "            self.activation_functions.append(act_func)\n",
    "\n",
    "        self.dimensions.append(self.output_layer)\n",
    "\n",
    "        \n",
    "    @property\n",
    "    def weight_set_dimensions(self):\n",
    "        self.get_dimensions_and_activations()\n",
    "        a, b = itertools.tee(self.dimensions[::-1])\n",
    "        next(b, None)\n",
    "        weight_set_dimensions = list(zip(a, b))[::-1]\n",
    "        return weight_set_dimensions\n",
    "\n",
    "\n",
    "    def initialise_weights(self):\n",
    "\n",
    "        self.W = np.empty_like(range(self.layers + 1), dtype=object)\n",
    "        self.B = np.empty_like(range(self.layers + 1), dtype=object)\n",
    "        self.W[0] = None\n",
    "        self.B[0] = None\n",
    "        # self.parameters = {}\n",
    "        for layer, (y, x) in zip(range(self.layers), self.weight_set_dimensions):\n",
    "            np.random.seed(42)\n",
    "            self.W[layer + 1] = np.random.rand(y, x)\n",
    "            self.B[layer + 1] = np.random.rand(y, 1)\n",
    "#             self.parameters[\"W\" + str(layer)] = np.random.rand(row, column)\n",
    "#             self.parameters[\"B\" + str(layer)] = np.random.rand(row, 1)\n",
    "\n",
    "\n",
    "    def forwardpass(self, X):\n",
    "#         self._params = {}\n",
    "#         self._params[\"A0\"] = X\n",
    "        self.Z = np.empty_like(range(self.layers + 1), dtype=object)\n",
    "        self.A = np.empty_like(range(self.layers + 1), dtype=object)\n",
    "        self.A[0] = X\n",
    "        self.Z[0] = None\n",
    "        for layer in range(self.layers):\n",
    "            # activation_function starts from 0 whereas layer starts from 1\n",
    "            active_function = self.activation_functions[layer]\n",
    "            arg_to_pass_to_eval = \"(self.Z[layer + 1])\"\n",
    "\n",
    "            self.Z[layer + 1] = self.W[layer + 1] @ self.A[layer] + self.B[layer + 1]\n",
    "            self.A[layer + 1] = eval(active_function + arg_to_pass_to_eval)\n",
    "\n",
    "#             arg_to_pass_to_eval = \"(self._params['Z' + str(layer)])\"\n",
    "#             self._params[\"Z\" + str(layer)] = (self.parameters[\"W\" + str(layer)] @\n",
    "#                                               self._params[\"A\" + str(layer - 1)] +\n",
    "#                                               self.parameters[\"B\" + str(layer)])\n",
    "#             self._params[\"A\" + str(layer)] = eval(active_function + arg_to_pass_to_eval)\n",
    "\n",
    "    def backpropagation(self, Y):\n",
    "        delta_final = self.calculate_delta_final(Y)\n",
    "        self.delta = np.empty_like(range(self.layers + 1), dtype=object)\n",
    "        self.delta[0] = None\n",
    "        self.delta[-1] = delta_final\n",
    "\n",
    "        self.gradient_W = np.empty_like(range(self.layers + 1), dtype=object)\n",
    "        self.gradient_B = np.empty_like(range(self.layers + 1), dtype=object)\n",
    "        self.gradient_W[0] = None\n",
    "        self.gradient_B[0] = None\n",
    "\n",
    "        # here Z[index+1] is passed instead of Z[index] this is because Z[0] is none.\n",
    "        # So Z[index+1] is effectively Z[index].\n",
    "\n",
    "        for layer in reversed(range(1, self.layers)):\n",
    "            active_function = self.activation_functions[layer]\n",
    "            arg_to_pass_to_eval = \"(self.Z[layer], prime=True)\"\n",
    "\n",
    "            self.delta[layer] = (\n",
    "                self.W[layer + 1].T @ self.delta[layer + 1] *\n",
    "                eval(active_function + arg_to_pass_to_eval)\n",
    "            )\n",
    "\n",
    "        # calculate the gradient\n",
    "        for layer in range(self.layers):\n",
    "            self.gradient_W[layer + 1] = (self.delta[layer + 1] @ self.A[layer].T) / self.m\n",
    "            self.gradient_B[layer + 1] = np.sum(self.delta[layer + 1], axis=1, keepdims=True) / self.m\n",
    "\n",
    "        #update the weights\n",
    "        for layer in range(self.layers):\n",
    "            self.W[layer+1] -= self.alpha * self.gradient_W[layer+1]\n",
    "            self.B[layer+1] -= self.alpha * self.gradient_B[layer+1]\n",
    "            \n",
    "            \n",
    "    def fit(self, X, Y):\n",
    "        self.initialise_weights()\n",
    "        \n",
    "        for iteration in range(self.no_of_iterations + 1):\n",
    "            self.forwardpass(X)\n",
    "            self.backpropagation(Y)\n",
    "            if iteration % 100 == 0 or iteration == self.no_of_iterations:\n",
    "                print(\"iteration %s - loss %.20f\" %(iteration, calculate_error(Y, self.A[-1])))\n",
    "\n",
    "\n",
    "    def predict(self, X):\n",
    "        self.forwardpass(X)\n",
    "\n",
    "        return np.argmax(self.A[-1].T, axis=1)"
   ]
  }
 ],
 "metadata": {
  "kernelspec": {
   "display_name": "Python 3",
   "language": "python",
   "name": "python3"
  },
  "language_info": {
   "codemirror_mode": {
    "name": "ipython",
    "version": 3
   },
   "file_extension": ".py",
   "mimetype": "text/x-python",
   "name": "python",
   "nbconvert_exporter": "python",
   "pygments_lexer": "ipython3",
   "version": "3.7.5"
  }
 },
 "nbformat": 4,
 "nbformat_minor": 2
}

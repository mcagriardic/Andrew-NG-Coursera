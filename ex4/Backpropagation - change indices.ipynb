{
 "cells": [
  {
   "cell_type": "markdown",
   "metadata": {},
   "source": [
    "# Backpropagation"
   ]
  },
  {
   "cell_type": "markdown",
   "metadata": {},
   "source": [
    "The neural network looks like this:\n",
    "\n",
    "![title](img/NN_structure.PNG)"
   ]
  },
  {
   "cell_type": "markdown",
   "metadata": {},
   "source": [
    "## Forwardpass\n",
    "\n",
    "To begin, lets see what the neural network currently predicts given the weights and biases above and inputs of 0.05 and 0.10. To do this we’ll feed those inputs forward though the network.\n",
    "\n",
    "\\begin{equation*}\n",
    "net_{h1} = w_1 * i_1 + w_2 * i_2 + b_1 * 1\\\\\\\n",
    "net_{h2} = w_3 * i_1 + w_4 * i_2 + b_1 * 1\n",
    "\\end{equation*}"
   ]
  },
  {
   "cell_type": "code",
   "execution_count": 22,
   "metadata": {},
   "outputs": [],
   "source": [
    "x1 = 0.05\n",
    "x2 = 0.10\n",
    "\n",
    "b1 = 0.35\n",
    "\n",
    "w11_2 = 0.15\n",
    "w12_2 = 0.20\n",
    "w21_2 = 0.25\n",
    "w22_2 = 0.30\n",
    "\n",
    "y1 = 0.01\n",
    "y2 = 0.99\n",
    "\n",
    "b2 = 0.60\n",
    "\n",
    "w11_3 = 0.4\n",
    "w12_3 = 0.45\n",
    "w21_3 = 0.5\n",
    "w22_3 = 0.55"
   ]
  },
  {
   "cell_type": "code",
   "execution_count": 23,
   "metadata": {},
   "outputs": [],
   "source": [
    "z1_2 = w11_2 * x1 + w12_2 * x2 + b1 * 1\n",
    "z2_2 = w21_2 * x1 + w22_2 * x2 + b1 * 1"
   ]
  },
  {
   "cell_type": "code",
   "execution_count": 24,
   "metadata": {},
   "outputs": [
    {
     "data": {
      "text/plain": [
       "(0.3775, 0.39249999999999996)"
      ]
     },
     "execution_count": 24,
     "metadata": {},
     "output_type": "execute_result"
    }
   ],
   "source": [
    "z1_2, z2_2"
   ]
  },
  {
   "cell_type": "markdown",
   "metadata": {},
   "source": [
    "---\n",
    "We then squash it using the logistic function to get the output of h_1:\n",
    "\n",
    "\\begin{equation*}\n",
    "out_{h1} = \\frac{1}{1 + e^{-net_{h1}}} \\\\\\\n",
    "\\\\\\\n",
    "out_{h1} = \\frac{1}{1 + e^{-0.3775}} \\\\\\\n",
    "\\end{equation*}\n",
    "\n",
    "We do the same for h_2:\n",
    "\n",
    "---"
   ]
  },
  {
   "cell_type": "code",
   "execution_count": 25,
   "metadata": {},
   "outputs": [],
   "source": [
    "from math import e\n",
    "\n",
    "def logistic_function(z):\n",
    "    \n",
    "    return 1 / (1 + e ** (-z))"
   ]
  },
  {
   "cell_type": "code",
   "execution_count": 26,
   "metadata": {},
   "outputs": [],
   "source": [
    "a1_2 = logistic_function(z1_2)\n",
    "a2_2 = logistic_function(z2_2)"
   ]
  },
  {
   "cell_type": "code",
   "execution_count": 27,
   "metadata": {},
   "outputs": [
    {
     "data": {
      "text/plain": [
       "(0.5932699921071872, 0.596884378259767)"
      ]
     },
     "execution_count": 27,
     "metadata": {},
     "output_type": "execute_result"
    }
   ],
   "source": [
    "a1_2, a2_2"
   ]
  },
  {
   "cell_type": "markdown",
   "metadata": {},
   "source": [
    "---\n",
    "We repeat this process for the output layer neurons, using the output from the hidden layer neurons as inputs.\n",
    "\n",
    "---\n",
    "\n",
    "\\begin{equation*}\n",
    "net_{o1} = w_5 * out_{h1} + w_6 * out_{h2} + b_2 * 1\\\\\\\n",
    "net_{o2} = w_7 * out_{h1} + w_8 * out_{h2} + b_2 * 1\n",
    "\\end{equation*}\n",
    "\n",
    "---"
   ]
  },
  {
   "cell_type": "code",
   "execution_count": 28,
   "metadata": {},
   "outputs": [],
   "source": [
    "z1_3 = w11_3 * a1_2 + w12_3 * a2_2 + b2 * 1\n",
    "z2_3 = w21_3 * a1_2 + w22_3 * a2_2 + b2 * 1"
   ]
  },
  {
   "cell_type": "code",
   "execution_count": 29,
   "metadata": {},
   "outputs": [
    {
     "data": {
      "text/plain": [
       "(1.10590596705977, 1.2249214040964653)"
      ]
     },
     "execution_count": 29,
     "metadata": {},
     "output_type": "execute_result"
    }
   ],
   "source": [
    "z1_3, z2_3"
   ]
  },
  {
   "cell_type": "markdown",
   "metadata": {},
   "source": [
    "---\n",
    "We then squash it using the logistic function to get the output of o_1:\n",
    "\n",
    "\\begin{equation*}\n",
    "out_{o1} = \\frac{1}{1 + e^{-net_{o1}}} \\\\\\\n",
    "\\\\\\\n",
    "out_{h1} = \\frac{1}{1 + e^{-1.10590}} \\\\\\\n",
    "\\end{equation*}\n",
    "\n",
    "We do the same for o_2:\n",
    "\n",
    "---"
   ]
  },
  {
   "cell_type": "code",
   "execution_count": 30,
   "metadata": {},
   "outputs": [],
   "source": [
    "a1_3 = logistic_function(z1_3)\n",
    "a2_3 = logistic_function(z2_3)"
   ]
  },
  {
   "cell_type": "code",
   "execution_count": 31,
   "metadata": {},
   "outputs": [
    {
     "data": {
      "text/plain": [
       "(0.7513650695523157, 0.7729284653214625)"
      ]
     },
     "execution_count": 31,
     "metadata": {},
     "output_type": "execute_result"
    }
   ],
   "source": [
    "a1_3, a2_3"
   ]
  },
  {
   "cell_type": "markdown",
   "metadata": {},
   "source": [
    "---\n",
    "Forwardpropagation finishes here.\n",
    "\n",
    "---"
   ]
  },
  {
   "cell_type": "markdown",
   "metadata": {},
   "source": [
    "## Calculating the Total Error\n",
    "\n",
    "---\n",
    "We can now calculate the error for each output neuron using the squared error function and sum them to get the total error:\n",
    "\n",
    "---\n",
    "\n",
    "\\begin{equation*}\n",
    "\\sum_{}^{} {\\frac{1}{2}(target_{o1} - out_{o1})^2}\n",
    "\\end{equation*}\n",
    "\n",
    "---\n",
    "For example, the target output for o_1 is 0.01 but the neural network output 0.75136507, therefore its error is:\n",
    "\n",
    "\\begin{equation*}\n",
    "E_{o1} = \\sum_{}^{} {\\frac{1}{2}(0.01 - 0.75136507)^2} = 0.274811083\n",
    "\\end{equation*}\n",
    "\n",
    "Repeating this process for o_2 (remembering that the target is 0.99) we get:\n",
    "\n",
    "\\begin{equation*}\n",
    "E_{o2} = 0.023560026\n",
    "\\end{equation*}\n",
    "\n",
    "The total error for the neural network is the sum of these errors:\n",
    "\n",
    "\\begin{equation*}\n",
    "E_{total} = E_{o1} + E_{o2}\n",
    "\\end{equation*}\n"
   ]
  },
  {
   "cell_type": "code",
   "execution_count": 32,
   "metadata": {},
   "outputs": [],
   "source": [
    "E_o1 = 0.5 * (y1 - a1_3) ** 2\n",
    "E_o2 = 0.5 * (y2 - a2_3) ** 2"
   ]
  },
  {
   "cell_type": "code",
   "execution_count": 33,
   "metadata": {},
   "outputs": [
    {
     "data": {
      "text/plain": [
       "(0.274811083176155, 0.023560025583847746)"
      ]
     },
     "execution_count": 33,
     "metadata": {},
     "output_type": "execute_result"
    }
   ],
   "source": [
    "E_o1, E_o2"
   ]
  },
  {
   "cell_type": "code",
   "execution_count": 34,
   "metadata": {},
   "outputs": [],
   "source": [
    "E_total = E_o1 + E_o2"
   ]
  },
  {
   "cell_type": "code",
   "execution_count": 35,
   "metadata": {},
   "outputs": [
    {
     "data": {
      "text/plain": [
       "0.2983711087600027"
      ]
     },
     "execution_count": 35,
     "metadata": {},
     "output_type": "execute_result"
    }
   ],
   "source": [
    "E_total"
   ]
  },
  {
   "cell_type": "markdown",
   "metadata": {},
   "source": [
    "## The Backward Pass\n",
    "\n",
    "Our goal with backpropagation is to update each of the weights in the network so that they cause the actual output to be closer the target output, thereby minimizing the error for each output neuron and the network as a whole.\n",
    "\n",
    "### Output Layer\n",
    "\n",
    "Consider $w_5$. We want to know how much a change in $w_5$ affects the total error, aka $\\frac{\\partial E_{total}}{\\partial w_{5}}$.\n",
    "\n",
    "By applying the chain rule we know that:\n",
    "\n",
    "\\begin{equation*}\n",
    "\\frac{\\partial E_{total}}{\\partial w_{5}} = \\frac{\\partial E_{total}}{\\partial out_{o1}} * \\frac{\\partial out_{o1}}{\\partial net_{o1}} * \\frac{\\partial net_{o1}}{\\partial w_{5}}\n",
    "\\end{equation*}\n",
    "\n",
    "Visually, here’s what we’re doing:\n",
    "\n",
    "![title](img/backwardpass.PNG)\n",
    "\n",
    "We need to figure out each piece in this equation.\n",
    "\n",
    "<ol>\n",
    "<li>\n",
    "<b>First, how much does the total error change with respect to the output?</b>\n",
    "\n",
    "\\begin{equation*}\n",
    "E_{total} = \\frac{1}{2}(target_{o1} - out_{o1})^{2} + \\frac{1}{2}(target_{o2} - out_{o2})^{2} \\\\\\\n",
    "\\\\\\\n",
    "\\frac{\\partial E_{total}}{\\partial out_{o1}} = 2 * \\frac{1}{2}(target_{o1} - out_{o1})^{2 - 1} * -1 + 0 \\\\\\\n",
    "\\\\\\\n",
    "\\frac{\\partial E_{total}}{\\partial out_{o1}} = -(target_{o1} - out_{o1}) = -(0.01 - 0.75136507) = 0.74136507 \\\\\\\n",
    "\\end{equation*}\n",
    "\n",
    "<br>\n",
    "\n",
    "---\n",
    "\n",
    "</li>\n",
    "<li>\n",
    "<b>Next, how much does the output of $o_1$ change with respect to its total net input?</b>\n",
    "\n",
    "The partial derivative of the logistic function is the output multiplied by 1 minus the output:\n",
    "\n",
    "\\begin{equation*}\n",
    "out_{o1} = \\frac{1}{1+e^{-net_{o1}}} \\\\\\\n",
    "\\\\\\\n",
    "\\frac{\\partial out_{o1}}{\\partial net_{o1}} = out_{o1}(1 - out_{o1}) = 0.75136507(1 - 0.75136507) = 0.186815602 \\\\\\\n",
    "\\end{equation*}\n",
    "\n",
    "<br>\n",
    "\n",
    "---\n",
    "\n",
    "</li>\n",
    "<li>\n",
    "<b>Finally, how much does the total net input of $net_{o1}$ change with respect to $w_5$?</b>\n",
    "\n",
    "\\begin{equation*}\n",
    "net_{o1} = w_5 * out_{h1} + w_6 * out_{h2} + b_2 * 1 \\\\\\\n",
    "\\\\\\\n",
    "\\frac{\\partial net_{o1}}{\\partial w_{5}} = 1 * out_{h1} * w_5^{(1 - 1)} + 0 + 0 = out_{h1} = 0.593269992 \\\\\\\n",
    "\\end{equation*}\n",
    "\n",
    "<br>\n",
    "\n",
    "---\n",
    "\n",
    "</li>\n",
    "</ol>\n",
    "<b>Putting it all together:</b>\n",
    "\n",
    "\\begin{equation*}\n",
    "\\frac{\\partial E_{total}}{\\partial w_{5}} = \\frac{\\partial E_{total}}{\\partial out_{o1}} * \\frac{\\partial out_{o1}}{\\partial net_{o1}} * \\frac{\\partial net_{o1}}{\\partial w_{5}}\\\\\\\n",
    "\\\\\\\n",
    "\\frac{\\partial E_{total}}{\\partial w_{5}} = 0.74136507 * 0.186815602 * 0.593269992 = 0.082167041\n",
    "\\\\\\\n",
    "\\end{equation*}"
   ]
  },
  {
   "cell_type": "markdown",
   "metadata": {},
   "source": [
    "<br>\n",
    "You’ll often see this calculation combined in the form of the [delta rule](https://en.wikipedia.org/wiki/Delta_rule):\n",
    "\n",
    "\\begin{equation*}\n",
    "\\frac{\\partial E_{total}}{\\partial w_{5}} = -(target_{o1} - out_{o1}) * out_{o1}(1 - out_{o1}) * out_{h1}\n",
    "\\end{equation*}\n",
    "\n",
    "<br>\n",
    "Alternatively, we have $\\frac{\\partial E_{total}}{\\partial out_{o1}}$ and $ \\frac{\\partial E_{total}}{\\partial net_{o1}}$ which can be written as $\\frac{\\partial E_{total}}{\\partial net_{o1}}$, aka $ \\delta_{o1}$ (the Greek letter delta) aka the node delta. We can use this to rewrite the calculation above:\n",
    "\n",
    "\\begin{equation*}\n",
    "\\delta_{o1} = \\frac{\\partial E_{total}}{\\partial out_{o1}} * \\frac{\\partial out_{o1}}{\\partial net_{o1}} = \\frac{\\partial E_{total}}{\\partial net_{o1}}\n",
    "\\end{equation*}\n",
    "\n",
    "\\begin{equation*}\n",
    "\\delta_{o1} = -(target_{o1} - out_{o1}) * out_{o1}(1 - out_{o1})\n",
    "\\end{equation*}\n",
    "\n",
    "<br>\n",
    "Therefore:\n",
    "\n",
    "\\begin{equation*}\n",
    "\\frac{\\partial E_{total}}{\\partial w_{5}} = \\delta_{o1} out_{h1}\n",
    "\\end{equation*}\n",
    "\n",
    "<br>\n",
    "Some sources extract the negative sign from \\delta so it would be written as:\n",
    "\n",
    "\\begin{equation*}\n",
    "\\frac{\\partial E_{total}}{\\partial w_{5}} = -\\delta_{o1} out_{h1}\n",
    "\\end{equation*}\n",
    "\n",
    "<br>\n",
    "To decrease the error, we then subtract this value from the current weight (optionally multiplied by some learning rate, eta, which we’ll set to 0.5):\n",
    "\n",
    "\\begin{equation*}\n",
    "w_5^{+} = w_5 - \\eta * \\frac{\\partial E_{total}}{\\partial w_{5}} = 0.4 - 0.5 * 0.082167041 = 0.35891648\n",
    "\\end{equation*}\n",
    "\n",
    "<br>\n",
    "We can repeat this process to get the new weights $w_6$, $ w_7$, and $w_8$:\n",
    "\n",
    "$w_6^{+} = 0.408666186$<br>\n",
    "$w_7^{+} = 0.511301270$<br>\n",
    "$w_8^{+} = 0.561370121$<br>\n",
    "\n",
    "We perform the actual updates in the neural network after we have the new weights leading into the hidden layer neurons (ie, we use the original weights, not the updated weights, when we continue the backpropagation algorithm below)."
   ]
  },
  {
   "cell_type": "code",
   "execution_count": 36,
   "metadata": {},
   "outputs": [],
   "source": [
    "delta_y1 = -(y1 - a1_3) * a1_3 * (1 - a1_3)\n",
    "delta_y2 = -(y2 - a2_3) * a2_3 * (1 - a2_3)"
   ]
  },
  {
   "cell_type": "code",
   "execution_count": 37,
   "metadata": {},
   "outputs": [
    {
     "data": {
      "text/plain": [
       "(0.7413650695523157, -0.21707153467853746)"
      ]
     },
     "execution_count": 37,
     "metadata": {},
     "output_type": "execute_result"
    }
   ],
   "source": [
    "-(y1 - a1_3), -(y2 - a2_3) "
   ]
  },
  {
   "cell_type": "code",
   "execution_count": 38,
   "metadata": {},
   "outputs": [
    {
     "data": {
      "text/plain": [
       "(0.18681560180895948, 0.17551005281727122)"
      ]
     },
     "execution_count": 38,
     "metadata": {},
     "output_type": "execute_result"
    }
   ],
   "source": [
    "a1_3 * (1 - a1_3), a2_3 * (1 - a2_3)"
   ]
  },
  {
   "cell_type": "code",
   "execution_count": 39,
   "metadata": {},
   "outputs": [
    {
     "data": {
      "text/plain": [
       "(0.13849856162855695, -0.038098236516556236)"
      ]
     },
     "execution_count": 39,
     "metadata": {},
     "output_type": "execute_result"
    }
   ],
   "source": [
    "delta_y1, delta_y2"
   ]
  },
  {
   "cell_type": "code",
   "execution_count": 40,
   "metadata": {},
   "outputs": [],
   "source": [
    "w11_3_contrib = delta_y1 * a1_2\n",
    "w12_3_contrib = delta_y1 * a2_2\n",
    "\n",
    "w21_3_contrib = delta_y2 * a1_2\n",
    "w22_3_contrib = delta_y2 * a2_2\n",
    "\n",
    "b2_contrib = delta_y1 + delta_y2"
   ]
  },
  {
   "cell_type": "code",
   "execution_count": 41,
   "metadata": {},
   "outputs": [
    {
     "data": {
      "text/plain": [
       "(0.08216704056423077,\n",
       " 0.08266762784753325,\n",
       " -0.02260254047747507,\n",
       " -0.022740242215978222,\n",
       " 0.10040032511200071)"
      ]
     },
     "execution_count": 41,
     "metadata": {},
     "output_type": "execute_result"
    }
   ],
   "source": [
    "w11_3_contrib, w12_3_contrib, w21_3_contrib, w22_3_contrib, b2_contrib"
   ]
  },
  {
   "cell_type": "code",
   "execution_count": 42,
   "metadata": {},
   "outputs": [],
   "source": [
    "alfa = 0.5\n",
    "\n",
    "w11_3_updated = w11_3 - alfa * w11_3_contrib\n",
    "w12_3_updated = w12_3 - alfa * w12_3_contrib\n",
    "w21_3_updated = w21_3 - alfa * w21_3_contrib\n",
    "w22_3_updated = w22_3 - alfa * w22_3_contrib\n",
    "\n",
    "b2_updated = b2 - alfa * b2_contrib"
   ]
  },
  {
   "cell_type": "code",
   "execution_count": 43,
   "metadata": {},
   "outputs": [
    {
     "data": {
      "text/plain": [
       "(0.35891647971788465,\n",
       " 0.4086661860762334,\n",
       " 0.5113012702387375,\n",
       " 0.5613701211079891,\n",
       " 0.5497998374439996)"
      ]
     },
     "execution_count": 43,
     "metadata": {},
     "output_type": "execute_result"
    }
   ],
   "source": [
    "w11_3_updated, w12_3_updated, w21_3_updated, w22_3_updated, b2_updated"
   ]
  },
  {
   "cell_type": "markdown",
   "metadata": {},
   "source": [
    "### Hidden Layer\n",
    "\n",
    "Next, we’ll continue the backwards pass by calculating new values for $w_1$, $w_2$, $w_3$, and $w_4$.\n",
    "\n",
    "Big picture, here’s what we need to figure out:\n",
    "\n",
    "\\begin{equation*}\n",
    "\\frac{\\partial E_{total}}{\\partial w_{1}} = \\frac{\\partial E_{total}}{\\partial out_{h1}} * \\frac{\\partial out_{h1}}{\\partial net_{h1}} * \\frac{\\partial net_{h1}}{\\partial w_{1}}\n",
    "\\end{equation*}\n",
    "\n",
    "Visually:\n",
    "\n",
    "![title](img/hidden_layer_bp.PNG)\n",
    "\n",
    "We’re going to use a similar process as we did for the output layer, but slightly different to account for the fact that the output of each hidden layer neuron contributes to the output (and therefore error) of multiple output neurons. We know that $out_{h1}$ affects both $out_{o1}$ and $out_{o2}$ therefore the $\\frac{\\partial E_{total}}{\\partial out_{h1}}$ needs to take into consideration its effect on the both output neurons:\n",
    "\n",
    "\\begin{equation*}\n",
    "\\frac{\\partial E_{total}}{\\partial out_{h1}} = \\frac{\\partial E_{o1}}{\\partial out_{h1}} + \\frac{\\partial E_{o2}}{\\partial out_{h1}}\n",
    "\\end{equation*}\n",
    "\n",
    "<br>\n",
    "Starting with $\\frac{\\partial E_{o1}}{\\partial out_{h1}}$:\n",
    "\n",
    "\\begin{equation*}\n",
    "\\frac{\\partial E_{o1}}{\\partial out_{h1}} = \\frac{\\partial E_{o1}}{\\partial net_{o1}} * \\frac{\\partial net_{o1}}{\\partial out_{h1}}\n",
    "\\end{equation*}\n",
    "\n",
    "<br>\n",
    "We can calculate $\\frac{\\partial E_{o1}}{\\partial net_{o1}}$ using values we calculated earlier:\n",
    "\n",
    "\\begin{equation*}\n",
    "\\frac{\\partial E_{o1}}{\\partial net_{o1}} = \\frac{\\partial E_{o1}}{\\partial out_{o1}} * \\frac{\\partial out_{o1}}{\\partial net_{o1}} = 0.74136507 * 0.186815602 = 0.18498562\n",
    "\\end{equation*}\n",
    "\n",
    "<br>\n",
    "And $\\frac{\\partial net_{o1}}{\\partial out_{h1}}$ is equal to $w_5$:\n",
    "\n",
    "\\begin{equation*}\n",
    "net_{o1} = w_5 * out_{h1} + w_6 * out_{h2} + b_2 * 1 \\\\\\\n",
    "\\\\\\\n",
    "\\frac{\\partial net_{o1}}{\\partial out_{h1}} = w_5 = 0.40 \\\\\\\n",
    "\\end{equation*}\n",
    "\n",
    "<br>\n",
    "Plugging them in:\n",
    "\n",
    "\\begin{equation*}\n",
    "\\frac{\\partial E_{o1}}{\\partial out_{h1}} = \\frac{\\partial E_{o1}}{\\partial net_{o1}} * \\frac{\\partial net_{o1}}{\\partial out_{h1}} = 0.138498562 * 0.40 = 0.055399425\n",
    "\\end{equation*}\n",
    "\n",
    "<br>\n",
    "Following the same process for $\\frac{\\partial E_{o2}}{\\partial out_{h1}}$, we get:\n",
    "\n",
    "\\begin{equation*}\n",
    "\\frac{\\partial E_{o2}}{\\partial out_{h1}} = -0.019049119\n",
    "\\end{equation*}\n",
    "\n",
    "Therefore:\n",
    "\n",
    "\\begin{equation*}\n",
    "\\frac{\\partial E_{total}}{\\partial out_{h1}} = \\frac{\\partial E_{o1}}{\\partial out_{h1}} + \\frac{\\partial E_{o2}}{\\partial out_{h1}} = 0.055399425 + -0.019049119 = 0.036350306\n",
    "\\end{equation*}\n",
    "\n",
    "<br>\n",
    "Now that we have $\\frac{\\partial E_{total}}{\\partial out_{h1}}$, we need to figure out $\\frac{\\partial out_{h1}}{\\partial net_{h1}}$ and then $\\frac{\\partial net_{h1}}{\\partial w}$ for each weight:\n",
    "\n",
    "\\begin{equation*}\n",
    "out_{h1} = \\frac{1}{1+e^{-net_{h1}}} \\\\\\\n",
    "\\\\\\\n",
    "\\frac{\\partial out_{h1}}{\\partial net_{h1}} = out_{h1}(1 - out_{h1}) = 0.59326999(1 - 0.59326999 ) = 0.241300709 \\\\\\\n",
    "\\end{equation*}\n",
    "\n",
    "We calculate the partial derivative of the total net input to h_1 with respect to w_1 the same as we did for the output neuron:\n",
    "\n",
    "\\begin{equation*}\n",
    "net_{h1} = w_1 * i_1 + w_3 * i_2 + b_1 * 1 \\\\\\\n",
    "\\\\\\\n",
    "\\frac{\\partial net_{h1}}{\\partial w_1} = i_1 = 0.05 \\\\\\\n",
    "\\end{equation*}\n",
    "\n",
    "\n",
    "<br>\n",
    "Putting it all together:\n",
    "\n",
    "\\begin{equation*}\n",
    "\\frac{\\partial E_{total}}{\\partial w_{1}} = \\frac{\\partial E_{total}}{\\partial out_{h1}} * \\frac{\\partial out_{h1}}{\\partial net_{h1}} * \\frac{\\partial net_{h1}}{\\partial w_{1}} \\\\\\\n",
    "\\\\\\\n",
    "\\frac{\\partial E_{total}}{\\partial w_{1}} = 0.036350306 * 0.241300709 * 0.05 = 0.000438568 \\\\\\\n",
    "\\end{equation*}\n",
    "\n",
    "<br>\n",
    "\n",
    "***\n",
    "\n",
    "You might also see this written as:\n",
    "\n",
    "\\begin{equation*}\n",
    "\\frac{\\partial E_{total}}{\\partial w_{1}} = (\\sum\\limits_{o}{\\frac{\\partial E_{total}}{\\partial out_{o}} * \\frac{\\partial out_{o}}{\\partial net_{o}} * \\frac{\\partial net_{o}}{\\partial out_{h1}}}) * \\frac{\\partial out_{h1}}{\\partial net_{h1}} * \\frac{\\partial net_{h1}}{\\partial w_{1}} \\\\\\\n",
    "\\\\\\\n",
    "\\frac{\\partial E_{total}}{\\partial w_{1}} = (\\sum\\limits_{o}{\\delta_{o} * w_{ho}}) * out_{h1}(1 - out_{h1}) * i_{1} \\\\\\\n",
    "\\\\\\\n",
    "\\frac{\\partial E_{total}}{\\partial w_{1}} = \\delta_{h1}i_{1}\\\\\\\n",
    "\\end{equation*}\n",
    "\n",
    "---\n",
    "\n",
    "We can now update $w_1$:\n",
    "\n",
    "\\begin{equation*}\n",
    "w_1^{+} = w_1 - \\eta * \\frac{\\partial E_{total}}{\\partial w_{1}} = 0.15 - 0.5 * 0.000438568 = 0.149780716\n",
    "\\end{equation*}\n",
    "\n",
    "<br>\n",
    "Repeating this for $w_2$, $w_3$, and $w_4$:\n",
    "\n",
    "\\begin{equation*}\n",
    "w_2^{+} = 0.19956143 \\\\\\\n",
    "w_3^{+} = 0.24975114 \\\\\\\n",
    "w_4^{+} = 0.29950229 \\\\\\\n",
    "\\end{equation*}\n",
    "\n",
    "<br>\n",
    "Finally, we’ve updated all of our weights! When we fed forward the 0.05 and 0.1 inputs originally, the error on the network was 0.298371109. After this first round of backpropagation, the total error is now down to 0.291027924. It might not seem like much, but after repeating this process 10,000 times, for example, the error plummets to 0.0000351085. At this point, when we feed forward 0.05 and 0.1, the two outputs neurons generate 0.015912196 (vs 0.01 target) and 0.984065734 (vs 0.99 target)."
   ]
  },
  {
   "cell_type": "code",
   "execution_count": 44,
   "metadata": {},
   "outputs": [],
   "source": [
    "# dEtotal/da1_3 = dE_o1/da1_3 + dE_o2/da2_3\n",
    "# tackling dE_o1/da1_3 part:\n",
    "\n",
    "dEo1_da1_3 = -1 * (y1 - a1_3)\n",
    "\n",
    "#tackling dE_o2/dout_o2 part:\n",
    "\n",
    "dEo2_da2_3 = -1 * (y2 - a2_3)\n",
    "\n",
    "# adding Eo1 and Eo2 to find Etotal\n",
    "\n",
    "Etotal = dEo1_da1_3 + dEo2_da2_3"
   ]
  },
  {
   "cell_type": "code",
   "execution_count": 45,
   "metadata": {},
   "outputs": [],
   "source": [
    "# da1_3/dz1_3\n",
    "\n",
    "da1_3_dz1_3 = a1_3 * (1 - a1_3)\n",
    "da2_3_dz2_3 = a2_3 * (1 - a2_3)"
   ]
  },
  {
   "cell_type": "code",
   "execution_count": 46,
   "metadata": {},
   "outputs": [],
   "source": [
    "# dz1_3/da1_2\n",
    "\n",
    "dz1_3_da1_2 = w11_3\n",
    "dz2_3_da1_2 = w21_3\n",
    "\n",
    "dz1_3_da2_2 = w12_3\n",
    "dz2_3_da2_2 = w22_3"
   ]
  },
  {
   "cell_type": "code",
   "execution_count": 47,
   "metadata": {},
   "outputs": [],
   "source": [
    "# da1_2/dz1_2\n",
    "\n",
    "da1_2_dz1_2 = a1_2 * (1 - a1_2)\n",
    "da2_2_dz2_2 = a2_2 * (1 - a2_2)"
   ]
  },
  {
   "cell_type": "code",
   "execution_count": 48,
   "metadata": {},
   "outputs": [],
   "source": [
    "# dz1_2/dw11_2\n",
    "\n",
    "dz1_2_dw11_2 = x1\n",
    "dz1_2_dw12_2 = x2\n",
    "\n",
    "dz2_2_dw21_2 = x1\n",
    "dz2_2_dw22_2 = x2\n",
    "\n",
    "dz1_2_db1 = 1\n",
    "dz2_2_db1 = 1"
   ]
  },
  {
   "cell_type": "code",
   "execution_count": 49,
   "metadata": {},
   "outputs": [],
   "source": [
    "#putting them all together\n",
    "\n",
    "\n",
    "w11_2_contrib = (\n",
    "    (\n",
    "        (dEo1_da1_3 * da1_3_dz1_3 * dz1_3_da1_2) + \n",
    "        (dEo2_da2_3 * da2_3_dz2_3 * dz2_3_da1_2)\n",
    "    )\n",
    "    * da1_2_dz1_2 * dz1_2_dw11_2\n",
    ")\n",
    "\n",
    "\n",
    "w12_2_contrib = (\n",
    "    (\n",
    "        (dEo1_da1_3 * da1_3_dz1_3 * dz1_3_da1_2) + \n",
    "        (dEo2_da2_3 * da2_3_dz2_3 * dz2_3_da1_2)\n",
    "    )\n",
    "    * da1_2_dz1_2 * dz1_2_dw12_2\n",
    ")\n",
    "\n",
    "\n",
    "w21_2_contrib = (\n",
    "    (\n",
    "        (dEo1_da1_3 * da1_3_dz1_3 * dz1_3_da2_2) + \n",
    "        (dEo2_da2_3 * da2_3_dz2_3 * dz2_3_da2_2)\n",
    "    ) \n",
    "    * da2_2_dz2_2 * dz2_2_dw21_2\n",
    ")\n",
    "\n",
    "\n",
    "w22_2_contrib = (\n",
    "    (\n",
    "        (dEo1_da1_3 * da1_3_dz1_3 * dz1_3_da2_2) + \n",
    "        (dEo2_da2_3 * da2_3_dz2_3 * dz2_3_da2_2)\n",
    "    ) \n",
    "    * da2_2_dz2_2 * dz2_2_dw22_2\n",
    ")\n",
    "\n",
    "b1_contrib = (\n",
    "    (\n",
    "        delta_y1 * (\n",
    "            (dz1_3_da1_2 * da1_2_dz1_2 * dz1_2_db1) + \n",
    "            (dz1_3_da2_2 * da2_2_dz2_2 * dz2_2_db1)\n",
    "        ) +\n",
    "        delta_y2 * (\n",
    "            (dz2_3_da1_2 * da1_2_dz1_2 * dz1_2_db1) +\n",
    "            (dz2_3_da2_2 * da2_2_dz2_2 * dz2_2_db1)\n",
    "        )\n",
    "    )\n",
    ")"
   ]
  },
  {
   "cell_type": "code",
   "execution_count": 50,
   "metadata": {},
   "outputs": [
    {
     "data": {
      "text/plain": [
       "(0.00043856773447434685,\n",
       " 0.0008771354689486937,\n",
       " 0.0004977127352608601,\n",
       " 0.0009954254705217202,\n",
       " 0.018725609394704128)"
      ]
     },
     "execution_count": 50,
     "metadata": {},
     "output_type": "execute_result"
    }
   ],
   "source": [
    "w11_2_contrib, w12_2_contrib, w21_2_contrib, w22_2_contrib, b1_contrib"
   ]
  },
  {
   "cell_type": "code",
   "execution_count": 51,
   "metadata": {},
   "outputs": [],
   "source": [
    "w11_2_updated = w11_2 - alfa * w11_2_contrib\n",
    "w12_2_updated = w12_2 - alfa * w12_2_contrib\n",
    "w21_2_updated = w21_2 - alfa * w21_2_contrib\n",
    "w22_2_updated = w22_2 - alfa * w22_2_contrib\n",
    "\n",
    "b1_updated = b1 - alfa * b1_contrib"
   ]
  },
  {
   "cell_type": "code",
   "execution_count": 52,
   "metadata": {
    "scrolled": true
   },
   "outputs": [
    {
     "data": {
      "text/plain": [
       "(0.1497807161327628,\n",
       " 0.19956143226552567,\n",
       " 0.24975114363236958,\n",
       " 0.29950228726473915,\n",
       " 0.3406371953026479)"
      ]
     },
     "execution_count": 52,
     "metadata": {},
     "output_type": "execute_result"
    }
   ],
   "source": [
    "w11_2_updated, w12_2_updated, w21_2_updated, w22_2_updated, b1_updated"
   ]
  },
  {
   "cell_type": "code",
   "execution_count": 55,
   "metadata": {},
   "outputs": [],
   "source": [
    "\n",
    "def epoch(w11_2,\n",
    "          w12_2,\n",
    "          w21_2,\n",
    "          w22_2,\n",
    "          b1,\n",
    "          w11_3,\n",
    "          w12_3,\n",
    "          w21_3,\n",
    "          w22_3,\n",
    "          b2):\n",
    "    \n",
    "    z1_2 = w11_2 * x1 + w12_2 * x2 + b1 * 1\n",
    "    z2_2 = w21_2 * x1 + w22_2 * x2 + b1 * 1\n",
    "    \n",
    "    a1_2 = logistic_function(z1_2)\n",
    "    a2_2 = logistic_function(z2_2)\n",
    "    \n",
    "    z1_3 = w11_3 * a1_2 + w12_3 * a2_2 + b2 * 1\n",
    "    z2_3 = w21_3 * a1_2 + w22_3 * a2_2 + b2 * 1\n",
    "    \n",
    "    a1_3 = logistic_function(z1_3)\n",
    "    a2_3 = logistic_function(z2_3)\n",
    "    \n",
    "    E_o1 = 0.5 * (y1 - a1_3) ** 2\n",
    "    E_o2 = 0.5 * (y2 - a2_3) ** 2\n",
    "    \n",
    "    E_total = E_o1 + E_o2\n",
    "    \n",
    "    delta_y1 = -(y1 - a1_3) * a1_3 * (1 - a1_3)\n",
    "    delta_y2 = -(y2 - a2_3) * a2_3 * (1 - a2_3)\n",
    "    \n",
    "    w11_3_contrib = delta_y1 * a1_2\n",
    "    w12_3_contrib = delta_y1 * a2_2\n",
    "\n",
    "    w21_3_contrib = delta_y2 * a1_2\n",
    "    w22_3_contrib = delta_y2 * a2_2\n",
    "    \n",
    "    b2_contrib = delta_y1 + delta_y2\n",
    "    \n",
    "    alfa = 0.5\n",
    "\n",
    "    w11_3_updated = w11_3 - alfa * w11_3_contrib\n",
    "    w12_3_updated = w12_3 - alfa * w12_3_contrib\n",
    "    w21_3_updated = w21_3 - alfa * w21_3_contrib\n",
    "    w22_3_updated = w22_3 - alfa * w22_3_contrib\n",
    "\n",
    "    b2_updated = b2 - alfa * b2_contrib\n",
    "    \n",
    "    # dEtotal/da1_3 = dE_o1/da1_3 + dE_o2/da2_3\n",
    "    # tackling dE_o1/da1_3 part:\n",
    "\n",
    "    dEo1_da1_3 = -1 * (y1 - a1_3)\n",
    "\n",
    "    #tackling dE_o2/dout_o2 part:\n",
    "\n",
    "    dEo2_da2_3 = -1 * (y2 - a2_3)\n",
    "\n",
    "    # adding Eo1 and Eo2 to find Etotal\n",
    "\n",
    "    Etotal = dEo1_da1_3 + dEo2_da2_3\n",
    "    print(Etotal)\n",
    "    \n",
    "    # da1_3/dz1_3\n",
    "\n",
    "    da1_3_dz1_3 = a1_3 * (1 - a1_3)\n",
    "    da2_3_dz2_3 = a2_3 * (1 - a2_3)\n",
    "    \n",
    "    # dz1_3/da1_2\n",
    "\n",
    "    dz1_3_da1_2 = w11_3\n",
    "    dz2_3_da1_2 = w21_3\n",
    "\n",
    "    dz1_3_da2_2 = w12_3\n",
    "    dz2_3_da2_2 = w22_3\n",
    "\n",
    "    # da1_2/dz1_2\n",
    "\n",
    "    da1_2_dz1_2 = a1_2 * (1 - a1_2)\n",
    "    da2_2_dz2_2 = a2_2 * (1 - a2_2)\n",
    "\n",
    "    # dz1_2/dw11_2\n",
    "\n",
    "    dz1_2_dw11_2 = x1\n",
    "    dz1_2_dw12_2 = x2\n",
    "\n",
    "    dz2_2_dw21_2 = x1\n",
    "    dz2_2_dw22_2 = x2\n",
    "\n",
    "    dz1_2_db1 = 1\n",
    "    dz2_2_db1 = 1\n",
    "\n",
    "    #putting them all together\n",
    "\n",
    "\n",
    "    w11_2_contrib = (\n",
    "        (\n",
    "            (dEo1_da1_3 * da1_3_dz1_3 * dz1_3_da1_2) + \n",
    "            (dEo2_da2_3 * da2_3_dz2_3 * dz2_3_da1_2)\n",
    "        )\n",
    "        * da1_2_dz1_2 * dz1_2_dw11_2\n",
    "    )\n",
    "\n",
    "\n",
    "    w12_2_contrib = (\n",
    "        (\n",
    "            (dEo1_da1_3 * da1_3_dz1_3 * dz1_3_da1_2) + \n",
    "            (dEo2_da2_3 * da2_3_dz2_3 * dz2_3_da1_2)\n",
    "        )\n",
    "        * da1_2_dz1_2 * dz1_2_dw12_2\n",
    "    )\n",
    "\n",
    "\n",
    "    w21_2_contrib = (\n",
    "        (\n",
    "            (dEo1_da1_3 * da1_3_dz1_3 * dz1_3_da2_2) + \n",
    "            (dEo2_da2_3 * da2_3_dz2_3 * dz2_3_da2_2)\n",
    "        ) \n",
    "        * da2_2_dz2_2 * dz2_2_dw21_2\n",
    "    )\n",
    "\n",
    "\n",
    "    w22_2_contrib = (\n",
    "        (\n",
    "            (dEo1_da1_3 * da1_3_dz1_3 * dz1_3_da2_2) + \n",
    "            (dEo2_da2_3 * da2_3_dz2_3 * dz2_3_da2_2)\n",
    "        ) \n",
    "        * da2_2_dz2_2 * dz2_2_dw22_2\n",
    "    )\n",
    "\n",
    "    b1_contrib = (\n",
    "        (\n",
    "            delta_y1 * (\n",
    "                (dz1_3_da1_2 * da1_2_dz1_2 * dz1_2_db1) + \n",
    "                (dz1_3_da2_2 * da2_2_dz2_2 * dz2_2_db1)\n",
    "            ) +\n",
    "            delta_y2 * (\n",
    "                (dz2_3_da1_2 * da1_2_dz1_2 * dz1_2_db1) +\n",
    "                (dz2_3_da2_2 * da2_2_dz2_2 * dz2_2_db1)\n",
    "            )\n",
    "        )\n",
    "    )\n",
    "\n",
    "    w11_2_updated = w11_2 - alfa * w11_2_contrib\n",
    "    w12_2_updated = w12_2 - alfa * w12_2_contrib\n",
    "    w21_2_updated = w21_2 - alfa * w21_2_contrib\n",
    "    w22_2_updated = w22_2 - alfa * w22_2_contrib\n",
    "\n",
    "    b1_updated = b1 - alfa * b1_contrib\n",
    "    \n",
    "    return (w11_2_updated, w12_2_updated, w21_2_updated, w22_2_updated, b1_updated,\n",
    "            w11_3_updated, w12_3_updated, w21_3_updated, w22_3_updated, b2_updated)"
   ]
  },
  {
   "cell_type": "code",
   "execution_count": 54,
   "metadata": {},
   "outputs": [
    {
     "ename": "NameError",
     "evalue": "name 'epoch' is not defined",
     "output_type": "error",
     "traceback": [
      "\u001b[0;31m---------------------------------------------------------------------------\u001b[0m",
      "\u001b[0;31mNameError\u001b[0m                                 Traceback (most recent call last)",
      "\u001b[0;32m<ipython-input-54-4c558f472645>\u001b[0m in \u001b[0;36m<module>\u001b[0;34m\u001b[0m\n\u001b[1;32m      1\u001b[0m \u001b[0;32mfor\u001b[0m \u001b[0m_\u001b[0m \u001b[0;32min\u001b[0m \u001b[0mrange\u001b[0m\u001b[0;34m(\u001b[0m\u001b[0;36m20000\u001b[0m\u001b[0;34m)\u001b[0m\u001b[0;34m:\u001b[0m\u001b[0;34m\u001b[0m\u001b[0;34m\u001b[0m\u001b[0m\n\u001b[0;32m----> 2\u001b[0;31m     \u001b[0mw11_2\u001b[0m\u001b[0;34m,\u001b[0m\u001b[0mw12_2\u001b[0m\u001b[0;34m,\u001b[0m\u001b[0mw21_2\u001b[0m\u001b[0;34m,\u001b[0m\u001b[0mw22_2\u001b[0m\u001b[0;34m,\u001b[0m\u001b[0mb1\u001b[0m\u001b[0;34m,\u001b[0m\u001b[0mw11_3\u001b[0m\u001b[0;34m,\u001b[0m\u001b[0mw12_3\u001b[0m\u001b[0;34m,\u001b[0m\u001b[0mw21_3\u001b[0m\u001b[0;34m,\u001b[0m\u001b[0mw22_3\u001b[0m\u001b[0;34m,\u001b[0m\u001b[0mb2\u001b[0m \u001b[0;34m=\u001b[0m \u001b[0mepoch\u001b[0m\u001b[0;34m(\u001b[0m\u001b[0mw11_2\u001b[0m\u001b[0;34m,\u001b[0m\u001b[0mw12_2\u001b[0m\u001b[0;34m,\u001b[0m\u001b[0mw21_2\u001b[0m\u001b[0;34m,\u001b[0m\u001b[0mw22_2\u001b[0m\u001b[0;34m,\u001b[0m\u001b[0mb1\u001b[0m\u001b[0;34m,\u001b[0m\u001b[0mw11_3\u001b[0m\u001b[0;34m,\u001b[0m\u001b[0mw12_3\u001b[0m\u001b[0;34m,\u001b[0m\u001b[0mw21_3\u001b[0m\u001b[0;34m,\u001b[0m\u001b[0mw22_3\u001b[0m\u001b[0;34m,\u001b[0m\u001b[0mb2\u001b[0m\u001b[0;34m)\u001b[0m\u001b[0;34m\u001b[0m\u001b[0;34m\u001b[0m\u001b[0m\n\u001b[0m",
      "\u001b[0;31mNameError\u001b[0m: name 'epoch' is not defined"
     ]
    }
   ],
   "source": [
    "for _ in range(20000):\n",
    "    w11_2,w12_2,w21_2,w22_2,b1,w11_3,w12_3,w21_3,w22_3,b2 = epoch(w11_2,w12_2,w21_2,w22_2,b1,w11_3,w12_3,w21_3,w22_3,b2)"
   ]
  },
  {
   "cell_type": "code",
   "execution_count": 51,
   "metadata": {
    "collapsed": true
   },
   "outputs": [],
   "source": [
    "def predict(w11_2,w12_2,w21_2,w22_2,b1,w11_3,w12_3,w21_3,w22_3,b2):\n",
    "\n",
    "    z1_2 = w11_2 * x1 + w12_2 * x2 + b1 * 1\n",
    "    z2_2 = w21_2 * x1 + w22_2 * x2 + b1 * 1\n",
    "\n",
    "    a1_2 = logistic_function(z1_2)\n",
    "    a2_2 = logistic_function(z2_2)\n",
    "\n",
    "    z1_3 = w11_3 * a1_2 + w12_3 * a2_2 + b2 * 1\n",
    "    z2_3 = w21_3 * a1_2 + w22_3 * a2_2 + b2 * 1\n",
    "\n",
    "    a1_3 = logistic_function(z1_3)\n",
    "    a2_3 = logistic_function(z2_3)\n",
    "    \n",
    "    return a1_3, a2_3"
   ]
  },
  {
   "cell_type": "code",
   "execution_count": 53,
   "metadata": {},
   "outputs": [
    {
     "data": {
      "text/plain": [
       "(0.010633774372091731, 0.9893773083483602)"
      ]
     },
     "execution_count": 53,
     "metadata": {},
     "output_type": "execute_result"
    }
   ],
   "source": [
    "a1_3, a2_3 = predict(w11_2,w12_2,w21_2,w22_2,b1,w11_3,w12_3,w21_3,w22_3,b2)\n",
    "a1_3, a2_3"
   ]
  }
 ],
 "metadata": {
  "kernelspec": {
   "display_name": "Python 3",
   "language": "python",
   "name": "python3"
  },
  "language_info": {
   "codemirror_mode": {
    "name": "ipython",
    "version": 3
   },
   "file_extension": ".py",
   "mimetype": "text/x-python",
   "name": "python",
   "nbconvert_exporter": "python",
   "pygments_lexer": "ipython3",
   "version": "3.7.5"
  }
 },
 "nbformat": 4,
 "nbformat_minor": 1
}
